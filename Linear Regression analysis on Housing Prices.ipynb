{
 "cells": [
  {
   "cell_type": "markdown",
   "metadata": {},
   "source": [
    "# Abstract\n",
    "\n",
    "The aim of this research is to predict the factors affecting the price of a house. The dataset has certain features that determine the popularity of a house which in turn affects its price. My aim is to figure out which of these features are most likely to attract a potential customer and based on what are the prices determined.\n",
    "\n",
    "To achieve this, I have made use of Linear Regression where I have plotted Price as the target variable. I have tested the target variable agaisnt multiple features of the house. \n",
    "I have also used Logistic Regression to determine if a certain feature can be predicted given other variables. "
   ]
  },
  {
   "cell_type": "markdown",
   "metadata": {},
   "source": [
    "# The Data\n",
    "\n",
    "The original dataset for House Pricing can be found on https://www.kaggle.com/greenwing1985/housepricing.\n",
    "\n",
    "The dataset contains sixteen features, each of which are explained below -\n",
    "\n",
    "Area - Area of the house in square feet. (A continuous value)\n",
    "\n",
    "Garage - A multicategorical variable determining if the house has 1,2 or 3 garages.\n",
    "\n",
    "Fireplace - A multicategorical variable determining if there are 0,1,2,3 or 4 fireplaces.\n",
    "\n",
    "Baths - A multicategorical variable determining if there are 1,2,3,4 or 5 Bathrooms.\n",
    "\n",
    "White Marble - A binary variable determining if the house has white marble or not.\n",
    "\n",
    "Black Marble - A binary variable determining if the house has black marble or not.\n",
    "\n",
    "Indian Marble - A binary variable determining if the house has indian marble or not.\n",
    "\n",
    "Floors - A binary variable determining if the house is multifloored.\n",
    "\n",
    "City - A multicategorical variable determining if the house is located in city 1,2 or 3.\n",
    "\n",
    "Solar - A binary variable determining if the house has solar or not.\n",
    "\n",
    "Electric - A binary variable determining if the house has electricity provided or not.\n",
    "\n",
    "Fiber - A binary variable determining if the house has fiber or not.\n",
    "\n",
    "Glass Doors - A binary variable determining if the house has glassdoors or not.\n",
    "\n",
    "Swiming Pool - A binary variable determining if the house has swimming pool or not.\n",
    "\n",
    "Garden - A binary variable determining if the house has garden or not.\n",
    "\n",
    "Prices - A continuous variable showing the price of the house."
   ]
  },
  {
   "cell_type": "code",
   "execution_count": 2307,
   "metadata": {},
   "outputs": [],
   "source": [
    "import matplotlib.pyplot as plt\n",
    "import numpy as np\n",
    "import pandas as pd\n",
    "from scipy import stats\n",
    "import seaborn as sns\n",
    "import statsmodels.formula.api as smapi\n",
    "from statsmodels.stats.outliers_influence import variance_inflation_factor\n",
    "from statsmodels.tools.tools import add_constant\n",
    "import re\n",
    "from sklearn import metrics\n",
    "from sklearn.preprocessing import LabelEncoder\n",
    "from sklearn.model_selection import train_test_split\n",
    "from sklearn.linear_model import LinearRegression\n",
    "from sklearn import linear_model\n",
    "from sklearn.linear_model import Lasso\n",
    "from sklearn.metrics import accuracy_score\n",
    "from sklearn.tree import DecisionTreeRegressor\n",
    "from sklearn.ensemble import RandomForestRegressor\n",
    "from sklearn.metrics import mean_squared_error\n",
    "from sklearn.model_selection import cross_val_score\n",
    "from sklearn.metrics import mean_squared_error, make_scorer\n",
    "from statsmodels.formula.api import ols\n",
    "from sklearn.linear_model import LogisticRegression\n",
    "from sklearn.feature_selection import RFE\n",
    "from sklearn.metrics import confusion_matrix\n",
    "from sklearn.metrics import classification_report\n",
    "from sklearn.linear_model import Ridge\n",
    "from sklearn.linear_model import Lasso\n",
    "from sklearn.preprocessing import LabelEncoder, OneHotEncoder \n",
    "from sklearn.model_selection import train_test_split \n",
    "from statsmodels.stats.outliers_influence import variance_inflation_factor\n",
    "from sklearn.preprocessing import PolynomialFeatures\n",
    "import warnings\n",
    "warnings.filterwarnings('ignore')"
   ]
  },
  {
   "cell_type": "markdown",
   "metadata": {},
   "source": [
    "## Reading the Dataset"
   ]
  },
  {
   "cell_type": "code",
   "execution_count": 2308,
   "metadata": {},
   "outputs": [],
   "source": [
    "# importing the dataset.\n",
    "df=pd.read_csv(\"HousePrices_HalfMil.csv\")"
   ]
  },
  {
   "cell_type": "code",
   "execution_count": 2309,
   "metadata": {},
   "outputs": [
    {
     "data": {
      "text/html": [
       "<div>\n",
       "<style scoped>\n",
       "    .dataframe tbody tr th:only-of-type {\n",
       "        vertical-align: middle;\n",
       "    }\n",
       "\n",
       "    .dataframe tbody tr th {\n",
       "        vertical-align: top;\n",
       "    }\n",
       "\n",
       "    .dataframe thead th {\n",
       "        text-align: right;\n",
       "    }\n",
       "</style>\n",
       "<table border=\"1\" class=\"dataframe\">\n",
       "  <thead>\n",
       "    <tr style=\"text-align: right;\">\n",
       "      <th></th>\n",
       "      <th>Area</th>\n",
       "      <th>Garage</th>\n",
       "      <th>FirePlace</th>\n",
       "      <th>Baths</th>\n",
       "      <th>White Marble</th>\n",
       "      <th>Black Marble</th>\n",
       "      <th>Indian Marble</th>\n",
       "      <th>Floors</th>\n",
       "      <th>City</th>\n",
       "      <th>Solar</th>\n",
       "      <th>Electric</th>\n",
       "      <th>Fiber</th>\n",
       "      <th>Glass Doors</th>\n",
       "      <th>Swiming Pool</th>\n",
       "      <th>Garden</th>\n",
       "      <th>Prices</th>\n",
       "    </tr>\n",
       "  </thead>\n",
       "  <tbody>\n",
       "    <tr>\n",
       "      <th>0</th>\n",
       "      <td>164</td>\n",
       "      <td>2</td>\n",
       "      <td>0</td>\n",
       "      <td>2</td>\n",
       "      <td>0</td>\n",
       "      <td>1</td>\n",
       "      <td>0</td>\n",
       "      <td>0</td>\n",
       "      <td>3</td>\n",
       "      <td>1</td>\n",
       "      <td>1</td>\n",
       "      <td>1</td>\n",
       "      <td>1</td>\n",
       "      <td>0</td>\n",
       "      <td>0</td>\n",
       "      <td>43800</td>\n",
       "    </tr>\n",
       "    <tr>\n",
       "      <th>1</th>\n",
       "      <td>84</td>\n",
       "      <td>2</td>\n",
       "      <td>0</td>\n",
       "      <td>4</td>\n",
       "      <td>0</td>\n",
       "      <td>0</td>\n",
       "      <td>1</td>\n",
       "      <td>1</td>\n",
       "      <td>2</td>\n",
       "      <td>0</td>\n",
       "      <td>0</td>\n",
       "      <td>0</td>\n",
       "      <td>1</td>\n",
       "      <td>1</td>\n",
       "      <td>1</td>\n",
       "      <td>37550</td>\n",
       "    </tr>\n",
       "    <tr>\n",
       "      <th>2</th>\n",
       "      <td>190</td>\n",
       "      <td>2</td>\n",
       "      <td>4</td>\n",
       "      <td>4</td>\n",
       "      <td>1</td>\n",
       "      <td>0</td>\n",
       "      <td>0</td>\n",
       "      <td>0</td>\n",
       "      <td>2</td>\n",
       "      <td>0</td>\n",
       "      <td>0</td>\n",
       "      <td>1</td>\n",
       "      <td>0</td>\n",
       "      <td>0</td>\n",
       "      <td>0</td>\n",
       "      <td>49500</td>\n",
       "    </tr>\n",
       "    <tr>\n",
       "      <th>3</th>\n",
       "      <td>75</td>\n",
       "      <td>2</td>\n",
       "      <td>4</td>\n",
       "      <td>4</td>\n",
       "      <td>0</td>\n",
       "      <td>0</td>\n",
       "      <td>1</td>\n",
       "      <td>1</td>\n",
       "      <td>1</td>\n",
       "      <td>1</td>\n",
       "      <td>1</td>\n",
       "      <td>1</td>\n",
       "      <td>1</td>\n",
       "      <td>1</td>\n",
       "      <td>1</td>\n",
       "      <td>50075</td>\n",
       "    </tr>\n",
       "    <tr>\n",
       "      <th>4</th>\n",
       "      <td>148</td>\n",
       "      <td>1</td>\n",
       "      <td>4</td>\n",
       "      <td>2</td>\n",
       "      <td>1</td>\n",
       "      <td>0</td>\n",
       "      <td>0</td>\n",
       "      <td>1</td>\n",
       "      <td>2</td>\n",
       "      <td>1</td>\n",
       "      <td>0</td>\n",
       "      <td>0</td>\n",
       "      <td>1</td>\n",
       "      <td>1</td>\n",
       "      <td>1</td>\n",
       "      <td>52400</td>\n",
       "    </tr>\n",
       "  </tbody>\n",
       "</table>\n",
       "</div>"
      ],
      "text/plain": [
       "   Area  Garage  FirePlace  Baths  White Marble  Black Marble  Indian Marble  \\\n",
       "0   164       2          0      2             0             1              0   \n",
       "1    84       2          0      4             0             0              1   \n",
       "2   190       2          4      4             1             0              0   \n",
       "3    75       2          4      4             0             0              1   \n",
       "4   148       1          4      2             1             0              0   \n",
       "\n",
       "   Floors  City  Solar  Electric  Fiber  Glass Doors  Swiming Pool  Garden  \\\n",
       "0       0     3      1         1      1            1             0       0   \n",
       "1       1     2      0         0      0            1             1       1   \n",
       "2       0     2      0         0      1            0             0       0   \n",
       "3       1     1      1         1      1            1             1       1   \n",
       "4       1     2      1         0      0            1             1       1   \n",
       "\n",
       "   Prices  \n",
       "0   43800  \n",
       "1   37550  \n",
       "2   49500  \n",
       "3   50075  \n",
       "4   52400  "
      ]
     },
     "execution_count": 2309,
     "metadata": {},
     "output_type": "execute_result"
    }
   ],
   "source": [
    "df.head()"
   ]
  },
  {
   "cell_type": "code",
   "execution_count": 2310,
   "metadata": {},
   "outputs": [
    {
     "data": {
      "text/html": [
       "<div>\n",
       "<style scoped>\n",
       "    .dataframe tbody tr th:only-of-type {\n",
       "        vertical-align: middle;\n",
       "    }\n",
       "\n",
       "    .dataframe tbody tr th {\n",
       "        vertical-align: top;\n",
       "    }\n",
       "\n",
       "    .dataframe thead th {\n",
       "        text-align: right;\n",
       "    }\n",
       "</style>\n",
       "<table border=\"1\" class=\"dataframe\">\n",
       "  <thead>\n",
       "    <tr style=\"text-align: right;\">\n",
       "      <th></th>\n",
       "      <th>Area</th>\n",
       "      <th>Garage</th>\n",
       "      <th>FirePlace</th>\n",
       "      <th>Baths</th>\n",
       "      <th>White Marble</th>\n",
       "      <th>Black Marble</th>\n",
       "      <th>Indian Marble</th>\n",
       "      <th>Floors</th>\n",
       "      <th>City</th>\n",
       "      <th>Solar</th>\n",
       "      <th>Electric</th>\n",
       "      <th>Fiber</th>\n",
       "      <th>Glass Doors</th>\n",
       "      <th>Swiming Pool</th>\n",
       "      <th>Garden</th>\n",
       "      <th>Prices</th>\n",
       "    </tr>\n",
       "  </thead>\n",
       "  <tbody>\n",
       "    <tr>\n",
       "      <th>count</th>\n",
       "      <td>500000.000000</td>\n",
       "      <td>500000.000000</td>\n",
       "      <td>500000.000000</td>\n",
       "      <td>500000.000000</td>\n",
       "      <td>500000.000000</td>\n",
       "      <td>500000.000000</td>\n",
       "      <td>500000.000000</td>\n",
       "      <td>500000.000000</td>\n",
       "      <td>500000.000000</td>\n",
       "      <td>500000.000000</td>\n",
       "      <td>500000.00000</td>\n",
       "      <td>500000.000000</td>\n",
       "      <td>500000.00000</td>\n",
       "      <td>500000.000000</td>\n",
       "      <td>500000.000000</td>\n",
       "      <td>500000.000000</td>\n",
       "    </tr>\n",
       "    <tr>\n",
       "      <th>mean</th>\n",
       "      <td>124.929554</td>\n",
       "      <td>2.001290</td>\n",
       "      <td>2.003398</td>\n",
       "      <td>2.998074</td>\n",
       "      <td>0.332992</td>\n",
       "      <td>0.332690</td>\n",
       "      <td>0.334318</td>\n",
       "      <td>0.499386</td>\n",
       "      <td>2.000940</td>\n",
       "      <td>0.498694</td>\n",
       "      <td>0.50065</td>\n",
       "      <td>0.500468</td>\n",
       "      <td>0.49987</td>\n",
       "      <td>0.500436</td>\n",
       "      <td>0.501646</td>\n",
       "      <td>42050.139350</td>\n",
       "    </tr>\n",
       "    <tr>\n",
       "      <th>std</th>\n",
       "      <td>71.795363</td>\n",
       "      <td>0.817005</td>\n",
       "      <td>1.414021</td>\n",
       "      <td>1.414227</td>\n",
       "      <td>0.471284</td>\n",
       "      <td>0.471177</td>\n",
       "      <td>0.471752</td>\n",
       "      <td>0.500000</td>\n",
       "      <td>0.816209</td>\n",
       "      <td>0.499999</td>\n",
       "      <td>0.50000</td>\n",
       "      <td>0.500000</td>\n",
       "      <td>0.50000</td>\n",
       "      <td>0.500000</td>\n",
       "      <td>0.499998</td>\n",
       "      <td>12110.237201</td>\n",
       "    </tr>\n",
       "    <tr>\n",
       "      <th>min</th>\n",
       "      <td>1.000000</td>\n",
       "      <td>1.000000</td>\n",
       "      <td>0.000000</td>\n",
       "      <td>1.000000</td>\n",
       "      <td>0.000000</td>\n",
       "      <td>0.000000</td>\n",
       "      <td>0.000000</td>\n",
       "      <td>0.000000</td>\n",
       "      <td>1.000000</td>\n",
       "      <td>0.000000</td>\n",
       "      <td>0.00000</td>\n",
       "      <td>0.000000</td>\n",
       "      <td>0.00000</td>\n",
       "      <td>0.000000</td>\n",
       "      <td>0.000000</td>\n",
       "      <td>7725.000000</td>\n",
       "    </tr>\n",
       "    <tr>\n",
       "      <th>25%</th>\n",
       "      <td>63.000000</td>\n",
       "      <td>1.000000</td>\n",
       "      <td>1.000000</td>\n",
       "      <td>2.000000</td>\n",
       "      <td>0.000000</td>\n",
       "      <td>0.000000</td>\n",
       "      <td>0.000000</td>\n",
       "      <td>0.000000</td>\n",
       "      <td>1.000000</td>\n",
       "      <td>0.000000</td>\n",
       "      <td>0.00000</td>\n",
       "      <td>0.000000</td>\n",
       "      <td>0.00000</td>\n",
       "      <td>0.000000</td>\n",
       "      <td>0.000000</td>\n",
       "      <td>33500.000000</td>\n",
       "    </tr>\n",
       "    <tr>\n",
       "      <th>50%</th>\n",
       "      <td>125.000000</td>\n",
       "      <td>2.000000</td>\n",
       "      <td>2.000000</td>\n",
       "      <td>3.000000</td>\n",
       "      <td>0.000000</td>\n",
       "      <td>0.000000</td>\n",
       "      <td>0.000000</td>\n",
       "      <td>0.000000</td>\n",
       "      <td>2.000000</td>\n",
       "      <td>0.000000</td>\n",
       "      <td>1.00000</td>\n",
       "      <td>1.000000</td>\n",
       "      <td>0.00000</td>\n",
       "      <td>1.000000</td>\n",
       "      <td>1.000000</td>\n",
       "      <td>41850.000000</td>\n",
       "    </tr>\n",
       "    <tr>\n",
       "      <th>75%</th>\n",
       "      <td>187.000000</td>\n",
       "      <td>3.000000</td>\n",
       "      <td>3.000000</td>\n",
       "      <td>4.000000</td>\n",
       "      <td>1.000000</td>\n",
       "      <td>1.000000</td>\n",
       "      <td>1.000000</td>\n",
       "      <td>1.000000</td>\n",
       "      <td>3.000000</td>\n",
       "      <td>1.000000</td>\n",
       "      <td>1.00000</td>\n",
       "      <td>1.000000</td>\n",
       "      <td>1.00000</td>\n",
       "      <td>1.000000</td>\n",
       "      <td>1.000000</td>\n",
       "      <td>50750.000000</td>\n",
       "    </tr>\n",
       "    <tr>\n",
       "      <th>max</th>\n",
       "      <td>249.000000</td>\n",
       "      <td>3.000000</td>\n",
       "      <td>4.000000</td>\n",
       "      <td>5.000000</td>\n",
       "      <td>1.000000</td>\n",
       "      <td>1.000000</td>\n",
       "      <td>1.000000</td>\n",
       "      <td>1.000000</td>\n",
       "      <td>3.000000</td>\n",
       "      <td>1.000000</td>\n",
       "      <td>1.00000</td>\n",
       "      <td>1.000000</td>\n",
       "      <td>1.00000</td>\n",
       "      <td>1.000000</td>\n",
       "      <td>1.000000</td>\n",
       "      <td>77975.000000</td>\n",
       "    </tr>\n",
       "  </tbody>\n",
       "</table>\n",
       "</div>"
      ],
      "text/plain": [
       "                Area         Garage      FirePlace          Baths  \\\n",
       "count  500000.000000  500000.000000  500000.000000  500000.000000   \n",
       "mean      124.929554       2.001290       2.003398       2.998074   \n",
       "std        71.795363       0.817005       1.414021       1.414227   \n",
       "min         1.000000       1.000000       0.000000       1.000000   \n",
       "25%        63.000000       1.000000       1.000000       2.000000   \n",
       "50%       125.000000       2.000000       2.000000       3.000000   \n",
       "75%       187.000000       3.000000       3.000000       4.000000   \n",
       "max       249.000000       3.000000       4.000000       5.000000   \n",
       "\n",
       "        White Marble   Black Marble  Indian Marble         Floors  \\\n",
       "count  500000.000000  500000.000000  500000.000000  500000.000000   \n",
       "mean        0.332992       0.332690       0.334318       0.499386   \n",
       "std         0.471284       0.471177       0.471752       0.500000   \n",
       "min         0.000000       0.000000       0.000000       0.000000   \n",
       "25%         0.000000       0.000000       0.000000       0.000000   \n",
       "50%         0.000000       0.000000       0.000000       0.000000   \n",
       "75%         1.000000       1.000000       1.000000       1.000000   \n",
       "max         1.000000       1.000000       1.000000       1.000000   \n",
       "\n",
       "                City          Solar      Electric          Fiber  \\\n",
       "count  500000.000000  500000.000000  500000.00000  500000.000000   \n",
       "mean        2.000940       0.498694       0.50065       0.500468   \n",
       "std         0.816209       0.499999       0.50000       0.500000   \n",
       "min         1.000000       0.000000       0.00000       0.000000   \n",
       "25%         1.000000       0.000000       0.00000       0.000000   \n",
       "50%         2.000000       0.000000       1.00000       1.000000   \n",
       "75%         3.000000       1.000000       1.00000       1.000000   \n",
       "max         3.000000       1.000000       1.00000       1.000000   \n",
       "\n",
       "        Glass Doors   Swiming Pool         Garden         Prices  \n",
       "count  500000.00000  500000.000000  500000.000000  500000.000000  \n",
       "mean        0.49987       0.500436       0.501646   42050.139350  \n",
       "std         0.50000       0.500000       0.499998   12110.237201  \n",
       "min         0.00000       0.000000       0.000000    7725.000000  \n",
       "25%         0.00000       0.000000       0.000000   33500.000000  \n",
       "50%         0.00000       1.000000       1.000000   41850.000000  \n",
       "75%         1.00000       1.000000       1.000000   50750.000000  \n",
       "max         1.00000       1.000000       1.000000   77975.000000  "
      ]
     },
     "execution_count": 2310,
     "metadata": {},
     "output_type": "execute_result"
    }
   ],
   "source": [
    "df.describe()"
   ]
  },
  {
   "cell_type": "code",
   "execution_count": 2311,
   "metadata": {},
   "outputs": [
    {
     "name": "stdout",
     "output_type": "stream",
     "text": [
      "There are 500000 rows and 16 columns\n"
     ]
    }
   ],
   "source": [
    "#Checking the number of rows and columns present in the dataset.\n",
    "nRow, nCol = df.shape\n",
    "print(f'There are {nRow} rows and {nCol} columns')"
   ]
  },
  {
   "cell_type": "markdown",
   "metadata": {},
   "source": [
    "## Performing EDA to check for any null values "
   ]
  },
  {
   "cell_type": "code",
   "execution_count": 2312,
   "metadata": {},
   "outputs": [
    {
     "data": {
      "text/plain": [
       "False"
      ]
     },
     "execution_count": 2312,
     "metadata": {},
     "output_type": "execute_result"
    }
   ],
   "source": [
    "#Checks if any null value is present in the dataset.\n",
    "df.isnull().values.any()"
   ]
  },
  {
   "cell_type": "code",
   "execution_count": 2313,
   "metadata": {},
   "outputs": [
    {
     "data": {
      "text/plain": [
       "Area             0\n",
       "Garage           0\n",
       "FirePlace        0\n",
       "Baths            0\n",
       "White Marble     0\n",
       "Black Marble     0\n",
       "Indian Marble    0\n",
       "Floors           0\n",
       "City             0\n",
       "Solar            0\n",
       "Electric         0\n",
       "Fiber            0\n",
       "Glass Doors      0\n",
       "Swiming Pool     0\n",
       "Garden           0\n",
       "Prices           0\n",
       "dtype: int64"
      ]
     },
     "execution_count": 2313,
     "metadata": {},
     "output_type": "execute_result"
    }
   ],
   "source": [
    "df.isnull().sum()"
   ]
  },
  {
   "cell_type": "code",
   "execution_count": 2314,
   "metadata": {},
   "outputs": [],
   "source": [
    "np.random.seed(sum(map(ord, \"distributions\")))"
   ]
  },
  {
   "cell_type": "code",
   "execution_count": 2315,
   "metadata": {},
   "outputs": [
    {
     "data": {
      "text/plain": [
       "<matplotlib.axes._subplots.AxesSubplot at 0x214ddcbbcf8>"
      ]
     },
     "execution_count": 2315,
     "metadata": {},
     "output_type": "execute_result"
    },
    {
     "data": {
      "image/png": "[encoded data removed]",
      "text/plain": [
       "<Figure size 432x288 with 1 Axes>"
      ]
     },
     "metadata": {},
     "output_type": "display_data"
    }
   ],
   "source": [
    "#Plotting a boxplot for Prices to check where the maximum concentration of prices lie. \n",
    "#This gives us an idea about the median house prices.\n",
    "sns.boxplot(np.array(df['Prices']))"
   ]
  },
  {
   "cell_type": "code",
   "execution_count": 2316,
   "metadata": {},
   "outputs": [
    {
     "data": {
      "text/plain": [
       "<matplotlib.axes._subplots.AxesSubplot at 0x214ddce3dd8>"
      ]
     },
     "execution_count": 2316,
     "metadata": {},
     "output_type": "execute_result"
    },
    {
     "data": {
      "image/png": "[encoded data removed]",
      "text/plain": [
       "<Figure size 432x288 with 1 Axes>"
      ]
     },
     "metadata": {},
     "output_type": "display_data"
    }
   ],
   "source": [
    "#Plotting a boxplot to check where the median of Area lies.\n",
    "sns.boxplot(np.array(df['Area']))"
   ]
  },
  {
   "cell_type": "markdown",
   "metadata": {},
   "source": [
    "## Since 'Prices' is set as target variable, I am plotting a heatmap to check which features have the highest correlation with Prices. "
   ]
  },
  {
   "cell_type": "markdown",
   "metadata": {},
   "source": [
    "As we can see from the heatmap, Floors, Fiber and White Marble have a high correlation with Prices"
   ]
  },
  {
   "cell_type": "code",
   "execution_count": 2317,
   "metadata": {},
   "outputs": [
    {
     "data": {
      "image/png": "[encoded data removed]",
      "text/plain": [
       "<Figure size 1152x864 with 2 Axes>"
      ]
     },
     "metadata": {},
     "output_type": "display_data"
    }
   ],
   "source": [
    "plt.figure(figsize=(16,12))\n",
    "sns.heatmap(data=df.iloc[:,:].corr(),annot=True,fmt='.2f',cmap='coolwarm')\n",
    "plt.show()"
   ]
  },
  {
   "cell_type": "code",
   "execution_count": 2318,
   "metadata": {},
   "outputs": [],
   "source": [
    "# choose attributes which shows relation\n",
    "xValues = df[['White Marble','Indian Marble','Prices','Floors','City','Fiber']]\n",
    "yValues = df[['Black Marble', 'Area','Prices','Baths','Glass Doors']]"
   ]
  },
  {
   "cell_type": "code",
   "execution_count": 2319,
   "metadata": {},
   "outputs": [
    {
     "data": {
      "text/plain": [
       "<matplotlib.axes._subplots.AxesSubplot at 0x2150483d208>"
      ]
     },
     "execution_count": 2319,
     "metadata": {},
     "output_type": "execute_result"
    },
    {
     "data": {
      "image/png": "[encoded data removed]",
      "text/plain": [
       "<Figure size 432x288 with 2 Axes>"
      ]
     },
     "metadata": {},
     "output_type": "display_data"
    }
   ],
   "source": [
    "# show corr of the same\n",
    "sns.heatmap(xValues.corr(), annot=True)"
   ]
  },
  {
   "cell_type": "code",
   "execution_count": 2320,
   "metadata": {},
   "outputs": [
    {
     "data": {
      "text/plain": [
       "<matplotlib.axes._subplots.AxesSubplot at 0x21507bae9b0>"
      ]
     },
     "execution_count": 2320,
     "metadata": {},
     "output_type": "execute_result"
    },
    {
     "data": {
      "image/png": "[encoded data removed]",
      "text/plain": [
       "<Figure size 432x288 with 2 Axes>"
      ]
     },
     "metadata": {},
     "output_type": "display_data"
    }
   ],
   "source": [
    "#Choosing attributes that showed low correlation with prices.\n",
    "sns.heatmap(yValues.corr(), annot=True)"
   ]
  },
  {
   "cell_type": "code",
   "execution_count": 2321,
   "metadata": {},
   "outputs": [
    {
     "data": {
      "text/plain": [
       "(500000, 16)"
      ]
     },
     "execution_count": 2321,
     "metadata": {},
     "output_type": "execute_result"
    }
   ],
   "source": [
    "#The number of rows and columns in the dataset.\n",
    "df.shape"
   ]
  },
  {
   "cell_type": "code",
   "execution_count": 2322,
   "metadata": {},
   "outputs": [
    {
     "name": "stderr",
     "output_type": "stream",
     "text": [
      "'c' argument looks like a single numeric RGB or RGBA sequence, which should be avoided as value-mapping will have precedence in case its length matches with 'x' & 'y'.  Please use a 2-D array with a single row if you really want to specify the same RGB or RGBA value for all points.\n"
     ]
    },
    {
     "data": {
      "text/plain": [
       "<matplotlib.axes._subplots.AxesSubplot at 0x21507c49a58>"
      ]
     },
     "execution_count": 2322,
     "metadata": {},
     "output_type": "execute_result"
    },
    {
     "data": {
      "image/png": "[encoded data removed]",
      "text/plain": [
       "<Figure size 432x288 with 1 Axes>"
      ]
     },
     "metadata": {},
     "output_type": "display_data"
    }
   ],
   "source": [
    "#Plotting a scatter plot to check the price range for houses that have either 0-single floored or 1-multifloored.\n",
    "#As we can see, the houses with multifloors lie in the higher end of Prices.\n",
    "df.plot(kind='scatter', x='Floors',y='Prices')"
   ]
  },
  {
   "cell_type": "code",
   "execution_count": 2323,
   "metadata": {},
   "outputs": [
    {
     "name": "stderr",
     "output_type": "stream",
     "text": [
      "'c' argument looks like a single numeric RGB or RGBA sequence, which should be avoided as value-mapping will have precedence in case its length matches with 'x' & 'y'.  Please use a 2-D array with a single row if you really want to specify the same RGB or RGBA value for all points.\n"
     ]
    },
    {
     "data": {
      "text/plain": [
       "<matplotlib.axes._subplots.AxesSubplot at 0x21507c999e8>"
      ]
     },
     "execution_count": 2323,
     "metadata": {},
     "output_type": "execute_result"
    },
    {
     "data": {
      "image/png": "[encoded data removed]",
      "text/plain": [
       "<Figure size 432x288 with 1 Axes>"
      ]
     },
     "metadata": {},
     "output_type": "display_data"
    }
   ],
   "source": [
    "#Plotting a scatter plot to check the price range for houses that have either have or dont have Fiber\n",
    "#As we can see, the houses with Fiber lie in the higher end of Prices.\n",
    "df.plot(kind='scatter', x='Fiber',y='Prices')"
   ]
  },
  {
   "cell_type": "markdown",
   "metadata": {},
   "source": [
    "From the below scatter plot, we can observe that the number of fireplaces almost does not affect the price of the house as they almost lie within the same range."
   ]
  },
  {
   "cell_type": "code",
   "execution_count": 2324,
   "metadata": {},
   "outputs": [
    {
     "name": "stderr",
     "output_type": "stream",
     "text": [
      "'c' argument looks like a single numeric RGB or RGBA sequence, which should be avoided as value-mapping will have precedence in case its length matches with 'x' & 'y'.  Please use a 2-D array with a single row if you really want to specify the same RGB or RGBA value for all points.\n"
     ]
    },
    {
     "data": {
      "text/plain": [
       "<matplotlib.axes._subplots.AxesSubplot at 0x21507c49a90>"
      ]
     },
     "execution_count": 2324,
     "metadata": {},
     "output_type": "execute_result"
    },
    {
     "data": {
      "image/png": "[encoded data removed]",
      "text/plain": [
       "<Figure size 432x288 with 1 Axes>"
      ]
     },
     "metadata": {},
     "output_type": "display_data"
    }
   ],
   "source": [
    "df.plot(kind='scatter', x='FirePlace',y='Prices')"
   ]
  },
  {
   "cell_type": "code",
   "execution_count": 2325,
   "metadata": {},
   "outputs": [
    {
     "name": "stderr",
     "output_type": "stream",
     "text": [
      "'c' argument looks like a single numeric RGB or RGBA sequence, which should be avoided as value-mapping will have precedence in case its length matches with 'x' & 'y'.  Please use a 2-D array with a single row if you really want to specify the same RGB or RGBA value for all points.\n"
     ]
    },
    {
     "data": {
      "text/plain": [
       "<matplotlib.axes._subplots.AxesSubplot at 0x21507d71e48>"
      ]
     },
     "execution_count": 2325,
     "metadata": {},
     "output_type": "execute_result"
    },
    {
     "data": {
      "image/png": "[encoded data removed]",
      "text/plain": [
       "<Figure size 432x288 with 1 Axes>"
      ]
     },
     "metadata": {},
     "output_type": "display_data"
    }
   ],
   "source": [
    "df.plot(kind='scatter', x='Area',y='Prices')"
   ]
  },
  {
   "cell_type": "code",
   "execution_count": 2326,
   "metadata": {},
   "outputs": [],
   "source": [
    "#Renaming the columns.\n",
    "df.rename(columns={'White Marble': 'WhiteMarble', 'Black Marble': 'BlackMarble','Indian Marble':'IndianMarble','Glass Doors':'GlassDoor','Swiming Pool':'SwimmingPool'}, inplace=True)"
   ]
  },
  {
   "cell_type": "markdown",
   "metadata": {},
   "source": [
    "## In supervised learning, we feed the algorithm a dataset in which the right answers are given, we then test it to check if it can predict more right answers for any future data that is fed into it. This is called a Regression Problem.\n",
    "## We are going to use two supervised regression models - Linear and Logistic to study these data trends in detail"
   ]
  },
  {
   "cell_type": "markdown",
   "metadata": {},
   "source": [
    "Setting up the features which we are using to predict the price of the model. "
   ]
  },
  {
   "cell_type": "code",
   "execution_count": 2327,
   "metadata": {},
   "outputs": [],
   "source": [
    "x = df[['Area','Garage','FirePlace','Baths','WhiteMarble','BlackMarble','IndianMarble','Floors','City','Solar','Electric','Fiber','GlassDoor','SwimmingPool','Garden']]\n",
    "target = df[['Prices']]"
   ]
  },
  {
   "cell_type": "markdown",
   "metadata": {},
   "source": [
    "Dividing the dataset into two parts.\n",
    "The training set is used to feed the data to the algorithm, and picking these values the algorithm learns the data trends. We hope for the algorithm to predict the output accurately for any data that we feed into it after training it.\n",
    "To test if the algorithm is reading the data right, we have a test set.\n",
    "The test set is not shown to the algorithm. We check the accuracy of the test set to see how well the data was interpreted by our algorithm. "
   ]
  },
  {
   "cell_type": "code",
   "execution_count": 2328,
   "metadata": {},
   "outputs": [],
   "source": [
    "#Diving the dataset into training and testing sets.\n",
    "#70% of the dataset is used for training the algorithm, 20% is used for testing.\n",
    "x_train, x_test , target_train, target_test = train_test_split(x,target,train_size = 0.7)"
   ]
  },
  {
   "cell_type": "code",
   "execution_count": 2329,
   "metadata": {},
   "outputs": [
    {
     "data": {
      "text/plain": [
       "(350000, 15)"
      ]
     },
     "execution_count": 2329,
     "metadata": {},
     "output_type": "execute_result"
    }
   ],
   "source": [
    "#Checking the number of rows and columns used for training. \n",
    "x_train.shape"
   ]
  },
  {
   "cell_type": "code",
   "execution_count": 2330,
   "metadata": {},
   "outputs": [
    {
     "data": {
      "text/plain": [
       "(150000, 15)"
      ]
     },
     "execution_count": 2330,
     "metadata": {},
     "output_type": "execute_result"
    }
   ],
   "source": [
    "x_test.shape"
   ]
  },
  {
   "cell_type": "code",
   "execution_count": 2331,
   "metadata": {},
   "outputs": [
    {
     "data": {
      "text/plain": [
       "(350000, 1)"
      ]
     },
     "execution_count": 2331,
     "metadata": {},
     "output_type": "execute_result"
    }
   ],
   "source": [
    "#Checking the number of rows and columns used for training the target. \n",
    "target_train.shape"
   ]
  },
  {
   "cell_type": "code",
   "execution_count": 2332,
   "metadata": {},
   "outputs": [
    {
     "data": {
      "text/plain": [
       "(150000, 1)"
      ]
     },
     "execution_count": 2332,
     "metadata": {},
     "output_type": "execute_result"
    }
   ],
   "source": [
    "target_test.shape"
   ]
  },
  {
   "cell_type": "code",
   "execution_count": 2333,
   "metadata": {},
   "outputs": [
    {
     "data": {
      "text/plain": [
       "LinearRegression(copy_X=True, fit_intercept=True, n_jobs=None,\n",
       "         normalize=False)"
      ]
     },
     "execution_count": 2333,
     "metadata": {},
     "output_type": "execute_result"
    }
   ],
   "source": [
    "#Using a simple linear regression model\n",
    "linear_model = LinearRegression()\n",
    "linear_model.fit(x,target)"
   ]
  },
  {
   "cell_type": "code",
   "execution_count": 2334,
   "metadata": {},
   "outputs": [],
   "source": [
    "#Predicting the output.\n",
    "predict_y = linear_model.predict(x_test)"
   ]
  },
  {
   "cell_type": "code",
   "execution_count": 2335,
   "metadata": {},
   "outputs": [
    {
     "name": "stdout",
     "output_type": "stream",
     "text": [
      "[[35400.]\n",
      " [32775.]\n",
      " [54400.]\n",
      " ...\n",
      " [52750.]\n",
      " [45100.]\n",
      " [24475.]]\n"
     ]
    }
   ],
   "source": [
    "print (predict_y)"
   ]
  },
  {
   "cell_type": "code",
   "execution_count": 2336,
   "metadata": {},
   "outputs": [
    {
     "data": {
      "text/html": [
       "<div>\n",
       "<style scoped>\n",
       "    .dataframe tbody tr th:only-of-type {\n",
       "        vertical-align: middle;\n",
       "    }\n",
       "\n",
       "    .dataframe tbody tr th {\n",
       "        vertical-align: top;\n",
       "    }\n",
       "\n",
       "    .dataframe thead th {\n",
       "        text-align: right;\n",
       "    }\n",
       "</style>\n",
       "<table border=\"1\" class=\"dataframe\">\n",
       "  <thead>\n",
       "    <tr style=\"text-align: right;\">\n",
       "      <th></th>\n",
       "      <th>Area</th>\n",
       "      <th>Garage</th>\n",
       "      <th>FirePlace</th>\n",
       "      <th>Baths</th>\n",
       "      <th>WhiteMarble</th>\n",
       "      <th>BlackMarble</th>\n",
       "      <th>IndianMarble</th>\n",
       "      <th>Floors</th>\n",
       "      <th>City</th>\n",
       "      <th>Solar</th>\n",
       "      <th>Electric</th>\n",
       "      <th>Fiber</th>\n",
       "      <th>GlassDoor</th>\n",
       "      <th>SwimmingPool</th>\n",
       "      <th>Garden</th>\n",
       "    </tr>\n",
       "  </thead>\n",
       "  <tbody>\n",
       "    <tr>\n",
       "      <th>112499</th>\n",
       "      <td>176</td>\n",
       "      <td>3</td>\n",
       "      <td>3</td>\n",
       "      <td>5</td>\n",
       "      <td>0</td>\n",
       "      <td>1</td>\n",
       "      <td>0</td>\n",
       "      <td>0</td>\n",
       "      <td>3</td>\n",
       "      <td>1</td>\n",
       "      <td>1</td>\n",
       "      <td>0</td>\n",
       "      <td>0</td>\n",
       "      <td>0</td>\n",
       "      <td>1</td>\n",
       "    </tr>\n",
       "    <tr>\n",
       "      <th>288065</th>\n",
       "      <td>121</td>\n",
       "      <td>2</td>\n",
       "      <td>3</td>\n",
       "      <td>1</td>\n",
       "      <td>1</td>\n",
       "      <td>0</td>\n",
       "      <td>0</td>\n",
       "      <td>0</td>\n",
       "      <td>2</td>\n",
       "      <td>0</td>\n",
       "      <td>1</td>\n",
       "      <td>0</td>\n",
       "      <td>0</td>\n",
       "      <td>0</td>\n",
       "      <td>0</td>\n",
       "    </tr>\n",
       "    <tr>\n",
       "      <th>240721</th>\n",
       "      <td>168</td>\n",
       "      <td>2</td>\n",
       "      <td>2</td>\n",
       "      <td>1</td>\n",
       "      <td>0</td>\n",
       "      <td>1</td>\n",
       "      <td>0</td>\n",
       "      <td>1</td>\n",
       "      <td>2</td>\n",
       "      <td>1</td>\n",
       "      <td>0</td>\n",
       "      <td>1</td>\n",
       "      <td>1</td>\n",
       "      <td>1</td>\n",
       "      <td>0</td>\n",
       "    </tr>\n",
       "    <tr>\n",
       "      <th>124101</th>\n",
       "      <td>205</td>\n",
       "      <td>1</td>\n",
       "      <td>2</td>\n",
       "      <td>5</td>\n",
       "      <td>0</td>\n",
       "      <td>1</td>\n",
       "      <td>0</td>\n",
       "      <td>1</td>\n",
       "      <td>3</td>\n",
       "      <td>0</td>\n",
       "      <td>0</td>\n",
       "      <td>1</td>\n",
       "      <td>1</td>\n",
       "      <td>1</td>\n",
       "      <td>0</td>\n",
       "    </tr>\n",
       "    <tr>\n",
       "      <th>249394</th>\n",
       "      <td>237</td>\n",
       "      <td>1</td>\n",
       "      <td>4</td>\n",
       "      <td>3</td>\n",
       "      <td>0</td>\n",
       "      <td>1</td>\n",
       "      <td>0</td>\n",
       "      <td>1</td>\n",
       "      <td>1</td>\n",
       "      <td>1</td>\n",
       "      <td>0</td>\n",
       "      <td>1</td>\n",
       "      <td>1</td>\n",
       "      <td>0</td>\n",
       "      <td>0</td>\n",
       "    </tr>\n",
       "    <tr>\n",
       "      <th>244483</th>\n",
       "      <td>1</td>\n",
       "      <td>2</td>\n",
       "      <td>1</td>\n",
       "      <td>4</td>\n",
       "      <td>0</td>\n",
       "      <td>1</td>\n",
       "      <td>0</td>\n",
       "      <td>0</td>\n",
       "      <td>2</td>\n",
       "      <td>1</td>\n",
       "      <td>1</td>\n",
       "      <td>0</td>\n",
       "      <td>1</td>\n",
       "      <td>0</td>\n",
       "      <td>0</td>\n",
       "    </tr>\n",
       "    <tr>\n",
       "      <th>340730</th>\n",
       "      <td>81</td>\n",
       "      <td>2</td>\n",
       "      <td>3</td>\n",
       "      <td>4</td>\n",
       "      <td>1</td>\n",
       "      <td>0</td>\n",
       "      <td>0</td>\n",
       "      <td>1</td>\n",
       "      <td>3</td>\n",
       "      <td>1</td>\n",
       "      <td>0</td>\n",
       "      <td>0</td>\n",
       "      <td>1</td>\n",
       "      <td>1</td>\n",
       "      <td>0</td>\n",
       "    </tr>\n",
       "    <tr>\n",
       "      <th>392330</th>\n",
       "      <td>96</td>\n",
       "      <td>3</td>\n",
       "      <td>0</td>\n",
       "      <td>5</td>\n",
       "      <td>1</td>\n",
       "      <td>0</td>\n",
       "      <td>0</td>\n",
       "      <td>0</td>\n",
       "      <td>3</td>\n",
       "      <td>1</td>\n",
       "      <td>0</td>\n",
       "      <td>0</td>\n",
       "      <td>0</td>\n",
       "      <td>0</td>\n",
       "      <td>1</td>\n",
       "    </tr>\n",
       "    <tr>\n",
       "      <th>40720</th>\n",
       "      <td>101</td>\n",
       "      <td>2</td>\n",
       "      <td>2</td>\n",
       "      <td>2</td>\n",
       "      <td>0</td>\n",
       "      <td>1</td>\n",
       "      <td>0</td>\n",
       "      <td>1</td>\n",
       "      <td>2</td>\n",
       "      <td>1</td>\n",
       "      <td>1</td>\n",
       "      <td>1</td>\n",
       "      <td>1</td>\n",
       "      <td>1</td>\n",
       "      <td>0</td>\n",
       "    </tr>\n",
       "    <tr>\n",
       "      <th>243843</th>\n",
       "      <td>69</td>\n",
       "      <td>1</td>\n",
       "      <td>0</td>\n",
       "      <td>1</td>\n",
       "      <td>0</td>\n",
       "      <td>0</td>\n",
       "      <td>1</td>\n",
       "      <td>0</td>\n",
       "      <td>2</td>\n",
       "      <td>0</td>\n",
       "      <td>1</td>\n",
       "      <td>1</td>\n",
       "      <td>0</td>\n",
       "      <td>1</td>\n",
       "      <td>1</td>\n",
       "    </tr>\n",
       "    <tr>\n",
       "      <th>20822</th>\n",
       "      <td>29</td>\n",
       "      <td>3</td>\n",
       "      <td>2</td>\n",
       "      <td>4</td>\n",
       "      <td>0</td>\n",
       "      <td>0</td>\n",
       "      <td>1</td>\n",
       "      <td>0</td>\n",
       "      <td>3</td>\n",
       "      <td>1</td>\n",
       "      <td>0</td>\n",
       "      <td>1</td>\n",
       "      <td>1</td>\n",
       "      <td>1</td>\n",
       "      <td>1</td>\n",
       "    </tr>\n",
       "    <tr>\n",
       "      <th>295828</th>\n",
       "      <td>214</td>\n",
       "      <td>2</td>\n",
       "      <td>3</td>\n",
       "      <td>4</td>\n",
       "      <td>1</td>\n",
       "      <td>0</td>\n",
       "      <td>0</td>\n",
       "      <td>1</td>\n",
       "      <td>2</td>\n",
       "      <td>0</td>\n",
       "      <td>0</td>\n",
       "      <td>1</td>\n",
       "      <td>0</td>\n",
       "      <td>0</td>\n",
       "      <td>1</td>\n",
       "    </tr>\n",
       "    <tr>\n",
       "      <th>439967</th>\n",
       "      <td>40</td>\n",
       "      <td>3</td>\n",
       "      <td>2</td>\n",
       "      <td>2</td>\n",
       "      <td>1</td>\n",
       "      <td>0</td>\n",
       "      <td>0</td>\n",
       "      <td>0</td>\n",
       "      <td>3</td>\n",
       "      <td>1</td>\n",
       "      <td>0</td>\n",
       "      <td>0</td>\n",
       "      <td>0</td>\n",
       "      <td>0</td>\n",
       "      <td>0</td>\n",
       "    </tr>\n",
       "    <tr>\n",
       "      <th>128274</th>\n",
       "      <td>209</td>\n",
       "      <td>3</td>\n",
       "      <td>2</td>\n",
       "      <td>2</td>\n",
       "      <td>1</td>\n",
       "      <td>0</td>\n",
       "      <td>0</td>\n",
       "      <td>0</td>\n",
       "      <td>2</td>\n",
       "      <td>1</td>\n",
       "      <td>1</td>\n",
       "      <td>1</td>\n",
       "      <td>0</td>\n",
       "      <td>1</td>\n",
       "      <td>0</td>\n",
       "    </tr>\n",
       "    <tr>\n",
       "      <th>378847</th>\n",
       "      <td>160</td>\n",
       "      <td>3</td>\n",
       "      <td>2</td>\n",
       "      <td>4</td>\n",
       "      <td>1</td>\n",
       "      <td>0</td>\n",
       "      <td>0</td>\n",
       "      <td>1</td>\n",
       "      <td>3</td>\n",
       "      <td>1</td>\n",
       "      <td>0</td>\n",
       "      <td>1</td>\n",
       "      <td>1</td>\n",
       "      <td>1</td>\n",
       "      <td>0</td>\n",
       "    </tr>\n",
       "    <tr>\n",
       "      <th>57212</th>\n",
       "      <td>147</td>\n",
       "      <td>1</td>\n",
       "      <td>4</td>\n",
       "      <td>5</td>\n",
       "      <td>0</td>\n",
       "      <td>1</td>\n",
       "      <td>0</td>\n",
       "      <td>1</td>\n",
       "      <td>2</td>\n",
       "      <td>0</td>\n",
       "      <td>1</td>\n",
       "      <td>0</td>\n",
       "      <td>0</td>\n",
       "      <td>0</td>\n",
       "      <td>1</td>\n",
       "    </tr>\n",
       "    <tr>\n",
       "      <th>237936</th>\n",
       "      <td>95</td>\n",
       "      <td>2</td>\n",
       "      <td>3</td>\n",
       "      <td>4</td>\n",
       "      <td>1</td>\n",
       "      <td>0</td>\n",
       "      <td>0</td>\n",
       "      <td>0</td>\n",
       "      <td>2</td>\n",
       "      <td>0</td>\n",
       "      <td>0</td>\n",
       "      <td>0</td>\n",
       "      <td>1</td>\n",
       "      <td>1</td>\n",
       "      <td>0</td>\n",
       "    </tr>\n",
       "    <tr>\n",
       "      <th>404785</th>\n",
       "      <td>201</td>\n",
       "      <td>2</td>\n",
       "      <td>2</td>\n",
       "      <td>5</td>\n",
       "      <td>0</td>\n",
       "      <td>0</td>\n",
       "      <td>1</td>\n",
       "      <td>0</td>\n",
       "      <td>1</td>\n",
       "      <td>0</td>\n",
       "      <td>0</td>\n",
       "      <td>0</td>\n",
       "      <td>1</td>\n",
       "      <td>0</td>\n",
       "      <td>1</td>\n",
       "    </tr>\n",
       "    <tr>\n",
       "      <th>192651</th>\n",
       "      <td>70</td>\n",
       "      <td>1</td>\n",
       "      <td>0</td>\n",
       "      <td>3</td>\n",
       "      <td>0</td>\n",
       "      <td>1</td>\n",
       "      <td>0</td>\n",
       "      <td>1</td>\n",
       "      <td>2</td>\n",
       "      <td>0</td>\n",
       "      <td>1</td>\n",
       "      <td>1</td>\n",
       "      <td>0</td>\n",
       "      <td>1</td>\n",
       "      <td>1</td>\n",
       "    </tr>\n",
       "    <tr>\n",
       "      <th>110705</th>\n",
       "      <td>91</td>\n",
       "      <td>3</td>\n",
       "      <td>1</td>\n",
       "      <td>1</td>\n",
       "      <td>0</td>\n",
       "      <td>0</td>\n",
       "      <td>1</td>\n",
       "      <td>1</td>\n",
       "      <td>3</td>\n",
       "      <td>1</td>\n",
       "      <td>1</td>\n",
       "      <td>1</td>\n",
       "      <td>1</td>\n",
       "      <td>1</td>\n",
       "      <td>0</td>\n",
       "    </tr>\n",
       "    <tr>\n",
       "      <th>306385</th>\n",
       "      <td>44</td>\n",
       "      <td>3</td>\n",
       "      <td>3</td>\n",
       "      <td>3</td>\n",
       "      <td>0</td>\n",
       "      <td>0</td>\n",
       "      <td>1</td>\n",
       "      <td>0</td>\n",
       "      <td>2</td>\n",
       "      <td>1</td>\n",
       "      <td>1</td>\n",
       "      <td>1</td>\n",
       "      <td>0</td>\n",
       "      <td>1</td>\n",
       "      <td>0</td>\n",
       "    </tr>\n",
       "    <tr>\n",
       "      <th>291248</th>\n",
       "      <td>3</td>\n",
       "      <td>2</td>\n",
       "      <td>3</td>\n",
       "      <td>2</td>\n",
       "      <td>1</td>\n",
       "      <td>0</td>\n",
       "      <td>0</td>\n",
       "      <td>1</td>\n",
       "      <td>1</td>\n",
       "      <td>0</td>\n",
       "      <td>1</td>\n",
       "      <td>1</td>\n",
       "      <td>1</td>\n",
       "      <td>0</td>\n",
       "      <td>1</td>\n",
       "    </tr>\n",
       "    <tr>\n",
       "      <th>487961</th>\n",
       "      <td>118</td>\n",
       "      <td>2</td>\n",
       "      <td>3</td>\n",
       "      <td>4</td>\n",
       "      <td>0</td>\n",
       "      <td>1</td>\n",
       "      <td>0</td>\n",
       "      <td>0</td>\n",
       "      <td>1</td>\n",
       "      <td>1</td>\n",
       "      <td>0</td>\n",
       "      <td>0</td>\n",
       "      <td>1</td>\n",
       "      <td>1</td>\n",
       "      <td>0</td>\n",
       "    </tr>\n",
       "    <tr>\n",
       "      <th>199571</th>\n",
       "      <td>140</td>\n",
       "      <td>1</td>\n",
       "      <td>1</td>\n",
       "      <td>1</td>\n",
       "      <td>0</td>\n",
       "      <td>1</td>\n",
       "      <td>0</td>\n",
       "      <td>1</td>\n",
       "      <td>1</td>\n",
       "      <td>0</td>\n",
       "      <td>0</td>\n",
       "      <td>0</td>\n",
       "      <td>0</td>\n",
       "      <td>0</td>\n",
       "      <td>1</td>\n",
       "    </tr>\n",
       "    <tr>\n",
       "      <th>203217</th>\n",
       "      <td>222</td>\n",
       "      <td>3</td>\n",
       "      <td>4</td>\n",
       "      <td>5</td>\n",
       "      <td>1</td>\n",
       "      <td>0</td>\n",
       "      <td>0</td>\n",
       "      <td>0</td>\n",
       "      <td>3</td>\n",
       "      <td>1</td>\n",
       "      <td>1</td>\n",
       "      <td>0</td>\n",
       "      <td>0</td>\n",
       "      <td>0</td>\n",
       "      <td>0</td>\n",
       "    </tr>\n",
       "    <tr>\n",
       "      <th>4145</th>\n",
       "      <td>72</td>\n",
       "      <td>2</td>\n",
       "      <td>4</td>\n",
       "      <td>2</td>\n",
       "      <td>0</td>\n",
       "      <td>1</td>\n",
       "      <td>0</td>\n",
       "      <td>0</td>\n",
       "      <td>1</td>\n",
       "      <td>0</td>\n",
       "      <td>1</td>\n",
       "      <td>1</td>\n",
       "      <td>0</td>\n",
       "      <td>0</td>\n",
       "      <td>0</td>\n",
       "    </tr>\n",
       "    <tr>\n",
       "      <th>456253</th>\n",
       "      <td>197</td>\n",
       "      <td>3</td>\n",
       "      <td>0</td>\n",
       "      <td>1</td>\n",
       "      <td>0</td>\n",
       "      <td>1</td>\n",
       "      <td>0</td>\n",
       "      <td>0</td>\n",
       "      <td>1</td>\n",
       "      <td>1</td>\n",
       "      <td>1</td>\n",
       "      <td>1</td>\n",
       "      <td>1</td>\n",
       "      <td>0</td>\n",
       "      <td>0</td>\n",
       "    </tr>\n",
       "    <tr>\n",
       "      <th>135912</th>\n",
       "      <td>143</td>\n",
       "      <td>1</td>\n",
       "      <td>0</td>\n",
       "      <td>3</td>\n",
       "      <td>1</td>\n",
       "      <td>0</td>\n",
       "      <td>0</td>\n",
       "      <td>1</td>\n",
       "      <td>1</td>\n",
       "      <td>0</td>\n",
       "      <td>0</td>\n",
       "      <td>1</td>\n",
       "      <td>0</td>\n",
       "      <td>0</td>\n",
       "      <td>1</td>\n",
       "    </tr>\n",
       "    <tr>\n",
       "      <th>250873</th>\n",
       "      <td>42</td>\n",
       "      <td>2</td>\n",
       "      <td>3</td>\n",
       "      <td>1</td>\n",
       "      <td>0</td>\n",
       "      <td>1</td>\n",
       "      <td>0</td>\n",
       "      <td>1</td>\n",
       "      <td>2</td>\n",
       "      <td>1</td>\n",
       "      <td>1</td>\n",
       "      <td>0</td>\n",
       "      <td>0</td>\n",
       "      <td>1</td>\n",
       "      <td>0</td>\n",
       "    </tr>\n",
       "    <tr>\n",
       "      <th>39480</th>\n",
       "      <td>203</td>\n",
       "      <td>1</td>\n",
       "      <td>0</td>\n",
       "      <td>1</td>\n",
       "      <td>0</td>\n",
       "      <td>0</td>\n",
       "      <td>1</td>\n",
       "      <td>1</td>\n",
       "      <td>1</td>\n",
       "      <td>1</td>\n",
       "      <td>0</td>\n",
       "      <td>0</td>\n",
       "      <td>0</td>\n",
       "      <td>1</td>\n",
       "      <td>1</td>\n",
       "    </tr>\n",
       "    <tr>\n",
       "      <th>...</th>\n",
       "      <td>...</td>\n",
       "      <td>...</td>\n",
       "      <td>...</td>\n",
       "      <td>...</td>\n",
       "      <td>...</td>\n",
       "      <td>...</td>\n",
       "      <td>...</td>\n",
       "      <td>...</td>\n",
       "      <td>...</td>\n",
       "      <td>...</td>\n",
       "      <td>...</td>\n",
       "      <td>...</td>\n",
       "      <td>...</td>\n",
       "      <td>...</td>\n",
       "      <td>...</td>\n",
       "    </tr>\n",
       "    <tr>\n",
       "      <th>271375</th>\n",
       "      <td>41</td>\n",
       "      <td>2</td>\n",
       "      <td>4</td>\n",
       "      <td>4</td>\n",
       "      <td>0</td>\n",
       "      <td>0</td>\n",
       "      <td>1</td>\n",
       "      <td>0</td>\n",
       "      <td>3</td>\n",
       "      <td>0</td>\n",
       "      <td>1</td>\n",
       "      <td>0</td>\n",
       "      <td>1</td>\n",
       "      <td>0</td>\n",
       "      <td>0</td>\n",
       "    </tr>\n",
       "    <tr>\n",
       "      <th>39790</th>\n",
       "      <td>157</td>\n",
       "      <td>2</td>\n",
       "      <td>4</td>\n",
       "      <td>3</td>\n",
       "      <td>0</td>\n",
       "      <td>1</td>\n",
       "      <td>0</td>\n",
       "      <td>0</td>\n",
       "      <td>3</td>\n",
       "      <td>1</td>\n",
       "      <td>1</td>\n",
       "      <td>0</td>\n",
       "      <td>1</td>\n",
       "      <td>0</td>\n",
       "      <td>1</td>\n",
       "    </tr>\n",
       "    <tr>\n",
       "      <th>14400</th>\n",
       "      <td>241</td>\n",
       "      <td>3</td>\n",
       "      <td>4</td>\n",
       "      <td>3</td>\n",
       "      <td>0</td>\n",
       "      <td>1</td>\n",
       "      <td>0</td>\n",
       "      <td>1</td>\n",
       "      <td>1</td>\n",
       "      <td>1</td>\n",
       "      <td>0</td>\n",
       "      <td>0</td>\n",
       "      <td>1</td>\n",
       "      <td>1</td>\n",
       "      <td>0</td>\n",
       "    </tr>\n",
       "    <tr>\n",
       "      <th>60295</th>\n",
       "      <td>135</td>\n",
       "      <td>1</td>\n",
       "      <td>4</td>\n",
       "      <td>2</td>\n",
       "      <td>0</td>\n",
       "      <td>0</td>\n",
       "      <td>1</td>\n",
       "      <td>1</td>\n",
       "      <td>1</td>\n",
       "      <td>0</td>\n",
       "      <td>1</td>\n",
       "      <td>1</td>\n",
       "      <td>1</td>\n",
       "      <td>1</td>\n",
       "      <td>0</td>\n",
       "    </tr>\n",
       "    <tr>\n",
       "      <th>162284</th>\n",
       "      <td>137</td>\n",
       "      <td>3</td>\n",
       "      <td>3</td>\n",
       "      <td>1</td>\n",
       "      <td>0</td>\n",
       "      <td>1</td>\n",
       "      <td>0</td>\n",
       "      <td>0</td>\n",
       "      <td>2</td>\n",
       "      <td>1</td>\n",
       "      <td>1</td>\n",
       "      <td>0</td>\n",
       "      <td>1</td>\n",
       "      <td>0</td>\n",
       "      <td>1</td>\n",
       "    </tr>\n",
       "    <tr>\n",
       "      <th>475402</th>\n",
       "      <td>197</td>\n",
       "      <td>3</td>\n",
       "      <td>3</td>\n",
       "      <td>5</td>\n",
       "      <td>0</td>\n",
       "      <td>1</td>\n",
       "      <td>0</td>\n",
       "      <td>0</td>\n",
       "      <td>3</td>\n",
       "      <td>1</td>\n",
       "      <td>1</td>\n",
       "      <td>1</td>\n",
       "      <td>0</td>\n",
       "      <td>0</td>\n",
       "      <td>0</td>\n",
       "    </tr>\n",
       "    <tr>\n",
       "      <th>463157</th>\n",
       "      <td>232</td>\n",
       "      <td>1</td>\n",
       "      <td>2</td>\n",
       "      <td>1</td>\n",
       "      <td>0</td>\n",
       "      <td>0</td>\n",
       "      <td>1</td>\n",
       "      <td>0</td>\n",
       "      <td>1</td>\n",
       "      <td>1</td>\n",
       "      <td>0</td>\n",
       "      <td>1</td>\n",
       "      <td>0</td>\n",
       "      <td>1</td>\n",
       "      <td>0</td>\n",
       "    </tr>\n",
       "    <tr>\n",
       "      <th>203251</th>\n",
       "      <td>28</td>\n",
       "      <td>3</td>\n",
       "      <td>1</td>\n",
       "      <td>3</td>\n",
       "      <td>0</td>\n",
       "      <td>0</td>\n",
       "      <td>1</td>\n",
       "      <td>1</td>\n",
       "      <td>2</td>\n",
       "      <td>1</td>\n",
       "      <td>0</td>\n",
       "      <td>1</td>\n",
       "      <td>1</td>\n",
       "      <td>0</td>\n",
       "      <td>1</td>\n",
       "    </tr>\n",
       "    <tr>\n",
       "      <th>50377</th>\n",
       "      <td>115</td>\n",
       "      <td>1</td>\n",
       "      <td>0</td>\n",
       "      <td>3</td>\n",
       "      <td>0</td>\n",
       "      <td>0</td>\n",
       "      <td>1</td>\n",
       "      <td>1</td>\n",
       "      <td>1</td>\n",
       "      <td>0</td>\n",
       "      <td>0</td>\n",
       "      <td>0</td>\n",
       "      <td>1</td>\n",
       "      <td>0</td>\n",
       "      <td>1</td>\n",
       "    </tr>\n",
       "    <tr>\n",
       "      <th>91443</th>\n",
       "      <td>84</td>\n",
       "      <td>1</td>\n",
       "      <td>4</td>\n",
       "      <td>3</td>\n",
       "      <td>0</td>\n",
       "      <td>0</td>\n",
       "      <td>1</td>\n",
       "      <td>1</td>\n",
       "      <td>3</td>\n",
       "      <td>1</td>\n",
       "      <td>0</td>\n",
       "      <td>0</td>\n",
       "      <td>1</td>\n",
       "      <td>0</td>\n",
       "      <td>1</td>\n",
       "    </tr>\n",
       "    <tr>\n",
       "      <th>60177</th>\n",
       "      <td>5</td>\n",
       "      <td>1</td>\n",
       "      <td>1</td>\n",
       "      <td>2</td>\n",
       "      <td>1</td>\n",
       "      <td>0</td>\n",
       "      <td>0</td>\n",
       "      <td>0</td>\n",
       "      <td>2</td>\n",
       "      <td>1</td>\n",
       "      <td>0</td>\n",
       "      <td>0</td>\n",
       "      <td>0</td>\n",
       "      <td>0</td>\n",
       "      <td>1</td>\n",
       "    </tr>\n",
       "    <tr>\n",
       "      <th>45355</th>\n",
       "      <td>39</td>\n",
       "      <td>1</td>\n",
       "      <td>0</td>\n",
       "      <td>1</td>\n",
       "      <td>1</td>\n",
       "      <td>0</td>\n",
       "      <td>0</td>\n",
       "      <td>1</td>\n",
       "      <td>1</td>\n",
       "      <td>1</td>\n",
       "      <td>0</td>\n",
       "      <td>1</td>\n",
       "      <td>0</td>\n",
       "      <td>1</td>\n",
       "      <td>0</td>\n",
       "    </tr>\n",
       "    <tr>\n",
       "      <th>491073</th>\n",
       "      <td>248</td>\n",
       "      <td>2</td>\n",
       "      <td>1</td>\n",
       "      <td>5</td>\n",
       "      <td>1</td>\n",
       "      <td>0</td>\n",
       "      <td>0</td>\n",
       "      <td>1</td>\n",
       "      <td>1</td>\n",
       "      <td>1</td>\n",
       "      <td>1</td>\n",
       "      <td>1</td>\n",
       "      <td>0</td>\n",
       "      <td>1</td>\n",
       "      <td>0</td>\n",
       "    </tr>\n",
       "    <tr>\n",
       "      <th>67294</th>\n",
       "      <td>9</td>\n",
       "      <td>2</td>\n",
       "      <td>4</td>\n",
       "      <td>2</td>\n",
       "      <td>0</td>\n",
       "      <td>0</td>\n",
       "      <td>1</td>\n",
       "      <td>1</td>\n",
       "      <td>1</td>\n",
       "      <td>0</td>\n",
       "      <td>0</td>\n",
       "      <td>1</td>\n",
       "      <td>0</td>\n",
       "      <td>1</td>\n",
       "      <td>1</td>\n",
       "    </tr>\n",
       "    <tr>\n",
       "      <th>354970</th>\n",
       "      <td>218</td>\n",
       "      <td>3</td>\n",
       "      <td>2</td>\n",
       "      <td>1</td>\n",
       "      <td>1</td>\n",
       "      <td>0</td>\n",
       "      <td>0</td>\n",
       "      <td>1</td>\n",
       "      <td>3</td>\n",
       "      <td>0</td>\n",
       "      <td>1</td>\n",
       "      <td>0</td>\n",
       "      <td>0</td>\n",
       "      <td>0</td>\n",
       "      <td>1</td>\n",
       "    </tr>\n",
       "    <tr>\n",
       "      <th>131765</th>\n",
       "      <td>131</td>\n",
       "      <td>2</td>\n",
       "      <td>0</td>\n",
       "      <td>4</td>\n",
       "      <td>0</td>\n",
       "      <td>1</td>\n",
       "      <td>0</td>\n",
       "      <td>1</td>\n",
       "      <td>2</td>\n",
       "      <td>1</td>\n",
       "      <td>1</td>\n",
       "      <td>1</td>\n",
       "      <td>1</td>\n",
       "      <td>0</td>\n",
       "      <td>0</td>\n",
       "    </tr>\n",
       "    <tr>\n",
       "      <th>30934</th>\n",
       "      <td>10</td>\n",
       "      <td>2</td>\n",
       "      <td>0</td>\n",
       "      <td>4</td>\n",
       "      <td>0</td>\n",
       "      <td>1</td>\n",
       "      <td>0</td>\n",
       "      <td>0</td>\n",
       "      <td>3</td>\n",
       "      <td>0</td>\n",
       "      <td>1</td>\n",
       "      <td>1</td>\n",
       "      <td>1</td>\n",
       "      <td>1</td>\n",
       "      <td>0</td>\n",
       "    </tr>\n",
       "    <tr>\n",
       "      <th>71807</th>\n",
       "      <td>31</td>\n",
       "      <td>2</td>\n",
       "      <td>4</td>\n",
       "      <td>1</td>\n",
       "      <td>0</td>\n",
       "      <td>0</td>\n",
       "      <td>1</td>\n",
       "      <td>1</td>\n",
       "      <td>2</td>\n",
       "      <td>1</td>\n",
       "      <td>0</td>\n",
       "      <td>1</td>\n",
       "      <td>1</td>\n",
       "      <td>0</td>\n",
       "      <td>1</td>\n",
       "    </tr>\n",
       "    <tr>\n",
       "      <th>270494</th>\n",
       "      <td>190</td>\n",
       "      <td>2</td>\n",
       "      <td>1</td>\n",
       "      <td>3</td>\n",
       "      <td>1</td>\n",
       "      <td>0</td>\n",
       "      <td>0</td>\n",
       "      <td>0</td>\n",
       "      <td>3</td>\n",
       "      <td>0</td>\n",
       "      <td>0</td>\n",
       "      <td>0</td>\n",
       "      <td>0</td>\n",
       "      <td>0</td>\n",
       "      <td>1</td>\n",
       "    </tr>\n",
       "    <tr>\n",
       "      <th>139125</th>\n",
       "      <td>54</td>\n",
       "      <td>1</td>\n",
       "      <td>4</td>\n",
       "      <td>4</td>\n",
       "      <td>0</td>\n",
       "      <td>1</td>\n",
       "      <td>0</td>\n",
       "      <td>1</td>\n",
       "      <td>1</td>\n",
       "      <td>1</td>\n",
       "      <td>1</td>\n",
       "      <td>1</td>\n",
       "      <td>0</td>\n",
       "      <td>0</td>\n",
       "      <td>1</td>\n",
       "    </tr>\n",
       "    <tr>\n",
       "      <th>407981</th>\n",
       "      <td>222</td>\n",
       "      <td>1</td>\n",
       "      <td>3</td>\n",
       "      <td>2</td>\n",
       "      <td>0</td>\n",
       "      <td>1</td>\n",
       "      <td>0</td>\n",
       "      <td>1</td>\n",
       "      <td>1</td>\n",
       "      <td>0</td>\n",
       "      <td>1</td>\n",
       "      <td>0</td>\n",
       "      <td>0</td>\n",
       "      <td>0</td>\n",
       "      <td>0</td>\n",
       "    </tr>\n",
       "    <tr>\n",
       "      <th>361614</th>\n",
       "      <td>13</td>\n",
       "      <td>1</td>\n",
       "      <td>1</td>\n",
       "      <td>1</td>\n",
       "      <td>0</td>\n",
       "      <td>1</td>\n",
       "      <td>0</td>\n",
       "      <td>1</td>\n",
       "      <td>1</td>\n",
       "      <td>0</td>\n",
       "      <td>1</td>\n",
       "      <td>1</td>\n",
       "      <td>0</td>\n",
       "      <td>1</td>\n",
       "      <td>0</td>\n",
       "    </tr>\n",
       "    <tr>\n",
       "      <th>30156</th>\n",
       "      <td>74</td>\n",
       "      <td>3</td>\n",
       "      <td>3</td>\n",
       "      <td>1</td>\n",
       "      <td>0</td>\n",
       "      <td>0</td>\n",
       "      <td>1</td>\n",
       "      <td>0</td>\n",
       "      <td>3</td>\n",
       "      <td>0</td>\n",
       "      <td>0</td>\n",
       "      <td>1</td>\n",
       "      <td>1</td>\n",
       "      <td>0</td>\n",
       "      <td>1</td>\n",
       "    </tr>\n",
       "    <tr>\n",
       "      <th>455332</th>\n",
       "      <td>106</td>\n",
       "      <td>3</td>\n",
       "      <td>4</td>\n",
       "      <td>1</td>\n",
       "      <td>0</td>\n",
       "      <td>0</td>\n",
       "      <td>1</td>\n",
       "      <td>1</td>\n",
       "      <td>3</td>\n",
       "      <td>0</td>\n",
       "      <td>0</td>\n",
       "      <td>1</td>\n",
       "      <td>0</td>\n",
       "      <td>0</td>\n",
       "      <td>1</td>\n",
       "    </tr>\n",
       "    <tr>\n",
       "      <th>263147</th>\n",
       "      <td>206</td>\n",
       "      <td>1</td>\n",
       "      <td>4</td>\n",
       "      <td>1</td>\n",
       "      <td>1</td>\n",
       "      <td>0</td>\n",
       "      <td>0</td>\n",
       "      <td>0</td>\n",
       "      <td>2</td>\n",
       "      <td>1</td>\n",
       "      <td>1</td>\n",
       "      <td>0</td>\n",
       "      <td>0</td>\n",
       "      <td>1</td>\n",
       "      <td>1</td>\n",
       "    </tr>\n",
       "    <tr>\n",
       "      <th>113311</th>\n",
       "      <td>119</td>\n",
       "      <td>1</td>\n",
       "      <td>1</td>\n",
       "      <td>4</td>\n",
       "      <td>0</td>\n",
       "      <td>0</td>\n",
       "      <td>1</td>\n",
       "      <td>1</td>\n",
       "      <td>1</td>\n",
       "      <td>1</td>\n",
       "      <td>0</td>\n",
       "      <td>1</td>\n",
       "      <td>1</td>\n",
       "      <td>0</td>\n",
       "      <td>0</td>\n",
       "    </tr>\n",
       "    <tr>\n",
       "      <th>489276</th>\n",
       "      <td>55</td>\n",
       "      <td>3</td>\n",
       "      <td>2</td>\n",
       "      <td>1</td>\n",
       "      <td>0</td>\n",
       "      <td>0</td>\n",
       "      <td>1</td>\n",
       "      <td>0</td>\n",
       "      <td>2</td>\n",
       "      <td>0</td>\n",
       "      <td>0</td>\n",
       "      <td>0</td>\n",
       "      <td>0</td>\n",
       "      <td>1</td>\n",
       "      <td>0</td>\n",
       "    </tr>\n",
       "    <tr>\n",
       "      <th>377884</th>\n",
       "      <td>152</td>\n",
       "      <td>3</td>\n",
       "      <td>3</td>\n",
       "      <td>4</td>\n",
       "      <td>0</td>\n",
       "      <td>1</td>\n",
       "      <td>0</td>\n",
       "      <td>1</td>\n",
       "      <td>3</td>\n",
       "      <td>0</td>\n",
       "      <td>1</td>\n",
       "      <td>0</td>\n",
       "      <td>1</td>\n",
       "      <td>0</td>\n",
       "      <td>1</td>\n",
       "    </tr>\n",
       "    <tr>\n",
       "      <th>493017</th>\n",
       "      <td>86</td>\n",
       "      <td>2</td>\n",
       "      <td>3</td>\n",
       "      <td>4</td>\n",
       "      <td>0</td>\n",
       "      <td>1</td>\n",
       "      <td>0</td>\n",
       "      <td>1</td>\n",
       "      <td>2</td>\n",
       "      <td>1</td>\n",
       "      <td>0</td>\n",
       "      <td>0</td>\n",
       "      <td>1</td>\n",
       "      <td>1</td>\n",
       "      <td>0</td>\n",
       "    </tr>\n",
       "    <tr>\n",
       "      <th>416798</th>\n",
       "      <td>239</td>\n",
       "      <td>1</td>\n",
       "      <td>2</td>\n",
       "      <td>3</td>\n",
       "      <td>0</td>\n",
       "      <td>0</td>\n",
       "      <td>1</td>\n",
       "      <td>0</td>\n",
       "      <td>3</td>\n",
       "      <td>1</td>\n",
       "      <td>0</td>\n",
       "      <td>0</td>\n",
       "      <td>0</td>\n",
       "      <td>0</td>\n",
       "      <td>0</td>\n",
       "    </tr>\n",
       "  </tbody>\n",
       "</table>\n",
       "<p>150000 rows × 15 columns</p>\n",
       "</div>"
      ],
      "text/plain": [
       "        Area  Garage  FirePlace  Baths  WhiteMarble  BlackMarble  \\\n",
       "112499   176       3          3      5            0            1   \n",
       "288065   121       2          3      1            1            0   \n",
       "240721   168       2          2      1            0            1   \n",
       "124101   205       1          2      5            0            1   \n",
       "249394   237       1          4      3            0            1   \n",
       "244483     1       2          1      4            0            1   \n",
       "340730    81       2          3      4            1            0   \n",
       "392330    96       3          0      5            1            0   \n",
       "40720    101       2          2      2            0            1   \n",
       "243843    69       1          0      1            0            0   \n",
       "20822     29       3          2      4            0            0   \n",
       "295828   214       2          3      4            1            0   \n",
       "439967    40       3          2      2            1            0   \n",
       "128274   209       3          2      2            1            0   \n",
       "378847   160       3          2      4            1            0   \n",
       "57212    147       1          4      5            0            1   \n",
       "237936    95       2          3      4            1            0   \n",
       "404785   201       2          2      5            0            0   \n",
       "192651    70       1          0      3            0            1   \n",
       "110705    91       3          1      1            0            0   \n",
       "306385    44       3          3      3            0            0   \n",
       "291248     3       2          3      2            1            0   \n",
       "487961   118       2          3      4            0            1   \n",
       "199571   140       1          1      1            0            1   \n",
       "203217   222       3          4      5            1            0   \n",
       "4145      72       2          4      2            0            1   \n",
       "456253   197       3          0      1            0            1   \n",
       "135912   143       1          0      3            1            0   \n",
       "250873    42       2          3      1            0            1   \n",
       "39480    203       1          0      1            0            0   \n",
       "...      ...     ...        ...    ...          ...          ...   \n",
       "271375    41       2          4      4            0            0   \n",
       "39790    157       2          4      3            0            1   \n",
       "14400    241       3          4      3            0            1   \n",
       "60295    135       1          4      2            0            0   \n",
       "162284   137       3          3      1            0            1   \n",
       "475402   197       3          3      5            0            1   \n",
       "463157   232       1          2      1            0            0   \n",
       "203251    28       3          1      3            0            0   \n",
       "50377    115       1          0      3            0            0   \n",
       "91443     84       1          4      3            0            0   \n",
       "60177      5       1          1      2            1            0   \n",
       "45355     39       1          0      1            1            0   \n",
       "491073   248       2          1      5            1            0   \n",
       "67294      9       2          4      2            0            0   \n",
       "354970   218       3          2      1            1            0   \n",
       "131765   131       2          0      4            0            1   \n",
       "30934     10       2          0      4            0            1   \n",
       "71807     31       2          4      1            0            0   \n",
       "270494   190       2          1      3            1            0   \n",
       "139125    54       1          4      4            0            1   \n",
       "407981   222       1          3      2            0            1   \n",
       "361614    13       1          1      1            0            1   \n",
       "30156     74       3          3      1            0            0   \n",
       "455332   106       3          4      1            0            0   \n",
       "263147   206       1          4      1            1            0   \n",
       "113311   119       1          1      4            0            0   \n",
       "489276    55       3          2      1            0            0   \n",
       "377884   152       3          3      4            0            1   \n",
       "493017    86       2          3      4            0            1   \n",
       "416798   239       1          2      3            0            0   \n",
       "\n",
       "        IndianMarble  Floors  City  Solar  Electric  Fiber  GlassDoor  \\\n",
       "112499             0       0     3      1         1      0          0   \n",
       "288065             0       0     2      0         1      0          0   \n",
       "240721             0       1     2      1         0      1          1   \n",
       "124101             0       1     3      0         0      1          1   \n",
       "249394             0       1     1      1         0      1          1   \n",
       "244483             0       0     2      1         1      0          1   \n",
       "340730             0       1     3      1         0      0          1   \n",
       "392330             0       0     3      1         0      0          0   \n",
       "40720              0       1     2      1         1      1          1   \n",
       "243843             1       0     2      0         1      1          0   \n",
       "20822              1       0     3      1         0      1          1   \n",
       "295828             0       1     2      0         0      1          0   \n",
       "439967             0       0     3      1         0      0          0   \n",
       "128274             0       0     2      1         1      1          0   \n",
       "378847             0       1     3      1         0      1          1   \n",
       "57212              0       1     2      0         1      0          0   \n",
       "237936             0       0     2      0         0      0          1   \n",
       "404785             1       0     1      0         0      0          1   \n",
       "192651             0       1     2      0         1      1          0   \n",
       "110705             1       1     3      1         1      1          1   \n",
       "306385             1       0     2      1         1      1          0   \n",
       "291248             0       1     1      0         1      1          1   \n",
       "487961             0       0     1      1         0      0          1   \n",
       "199571             0       1     1      0         0      0          0   \n",
       "203217             0       0     3      1         1      0          0   \n",
       "4145               0       0     1      0         1      1          0   \n",
       "456253             0       0     1      1         1      1          1   \n",
       "135912             0       1     1      0         0      1          0   \n",
       "250873             0       1     2      1         1      0          0   \n",
       "39480              1       1     1      1         0      0          0   \n",
       "...              ...     ...   ...    ...       ...    ...        ...   \n",
       "271375             1       0     3      0         1      0          1   \n",
       "39790              0       0     3      1         1      0          1   \n",
       "14400              0       1     1      1         0      0          1   \n",
       "60295              1       1     1      0         1      1          1   \n",
       "162284             0       0     2      1         1      0          1   \n",
       "475402             0       0     3      1         1      1          0   \n",
       "463157             1       0     1      1         0      1          0   \n",
       "203251             1       1     2      1         0      1          1   \n",
       "50377              1       1     1      0         0      0          1   \n",
       "91443              1       1     3      1         0      0          1   \n",
       "60177              0       0     2      1         0      0          0   \n",
       "45355              0       1     1      1         0      1          0   \n",
       "491073             0       1     1      1         1      1          0   \n",
       "67294              1       1     1      0         0      1          0   \n",
       "354970             0       1     3      0         1      0          0   \n",
       "131765             0       1     2      1         1      1          1   \n",
       "30934              0       0     3      0         1      1          1   \n",
       "71807              1       1     2      1         0      1          1   \n",
       "270494             0       0     3      0         0      0          0   \n",
       "139125             0       1     1      1         1      1          0   \n",
       "407981             0       1     1      0         1      0          0   \n",
       "361614             0       1     1      0         1      1          0   \n",
       "30156              1       0     3      0         0      1          1   \n",
       "455332             1       1     3      0         0      1          0   \n",
       "263147             0       0     2      1         1      0          0   \n",
       "113311             1       1     1      1         0      1          1   \n",
       "489276             1       0     2      0         0      0          0   \n",
       "377884             0       1     3      0         1      0          1   \n",
       "493017             0       1     2      1         0      0          1   \n",
       "416798             1       0     3      1         0      0          0   \n",
       "\n",
       "        SwimmingPool  Garden  \n",
       "112499             0       1  \n",
       "288065             0       0  \n",
       "240721             1       0  \n",
       "124101             1       0  \n",
       "249394             0       0  \n",
       "244483             0       0  \n",
       "340730             1       0  \n",
       "392330             0       1  \n",
       "40720              1       0  \n",
       "243843             1       1  \n",
       "20822              1       1  \n",
       "295828             0       1  \n",
       "439967             0       0  \n",
       "128274             1       0  \n",
       "378847             1       0  \n",
       "57212              0       1  \n",
       "237936             1       0  \n",
       "404785             0       1  \n",
       "192651             1       1  \n",
       "110705             1       0  \n",
       "306385             1       0  \n",
       "291248             0       1  \n",
       "487961             1       0  \n",
       "199571             0       1  \n",
       "203217             0       0  \n",
       "4145               0       0  \n",
       "456253             0       0  \n",
       "135912             0       1  \n",
       "250873             1       0  \n",
       "39480              1       1  \n",
       "...              ...     ...  \n",
       "271375             0       0  \n",
       "39790              0       1  \n",
       "14400              1       0  \n",
       "60295              1       0  \n",
       "162284             0       1  \n",
       "475402             0       0  \n",
       "463157             1       0  \n",
       "203251             0       1  \n",
       "50377              0       1  \n",
       "91443              0       1  \n",
       "60177              0       1  \n",
       "45355              1       0  \n",
       "491073             1       0  \n",
       "67294              1       1  \n",
       "354970             0       1  \n",
       "131765             0       0  \n",
       "30934              1       0  \n",
       "71807              0       1  \n",
       "270494             0       1  \n",
       "139125             0       1  \n",
       "407981             0       0  \n",
       "361614             1       0  \n",
       "30156              0       1  \n",
       "455332             0       1  \n",
       "263147             1       1  \n",
       "113311             0       0  \n",
       "489276             1       0  \n",
       "377884             0       1  \n",
       "493017             1       0  \n",
       "416798             0       0  \n",
       "\n",
       "[150000 rows x 15 columns]"
      ]
     },
     "execution_count": 2336,
     "metadata": {},
     "output_type": "execute_result"
    }
   ],
   "source": [
    "x_test"
   ]
  },
  {
   "cell_type": "code",
   "execution_count": 2337,
   "metadata": {},
   "outputs": [
    {
     "data": {
      "text/html": [
       "<div>\n",
       "<style scoped>\n",
       "    .dataframe tbody tr th:only-of-type {\n",
       "        vertical-align: middle;\n",
       "    }\n",
       "\n",
       "    .dataframe tbody tr th {\n",
       "        vertical-align: top;\n",
       "    }\n",
       "\n",
       "    .dataframe thead th {\n",
       "        text-align: right;\n",
       "    }\n",
       "</style>\n",
       "<table border=\"1\" class=\"dataframe\">\n",
       "  <thead>\n",
       "    <tr style=\"text-align: right;\">\n",
       "      <th></th>\n",
       "      <th>Prices</th>\n",
       "    </tr>\n",
       "  </thead>\n",
       "  <tbody>\n",
       "    <tr>\n",
       "      <th>112499</th>\n",
       "      <td>35400</td>\n",
       "    </tr>\n",
       "    <tr>\n",
       "      <th>288065</th>\n",
       "      <td>32775</td>\n",
       "    </tr>\n",
       "    <tr>\n",
       "      <th>240721</th>\n",
       "      <td>54400</td>\n",
       "    </tr>\n",
       "    <tr>\n",
       "      <th>124101</th>\n",
       "      <td>62075</td>\n",
       "    </tr>\n",
       "    <tr>\n",
       "      <th>249394</th>\n",
       "      <td>55125</td>\n",
       "    </tr>\n",
       "    <tr>\n",
       "      <th>244483</th>\n",
       "      <td>27725</td>\n",
       "    </tr>\n",
       "    <tr>\n",
       "      <th>340730</th>\n",
       "      <td>57475</td>\n",
       "    </tr>\n",
       "    <tr>\n",
       "      <th>392330</th>\n",
       "      <td>38900</td>\n",
       "    </tr>\n",
       "    <tr>\n",
       "      <th>40720</th>\n",
       "      <td>55225</td>\n",
       "    </tr>\n",
       "    <tr>\n",
       "      <th>243843</th>\n",
       "      <td>25475</td>\n",
       "    </tr>\n",
       "    <tr>\n",
       "      <th>20822</th>\n",
       "      <td>39675</td>\n",
       "    </tr>\n",
       "    <tr>\n",
       "      <th>295828</th>\n",
       "      <td>64350</td>\n",
       "    </tr>\n",
       "    <tr>\n",
       "      <th>439967</th>\n",
       "      <td>35250</td>\n",
       "    </tr>\n",
       "    <tr>\n",
       "      <th>128274</th>\n",
       "      <td>48975</td>\n",
       "    </tr>\n",
       "    <tr>\n",
       "      <th>378847</th>\n",
       "      <td>71950</td>\n",
       "    </tr>\n",
       "    <tr>\n",
       "      <th>57212</th>\n",
       "      <td>43675</td>\n",
       "    </tr>\n",
       "    <tr>\n",
       "      <th>237936</th>\n",
       "      <td>39075</td>\n",
       "    </tr>\n",
       "    <tr>\n",
       "      <th>404785</th>\n",
       "      <td>24725</td>\n",
       "    </tr>\n",
       "    <tr>\n",
       "      <th>192651</th>\n",
       "      <td>48000</td>\n",
       "    </tr>\n",
       "    <tr>\n",
       "      <th>110705</th>\n",
       "      <td>52975</td>\n",
       "    </tr>\n",
       "    <tr>\n",
       "      <th>306385</th>\n",
       "      <td>32850</td>\n",
       "    </tr>\n",
       "    <tr>\n",
       "      <th>291248</th>\n",
       "      <td>58775</td>\n",
       "    </tr>\n",
       "    <tr>\n",
       "      <th>487961</th>\n",
       "      <td>27400</td>\n",
       "    </tr>\n",
       "    <tr>\n",
       "      <th>199571</th>\n",
       "      <td>31500</td>\n",
       "    </tr>\n",
       "    <tr>\n",
       "      <th>203217</th>\n",
       "      <td>46300</td>\n",
       "    </tr>\n",
       "    <tr>\n",
       "      <th>4145</th>\n",
       "      <td>32800</td>\n",
       "    </tr>\n",
       "    <tr>\n",
       "      <th>456253</th>\n",
       "      <td>37875</td>\n",
       "    </tr>\n",
       "    <tr>\n",
       "      <th>135912</th>\n",
       "      <td>54075</td>\n",
       "    </tr>\n",
       "    <tr>\n",
       "      <th>250873</th>\n",
       "      <td>37050</td>\n",
       "    </tr>\n",
       "    <tr>\n",
       "      <th>39480</th>\n",
       "      <td>27575</td>\n",
       "    </tr>\n",
       "    <tr>\n",
       "      <th>...</th>\n",
       "      <td>...</td>\n",
       "    </tr>\n",
       "    <tr>\n",
       "      <th>271375</th>\n",
       "      <td>29225</td>\n",
       "    </tr>\n",
       "    <tr>\n",
       "      <th>39790</th>\n",
       "      <td>36125</td>\n",
       "    </tr>\n",
       "    <tr>\n",
       "      <th>14400</th>\n",
       "      <td>46475</td>\n",
       "    </tr>\n",
       "    <tr>\n",
       "      <th>60295</th>\n",
       "      <td>47325</td>\n",
       "    </tr>\n",
       "    <tr>\n",
       "      <th>162284</th>\n",
       "      <td>30375</td>\n",
       "    </tr>\n",
       "    <tr>\n",
       "      <th>475402</th>\n",
       "      <td>47675</td>\n",
       "    </tr>\n",
       "    <tr>\n",
       "      <th>463157</th>\n",
       "      <td>26550</td>\n",
       "    </tr>\n",
       "    <tr>\n",
       "      <th>203251</th>\n",
       "      <td>49150</td>\n",
       "    </tr>\n",
       "    <tr>\n",
       "      <th>50377</th>\n",
       "      <td>32075</td>\n",
       "    </tr>\n",
       "    <tr>\n",
       "      <th>91443</th>\n",
       "      <td>41550</td>\n",
       "    </tr>\n",
       "    <tr>\n",
       "      <th>60177</th>\n",
       "      <td>27125</td>\n",
       "    </tr>\n",
       "    <tr>\n",
       "      <th>45355</th>\n",
       "      <td>49225</td>\n",
       "    </tr>\n",
       "    <tr>\n",
       "      <th>491073</th>\n",
       "      <td>62950</td>\n",
       "    </tr>\n",
       "    <tr>\n",
       "      <th>67294</th>\n",
       "      <td>39975</td>\n",
       "    </tr>\n",
       "    <tr>\n",
       "      <th>354970</th>\n",
       "      <td>54450</td>\n",
       "    </tr>\n",
       "    <tr>\n",
       "      <th>131765</th>\n",
       "      <td>56975</td>\n",
       "    </tr>\n",
       "    <tr>\n",
       "      <th>30934</th>\n",
       "      <td>42200</td>\n",
       "    </tr>\n",
       "    <tr>\n",
       "      <th>71807</th>\n",
       "      <td>47475</td>\n",
       "    </tr>\n",
       "    <tr>\n",
       "      <th>270494</th>\n",
       "      <td>37750</td>\n",
       "    </tr>\n",
       "    <tr>\n",
       "      <th>139125</th>\n",
       "      <td>48600</td>\n",
       "    </tr>\n",
       "    <tr>\n",
       "      <th>407981</th>\n",
       "      <td>37550</td>\n",
       "    </tr>\n",
       "    <tr>\n",
       "      <th>361614</th>\n",
       "      <td>41325</td>\n",
       "    </tr>\n",
       "    <tr>\n",
       "      <th>30156</th>\n",
       "      <td>37550</td>\n",
       "    </tr>\n",
       "    <tr>\n",
       "      <th>455332</th>\n",
       "      <td>49650</td>\n",
       "    </tr>\n",
       "    <tr>\n",
       "      <th>263147</th>\n",
       "      <td>34400</td>\n",
       "    </tr>\n",
       "    <tr>\n",
       "      <th>113311</th>\n",
       "      <td>46175</td>\n",
       "    </tr>\n",
       "    <tr>\n",
       "      <th>489276</th>\n",
       "      <td>16625</td>\n",
       "    </tr>\n",
       "    <tr>\n",
       "      <th>377884</th>\n",
       "      <td>52750</td>\n",
       "    </tr>\n",
       "    <tr>\n",
       "      <th>493017</th>\n",
       "      <td>45100</td>\n",
       "    </tr>\n",
       "    <tr>\n",
       "      <th>416798</th>\n",
       "      <td>24475</td>\n",
       "    </tr>\n",
       "  </tbody>\n",
       "</table>\n",
       "<p>150000 rows × 1 columns</p>\n",
       "</div>"
      ],
      "text/plain": [
       "        Prices\n",
       "112499   35400\n",
       "288065   32775\n",
       "240721   54400\n",
       "124101   62075\n",
       "249394   55125\n",
       "244483   27725\n",
       "340730   57475\n",
       "392330   38900\n",
       "40720    55225\n",
       "243843   25475\n",
       "20822    39675\n",
       "295828   64350\n",
       "439967   35250\n",
       "128274   48975\n",
       "378847   71950\n",
       "57212    43675\n",
       "237936   39075\n",
       "404785   24725\n",
       "192651   48000\n",
       "110705   52975\n",
       "306385   32850\n",
       "291248   58775\n",
       "487961   27400\n",
       "199571   31500\n",
       "203217   46300\n",
       "4145     32800\n",
       "456253   37875\n",
       "135912   54075\n",
       "250873   37050\n",
       "39480    27575\n",
       "...        ...\n",
       "271375   29225\n",
       "39790    36125\n",
       "14400    46475\n",
       "60295    47325\n",
       "162284   30375\n",
       "475402   47675\n",
       "463157   26550\n",
       "203251   49150\n",
       "50377    32075\n",
       "91443    41550\n",
       "60177    27125\n",
       "45355    49225\n",
       "491073   62950\n",
       "67294    39975\n",
       "354970   54450\n",
       "131765   56975\n",
       "30934    42200\n",
       "71807    47475\n",
       "270494   37750\n",
       "139125   48600\n",
       "407981   37550\n",
       "361614   41325\n",
       "30156    37550\n",
       "455332   49650\n",
       "263147   34400\n",
       "113311   46175\n",
       "489276   16625\n",
       "377884   52750\n",
       "493017   45100\n",
       "416798   24475\n",
       "\n",
       "[150000 rows x 1 columns]"
      ]
     },
     "execution_count": 2337,
     "metadata": {},
     "output_type": "execute_result"
    }
   ],
   "source": [
    "#When cross-verified, I found these answers to be accurate with the dataset.\n",
    "target_test"
   ]
  },
  {
   "cell_type": "code",
   "execution_count": 2338,
   "metadata": {},
   "outputs": [
    {
     "data": {
      "text/plain": [
       "<matplotlib.collections.PathCollection at 0x21507daee80>"
      ]
     },
     "execution_count": 2338,
     "metadata": {},
     "output_type": "execute_result"
    },
    {
     "data": {
      "image/png": "[encoded data removed]",
      "text/plain": [
       "<Figure size 432x288 with 1 Axes>"
      ]
     },
     "metadata": {},
     "output_type": "display_data"
    }
   ],
   "source": [
    "plt.scatter(predict_y,target_test)"
   ]
  },
  {
   "cell_type": "code",
   "execution_count": 2339,
   "metadata": {
    "scrolled": true
   },
   "outputs": [
    {
     "data": {
      "text/html": [
       "<table class=\"simpletable\">\n",
       "<caption>OLS Regression Results</caption>\n",
       "<tr>\n",
       "  <th>Dep. Variable:</th>         <td>target</td>      <th>  R-squared:         </th>  <td>   1.000</td> \n",
       "</tr>\n",
       "<tr>\n",
       "  <th>Model:</th>                   <td>OLS</td>       <th>  Adj. R-squared:    </th>  <td>   1.000</td> \n",
       "</tr>\n",
       "<tr>\n",
       "  <th>Method:</th>             <td>Least Squares</td>  <th>  F-statistic:       </th>  <td>2.059e+32</td>\n",
       "</tr>\n",
       "<tr>\n",
       "  <th>Date:</th>             <td>Mon, 25 Feb 2019</td> <th>  Prob (F-statistic):</th>   <td>  0.00</td>  \n",
       "</tr>\n",
       "<tr>\n",
       "  <th>Time:</th>                 <td>23:38:20</td>     <th>  Log-Likelihood:    </th> <td>1.0570e+07</td>\n",
       "</tr>\n",
       "<tr>\n",
       "  <th>No. Observations:</th>      <td>500000</td>      <th>  AIC:               </th> <td>-2.114e+07</td>\n",
       "</tr>\n",
       "<tr>\n",
       "  <th>Df Residuals:</th>          <td>499985</td>      <th>  BIC:               </th> <td>-2.114e+07</td>\n",
       "</tr>\n",
       "<tr>\n",
       "  <th>Df Model:</th>              <td>    14</td>      <th>                     </th>      <td> </td>    \n",
       "</tr>\n",
       "<tr>\n",
       "  <th>Covariance Type:</th>      <td>nonrobust</td>    <th>                     </th>      <td> </td>    \n",
       "</tr>\n",
       "</table>\n",
       "<table class=\"simpletable\">\n",
       "<tr>\n",
       "        <td></td>          <th>coef</th>     <th>std err</th>      <th>t</th>      <th>P>|t|</th>  <th>[0.025</th>    <th>0.975]</th>  \n",
       "</tr>\n",
       "<tr>\n",
       "  <th>Intercept</th>    <td> 5500.0000</td> <td>  9.2e-13</td> <td> 5.98e+15</td> <td> 0.000</td> <td> 5500.000</td> <td> 5500.000</td>\n",
       "</tr>\n",
       "<tr>\n",
       "  <th>Area</th>         <td>   25.0000</td> <td> 3.14e-15</td> <td> 7.96e+15</td> <td> 0.000</td> <td>   25.000</td> <td>   25.000</td>\n",
       "</tr>\n",
       "<tr>\n",
       "  <th>Garage</th>       <td> 1500.0000</td> <td> 2.76e-13</td> <td> 5.43e+15</td> <td> 0.000</td> <td> 1500.000</td> <td> 1500.000</td>\n",
       "</tr>\n",
       "<tr>\n",
       "  <th>FirePlace</th>    <td>  750.0000</td> <td>  1.6e-13</td> <td>  4.7e+15</td> <td> 0.000</td> <td>  750.000</td> <td>  750.000</td>\n",
       "</tr>\n",
       "<tr>\n",
       "  <th>Baths</th>        <td> 1250.0000</td> <td>  1.6e-13</td> <td> 7.84e+15</td> <td> 0.000</td> <td> 1250.000</td> <td> 1250.000</td>\n",
       "</tr>\n",
       "<tr>\n",
       "  <th>WhiteMarble</th>  <td> 9500.0000</td> <td> 4.43e-13</td> <td> 2.14e+16</td> <td> 0.000</td> <td> 9500.000</td> <td> 9500.000</td>\n",
       "</tr>\n",
       "<tr>\n",
       "  <th>BlackMarble</th>  <td>  500.0000</td> <td> 4.43e-13</td> <td> 1.13e+15</td> <td> 0.000</td> <td>  500.000</td> <td>  500.000</td>\n",
       "</tr>\n",
       "<tr>\n",
       "  <th>IndianMarble</th> <td>-4500.0000</td> <td> 4.42e-13</td> <td>-1.02e+16</td> <td> 0.000</td> <td>-4500.000</td> <td>-4500.000</td>\n",
       "</tr>\n",
       "<tr>\n",
       "  <th>Floors</th>       <td>   1.5e+04</td> <td> 4.51e-13</td> <td> 3.32e+16</td> <td> 0.000</td> <td>  1.5e+04</td> <td>  1.5e+04</td>\n",
       "</tr>\n",
       "<tr>\n",
       "  <th>City</th>         <td> 3500.0000</td> <td> 2.76e-13</td> <td> 1.27e+16</td> <td> 0.000</td> <td> 3500.000</td> <td> 3500.000</td>\n",
       "</tr>\n",
       "<tr>\n",
       "  <th>Solar</th>        <td>  250.0000</td> <td> 4.51e-13</td> <td> 5.54e+14</td> <td> 0.000</td> <td>  250.000</td> <td>  250.000</td>\n",
       "</tr>\n",
       "<tr>\n",
       "  <th>Electric</th>     <td> 1250.0000</td> <td> 4.51e-13</td> <td> 2.77e+15</td> <td> 0.000</td> <td> 1250.000</td> <td> 1250.000</td>\n",
       "</tr>\n",
       "<tr>\n",
       "  <th>Fiber</th>        <td> 1.175e+04</td> <td> 4.51e-13</td> <td>  2.6e+16</td> <td> 0.000</td> <td> 1.18e+04</td> <td> 1.18e+04</td>\n",
       "</tr>\n",
       "<tr>\n",
       "  <th>GlassDoor</th>    <td> 4450.0000</td> <td> 4.51e-13</td> <td> 9.86e+15</td> <td> 0.000</td> <td> 4450.000</td> <td> 4450.000</td>\n",
       "</tr>\n",
       "<tr>\n",
       "  <th>SwimmingPool</th> <td> 4.974e-14</td> <td> 4.51e-13</td> <td>    0.110</td> <td> 0.912</td> <td>-8.35e-13</td> <td> 9.34e-13</td>\n",
       "</tr>\n",
       "<tr>\n",
       "  <th>Garden</th>       <td> 5.166e-12</td> <td> 4.51e-13</td> <td>   11.450</td> <td> 0.000</td> <td> 4.28e-12</td> <td> 6.05e-12</td>\n",
       "</tr>\n",
       "</table>\n",
       "<table class=\"simpletable\">\n",
       "<tr>\n",
       "  <th>Omnibus:</th>       <td>123629.996</td> <th>  Durbin-Watson:     </th> <td>   0.474</td> \n",
       "</tr>\n",
       "<tr>\n",
       "  <th>Prob(Omnibus):</th>   <td> 0.000</td>   <th>  Jarque-Bera (JB):  </th> <td>21390.415</td>\n",
       "</tr>\n",
       "<tr>\n",
       "  <th>Skew:</th>            <td>-0.001</td>   <th>  Prob(JB):          </th> <td>    0.00</td> \n",
       "</tr>\n",
       "<tr>\n",
       "  <th>Kurtosis:</th>        <td> 1.987</td>   <th>  Cond. No.          </th> <td>8.55e+17</td> \n",
       "</tr>\n",
       "</table><br/><br/>Warnings:<br/>[1] Standard Errors assume that the covariance matrix of the errors is correctly specified.<br/>[2] The smallest eigenvalue is 1.42e-26. This might indicate that there are<br/>strong multicollinearity problems or that the design matrix is singular."
      ],
      "text/plain": [
       "<class 'statsmodels.iolib.summary.Summary'>\n",
       "\"\"\"\n",
       "                            OLS Regression Results                            \n",
       "==============================================================================\n",
       "Dep. Variable:                 target   R-squared:                       1.000\n",
       "Model:                            OLS   Adj. R-squared:                  1.000\n",
       "Method:                 Least Squares   F-statistic:                 2.059e+32\n",
       "Date:                Mon, 25 Feb 2019   Prob (F-statistic):               0.00\n",
       "Time:                        23:38:20   Log-Likelihood:             1.0570e+07\n",
       "No. Observations:              500000   AIC:                        -2.114e+07\n",
       "Df Residuals:                  499985   BIC:                        -2.114e+07\n",
       "Df Model:                          14                                         \n",
       "Covariance Type:            nonrobust                                         \n",
       "================================================================================\n",
       "                   coef    std err          t      P>|t|      [0.025      0.975]\n",
       "--------------------------------------------------------------------------------\n",
       "Intercept     5500.0000    9.2e-13   5.98e+15      0.000    5500.000    5500.000\n",
       "Area            25.0000   3.14e-15   7.96e+15      0.000      25.000      25.000\n",
       "Garage        1500.0000   2.76e-13   5.43e+15      0.000    1500.000    1500.000\n",
       "FirePlace      750.0000    1.6e-13    4.7e+15      0.000     750.000     750.000\n",
       "Baths         1250.0000    1.6e-13   7.84e+15      0.000    1250.000    1250.000\n",
       "WhiteMarble   9500.0000   4.43e-13   2.14e+16      0.000    9500.000    9500.000\n",
       "BlackMarble    500.0000   4.43e-13   1.13e+15      0.000     500.000     500.000\n",
       "IndianMarble -4500.0000   4.42e-13  -1.02e+16      0.000   -4500.000   -4500.000\n",
       "Floors          1.5e+04   4.51e-13   3.32e+16      0.000     1.5e+04     1.5e+04\n",
       "City          3500.0000   2.76e-13   1.27e+16      0.000    3500.000    3500.000\n",
       "Solar          250.0000   4.51e-13   5.54e+14      0.000     250.000     250.000\n",
       "Electric      1250.0000   4.51e-13   2.77e+15      0.000    1250.000    1250.000\n",
       "Fiber         1.175e+04   4.51e-13    2.6e+16      0.000    1.18e+04    1.18e+04\n",
       "GlassDoor     4450.0000   4.51e-13   9.86e+15      0.000    4450.000    4450.000\n",
       "SwimmingPool  4.974e-14   4.51e-13      0.110      0.912   -8.35e-13    9.34e-13\n",
       "Garden        5.166e-12   4.51e-13     11.450      0.000    4.28e-12    6.05e-12\n",
       "==============================================================================\n",
       "Omnibus:                   123629.996   Durbin-Watson:                   0.474\n",
       "Prob(Omnibus):                  0.000   Jarque-Bera (JB):            21390.415\n",
       "Skew:                          -0.001   Prob(JB):                         0.00\n",
       "Kurtosis:                       1.987   Cond. No.                     8.55e+17\n",
       "==============================================================================\n",
       "\n",
       "Warnings:\n",
       "[1] Standard Errors assume that the covariance matrix of the errors is correctly specified.\n",
       "[2] The smallest eigenvalue is 1.42e-26. This might indicate that there are\n",
       "strong multicollinearity problems or that the design matrix is singular.\n",
       "\"\"\""
      ]
     },
     "execution_count": 2339,
     "metadata": {},
     "output_type": "execute_result"
    }
   ],
   "source": [
    "#Checking the Regression results to determine the confidence level interval, AIC, BIC and Adjusted R squared values.\n",
    "linearModel = smapi.ols(formula=\"target~Area+Garage+FirePlace+Baths+WhiteMarble+BlackMarble+IndianMarble+Floors+City+Solar+Electric+Fiber+GlassDoor+SwimmingPool+Garden\",data = df).fit()\n",
    "predictions = linearModel.predict(x)\n",
    "linearModel.summary()"
   ]
  },
  {
   "cell_type": "code",
   "execution_count": 2340,
   "metadata": {},
   "outputs": [
    {
     "name": "stdout",
     "output_type": "stream",
     "text": [
      "100.0\n"
     ]
    }
   ],
   "source": [
    "print((linear_model.score(x_test,target_test))*100)"
   ]
  },
  {
   "cell_type": "markdown",
   "metadata": {},
   "source": [
    "As we can see above, our model is a perfect fit.\n",
    "We are getting a perfect Adjusted R squared value of 1.000, The AIC and BIC values are complying and are low.\n",
    "We are also getting a 100% accuracy score for this model.\n",
    "\n",
    "From the P>|t| values for each feature, we can see that all of them are highly significant to this model. The probability of any outcome being accurate is high enough. \n",
    "We can notice that the Swimming pool values are not that significant to the model with such high P value.\n",
    "\n",
    "For now, we will choose this as our best fit model."
   ]
  },
  {
   "cell_type": "markdown",
   "metadata": {},
   "source": [
    "## Linear Model 2"
   ]
  },
  {
   "cell_type": "code",
   "execution_count": 2341,
   "metadata": {},
   "outputs": [],
   "source": [
    "#Taking the attributes that showed the highest correlation with Prices -\n",
    "x2 = df[['WhiteMarble','IndianMarble','Floors','City','Fiber']]\n",
    "target2 = df[['Prices']]"
   ]
  },
  {
   "cell_type": "code",
   "execution_count": 2342,
   "metadata": {},
   "outputs": [],
   "source": [
    "x2_train, x2_test , target2_train, target2_test = train_test_split(x2,target2,train_size = 0.4)"
   ]
  },
  {
   "cell_type": "code",
   "execution_count": 2343,
   "metadata": {},
   "outputs": [
    {
     "data": {
      "text/plain": [
       "(200000, 5)"
      ]
     },
     "execution_count": 2343,
     "metadata": {},
     "output_type": "execute_result"
    }
   ],
   "source": [
    "x2_train.shape"
   ]
  },
  {
   "cell_type": "code",
   "execution_count": 2344,
   "metadata": {},
   "outputs": [
    {
     "data": {
      "text/plain": [
       "(300000, 5)"
      ]
     },
     "execution_count": 2344,
     "metadata": {},
     "output_type": "execute_result"
    }
   ],
   "source": [
    "x2_test.shape"
   ]
  },
  {
   "cell_type": "code",
   "execution_count": 2345,
   "metadata": {},
   "outputs": [
    {
     "data": {
      "text/plain": [
       "(200000, 1)"
      ]
     },
     "execution_count": 2345,
     "metadata": {},
     "output_type": "execute_result"
    }
   ],
   "source": [
    "target2_train.shape"
   ]
  },
  {
   "cell_type": "code",
   "execution_count": 2346,
   "metadata": {},
   "outputs": [
    {
     "data": {
      "text/plain": [
       "(300000, 1)"
      ]
     },
     "execution_count": 2346,
     "metadata": {},
     "output_type": "execute_result"
    }
   ],
   "source": [
    "target2_test.shape"
   ]
  },
  {
   "cell_type": "code",
   "execution_count": 2347,
   "metadata": {},
   "outputs": [
    {
     "data": {
      "text/plain": [
       "LinearRegression(copy_X=True, fit_intercept=True, n_jobs=None,\n",
       "         normalize=False)"
      ]
     },
     "execution_count": 2347,
     "metadata": {},
     "output_type": "execute_result"
    }
   ],
   "source": [
    "linear_model2 = LinearRegression()\n",
    "linear_model2.fit(x2,target2)"
   ]
  },
  {
   "cell_type": "code",
   "execution_count": 2348,
   "metadata": {},
   "outputs": [],
   "source": [
    "predict_y2 = linear_model2.predict(x2_test)"
   ]
  },
  {
   "cell_type": "code",
   "execution_count": 2349,
   "metadata": {},
   "outputs": [
    {
     "name": "stdout",
     "output_type": "stream",
     "text": [
      "[[54082.35561989]\n",
      " [35596.50826997]\n",
      " [49085.8104454 ]\n",
      " ...\n",
      " [32879.13069047]\n",
      " [49085.8104454 ]\n",
      " [32879.13069047]]\n"
     ]
    }
   ],
   "source": [
    "print (predict_y2)"
   ]
  },
  {
   "cell_type": "code",
   "execution_count": 2350,
   "metadata": {},
   "outputs": [
    {
     "data": {
      "text/plain": [
       "<matplotlib.collections.PathCollection at 0x21507e8c5c0>"
      ]
     },
     "execution_count": 2350,
     "metadata": {},
     "output_type": "execute_result"
    },
    {
     "data": {
      "image/png": "[encoded data removed]",
      "text/plain": [
       "<Figure size 432x288 with 1 Axes>"
      ]
     },
     "metadata": {},
     "output_type": "display_data"
    }
   ],
   "source": [
    "plt.scatter(predict_y2,target2_test)"
   ]
  },
  {
   "cell_type": "code",
   "execution_count": 2351,
   "metadata": {},
   "outputs": [
    {
     "data": {
      "text/html": [
       "<table class=\"simpletable\">\n",
       "<caption>OLS Regression Results</caption>\n",
       "<tr>\n",
       "  <th>Dep. Variable:</th>         <td>target2</td>     <th>  R-squared:         </th>  <td>   0.903</td>  \n",
       "</tr>\n",
       "<tr>\n",
       "  <th>Model:</th>                   <td>OLS</td>       <th>  Adj. R-squared:    </th>  <td>   0.903</td>  \n",
       "</tr>\n",
       "<tr>\n",
       "  <th>Method:</th>             <td>Least Squares</td>  <th>  F-statistic:       </th>  <td>9.265e+05</td> \n",
       "</tr>\n",
       "<tr>\n",
       "  <th>Date:</th>             <td>Mon, 25 Feb 2019</td> <th>  Prob (F-statistic):</th>   <td>  0.00</td>   \n",
       "</tr>\n",
       "<tr>\n",
       "  <th>Time:</th>                 <td>23:38:25</td>     <th>  Log-Likelihood:    </th> <td>-4.8282e+06</td>\n",
       "</tr>\n",
       "<tr>\n",
       "  <th>No. Observations:</th>      <td>500000</td>      <th>  AIC:               </th>  <td>9.656e+06</td> \n",
       "</tr>\n",
       "<tr>\n",
       "  <th>Df Residuals:</th>          <td>499994</td>      <th>  BIC:               </th>  <td>9.656e+06</td> \n",
       "</tr>\n",
       "<tr>\n",
       "  <th>Df Model:</th>              <td>     5</td>      <th>                     </th>      <td> </td>     \n",
       "</tr>\n",
       "<tr>\n",
       "  <th>Covariance Type:</th>      <td>nonrobust</td>    <th>                     </th>      <td> </td>     \n",
       "</tr>\n",
       "</table>\n",
       "<table class=\"simpletable\">\n",
       "<tr>\n",
       "        <td></td>          <th>coef</th>     <th>std err</th>      <th>t</th>      <th>P>|t|</th>  <th>[0.025</th>    <th>0.975]</th>  \n",
       "</tr>\n",
       "<tr>\n",
       "  <th>Intercept</th>    <td> 2.036e+04</td> <td>   17.749</td> <td> 1147.202</td> <td> 0.000</td> <td> 2.03e+04</td> <td> 2.04e+04</td>\n",
       "</tr>\n",
       "<tr>\n",
       "  <th>WhiteMarble</th>  <td> 9022.6577</td> <td>   13.103</td> <td>  688.584</td> <td> 0.000</td> <td> 8996.976</td> <td> 9048.340</td>\n",
       "</tr>\n",
       "<tr>\n",
       "  <th>IndianMarble</th> <td>-4996.5452</td> <td>   13.090</td> <td> -381.701</td> <td> 0.000</td> <td>-5022.202</td> <td>-4970.889</td>\n",
       "</tr>\n",
       "<tr>\n",
       "  <th>Floors</th>       <td> 1.499e+04</td> <td>   10.691</td> <td> 1402.287</td> <td> 0.000</td> <td>  1.5e+04</td> <td>  1.5e+04</td>\n",
       "</tr>\n",
       "<tr>\n",
       "  <th>City</th>         <td> 3494.2263</td> <td>    6.549</td> <td>  533.542</td> <td> 0.000</td> <td> 3481.390</td> <td> 3507.062</td>\n",
       "</tr>\n",
       "<tr>\n",
       "  <th>Fiber</th>        <td> 1.174e+04</td> <td>   10.691</td> <td> 1098.137</td> <td> 0.000</td> <td> 1.17e+04</td> <td> 1.18e+04</td>\n",
       "</tr>\n",
       "</table>\n",
       "<table class=\"simpletable\">\n",
       "<tr>\n",
       "  <th>Omnibus:</th>       <td>4768.605</td> <th>  Durbin-Watson:     </th> <td>   2.002</td>\n",
       "</tr>\n",
       "<tr>\n",
       "  <th>Prob(Omnibus):</th>  <td> 0.000</td>  <th>  Jarque-Bera (JB):  </th> <td>3061.076</td>\n",
       "</tr>\n",
       "<tr>\n",
       "  <th>Skew:</th>           <td> 0.001</td>  <th>  Prob(JB):          </th> <td>    0.00</td>\n",
       "</tr>\n",
       "<tr>\n",
       "  <th>Kurtosis:</th>       <td> 2.617</td>  <th>  Cond. No.          </th> <td>    9.76</td>\n",
       "</tr>\n",
       "</table><br/><br/>Warnings:<br/>[1] Standard Errors assume that the covariance matrix of the errors is correctly specified."
      ],
      "text/plain": [
       "<class 'statsmodels.iolib.summary.Summary'>\n",
       "\"\"\"\n",
       "                            OLS Regression Results                            \n",
       "==============================================================================\n",
       "Dep. Variable:                target2   R-squared:                       0.903\n",
       "Model:                            OLS   Adj. R-squared:                  0.903\n",
       "Method:                 Least Squares   F-statistic:                 9.265e+05\n",
       "Date:                Mon, 25 Feb 2019   Prob (F-statistic):               0.00\n",
       "Time:                        23:38:25   Log-Likelihood:            -4.8282e+06\n",
       "No. Observations:              500000   AIC:                         9.656e+06\n",
       "Df Residuals:                  499994   BIC:                         9.656e+06\n",
       "Df Model:                           5                                         \n",
       "Covariance Type:            nonrobust                                         \n",
       "================================================================================\n",
       "                   coef    std err          t      P>|t|      [0.025      0.975]\n",
       "--------------------------------------------------------------------------------\n",
       "Intercept     2.036e+04     17.749   1147.202      0.000    2.03e+04    2.04e+04\n",
       "WhiteMarble   9022.6577     13.103    688.584      0.000    8996.976    9048.340\n",
       "IndianMarble -4996.5452     13.090   -381.701      0.000   -5022.202   -4970.889\n",
       "Floors        1.499e+04     10.691   1402.287      0.000     1.5e+04     1.5e+04\n",
       "City          3494.2263      6.549    533.542      0.000    3481.390    3507.062\n",
       "Fiber         1.174e+04     10.691   1098.137      0.000    1.17e+04    1.18e+04\n",
       "==============================================================================\n",
       "Omnibus:                     4768.605   Durbin-Watson:                   2.002\n",
       "Prob(Omnibus):                  0.000   Jarque-Bera (JB):             3061.076\n",
       "Skew:                           0.001   Prob(JB):                         0.00\n",
       "Kurtosis:                       2.617   Cond. No.                         9.76\n",
       "==============================================================================\n",
       "\n",
       "Warnings:\n",
       "[1] Standard Errors assume that the covariance matrix of the errors is correctly specified.\n",
       "\"\"\""
      ]
     },
     "execution_count": 2351,
     "metadata": {},
     "output_type": "execute_result"
    }
   ],
   "source": [
    "linearModel2 = smapi.ols(formula=\"target2~WhiteMarble+IndianMarble+Floors+City+Fiber\",data = df).fit()\n",
    "predictions = linearModel2.predict(x2)\n",
    "linearModel2.summary()"
   ]
  },
  {
   "cell_type": "code",
   "execution_count": 2352,
   "metadata": {},
   "outputs": [
    {
     "name": "stdout",
     "output_type": "stream",
     "text": [
      "90.28777156424567\n"
     ]
    }
   ],
   "source": [
    "print((linear_model2.score(x2_test,target2_test))*100)"
   ]
  },
  {
   "cell_type": "markdown",
   "metadata": {},
   "source": [
    "Taking all the features that showed high correlation with Prices, we can observe that they give us a near perfect adjusted R square value and the AIC and BIC values are complying too. \n",
    "\n",
    "We get an accuracy score of 90% with this model. \n",
    "\n",
    "We can also observe that all the features selected are highly significant to this model."
   ]
  },
  {
   "cell_type": "markdown",
   "metadata": {},
   "source": [
    "## MultiCollinearity\n",
    "\n",
    "## Multicollinearity is an issue that occurs when two independent variables are in some way acting as determing factors to each other. We will check if this issue occurs in our model above."
   ]
  },
  {
   "cell_type": "code",
   "execution_count": 2353,
   "metadata": {},
   "outputs": [],
   "source": [
    "rsquare = linear_model2.score(x2,target2)"
   ]
  },
  {
   "cell_type": "code",
   "execution_count": 2354,
   "metadata": {},
   "outputs": [
    {
     "data": {
      "text/plain": [
       "0.9025858757044811"
      ]
     },
     "execution_count": 2354,
     "metadata": {},
     "output_type": "execute_result"
    }
   ],
   "source": [
    "rsquare"
   ]
  },
  {
   "cell_type": "code",
   "execution_count": 2355,
   "metadata": {},
   "outputs": [
    {
     "data": {
      "text/plain": [
       "10.265451824689869"
      ]
     },
     "execution_count": 2355,
     "metadata": {},
     "output_type": "execute_result"
    }
   ],
   "source": [
    "#Checking if the value crosses a threshold of 4.\n",
    "1/(1-rsquare)"
   ]
  },
  {
   "cell_type": "code",
   "execution_count": 2356,
   "metadata": {},
   "outputs": [
    {
     "data": {
      "text/plain": [
       "WhiteMarble     1.727654\n",
       "IndianMarble    1.732178\n",
       "Floors          1.816946\n",
       "City            3.179936\n",
       "Fiber           1.818022\n",
       "dtype: float64"
      ]
     },
     "execution_count": 2356,
     "metadata": {},
     "output_type": "execute_result"
    }
   ],
   "source": [
    "#Since our 1/(1-rsquare) value is around 10, there is an investigation required to check if there is\n",
    "#multicollinearity amongst the indepedent variable\n",
    "pd.Series([variance_inflation_factor(x2.values, i) for i in range(x2.shape[1])], index=x2.columns)"
   ]
  },
  {
   "cell_type": "code",
   "execution_count": 2357,
   "metadata": {},
   "outputs": [
    {
     "data": {
      "text/html": [
       "<div>\n",
       "<style scoped>\n",
       "    .dataframe tbody tr th:only-of-type {\n",
       "        vertical-align: middle;\n",
       "    }\n",
       "\n",
       "    .dataframe tbody tr th {\n",
       "        vertical-align: top;\n",
       "    }\n",
       "\n",
       "    .dataframe thead th {\n",
       "        text-align: right;\n",
       "    }\n",
       "</style>\n",
       "<table border=\"1\" class=\"dataframe\">\n",
       "  <thead>\n",
       "    <tr style=\"text-align: right;\">\n",
       "      <th></th>\n",
       "      <th>VIF Factor</th>\n",
       "      <th>features</th>\n",
       "    </tr>\n",
       "  </thead>\n",
       "  <tbody>\n",
       "    <tr>\n",
       "      <th>0</th>\n",
       "      <td>1.7</td>\n",
       "      <td>WhiteMarble</td>\n",
       "    </tr>\n",
       "    <tr>\n",
       "      <th>1</th>\n",
       "      <td>1.7</td>\n",
       "      <td>IndianMarble</td>\n",
       "    </tr>\n",
       "    <tr>\n",
       "      <th>2</th>\n",
       "      <td>1.8</td>\n",
       "      <td>Floors</td>\n",
       "    </tr>\n",
       "    <tr>\n",
       "      <th>3</th>\n",
       "      <td>3.2</td>\n",
       "      <td>City</td>\n",
       "    </tr>\n",
       "    <tr>\n",
       "      <th>4</th>\n",
       "      <td>1.8</td>\n",
       "      <td>Fiber</td>\n",
       "    </tr>\n",
       "  </tbody>\n",
       "</table>\n",
       "</div>"
      ],
      "text/plain": [
       "   VIF Factor      features\n",
       "0         1.7   WhiteMarble\n",
       "1         1.7  IndianMarble\n",
       "2         1.8        Floors\n",
       "3         3.2          City\n",
       "4         1.8         Fiber"
      ]
     },
     "execution_count": 2357,
     "metadata": {},
     "output_type": "execute_result"
    }
   ],
   "source": [
    "vif = pd.DataFrame()\n",
    "vif[\"VIF Factor\"] = [variance_inflation_factor(x2.values, i) for i in range(x2.shape[1])]\n",
    "vif[\"features\"] = x2.columns\n",
    "vif.round(1)"
   ]
  },
  {
   "cell_type": "markdown",
   "metadata": {},
   "source": [
    "## From the above output, we can see that the Variance Inflation Factor (VIF) amongst these attributes is below the threshold of 4 and this implies that there is no multicollinearity amongst these independent features."
   ]
  },
  {
   "cell_type": "markdown",
   "metadata": {},
   "source": [
    "## Linear Model 3"
   ]
  },
  {
   "cell_type": "code",
   "execution_count": 2358,
   "metadata": {},
   "outputs": [],
   "source": [
    "#Taking the attributes that showed the least correlation with Prices -\n",
    "x3 = df[['BlackMarble', 'Baths','GlassDoor']]\n",
    "target3 = df['Prices']"
   ]
  },
  {
   "cell_type": "markdown",
   "metadata": {},
   "source": [
    "Dividing the training and testing set into 60-40"
   ]
  },
  {
   "cell_type": "code",
   "execution_count": 2359,
   "metadata": {},
   "outputs": [],
   "source": [
    "x3_train, x3_test , target3_train, target3_test = train_test_split(x3,target3,train_size = 0.6)"
   ]
  },
  {
   "cell_type": "code",
   "execution_count": 2360,
   "metadata": {},
   "outputs": [
    {
     "data": {
      "text/plain": [
       "LinearRegression(copy_X=True, fit_intercept=True, n_jobs=None,\n",
       "         normalize=False)"
      ]
     },
     "execution_count": 2360,
     "metadata": {},
     "output_type": "execute_result"
    }
   ],
   "source": [
    "linear_model3 = LinearRegression()\n",
    "linear_model3.fit(x3,target3)"
   ]
  },
  {
   "cell_type": "code",
   "execution_count": 2361,
   "metadata": {},
   "outputs": [
    {
     "name": "stdout",
     "output_type": "stream",
     "text": [
      "[36027.90032478 39757.44451633 43680.79726805 ... 39757.44451633\n",
      " 38024.11442057 42996.84000931]\n"
     ]
    }
   ],
   "source": [
    "predict_y3 = linear_model3.predict(x3_test)\n",
    "print(predict_y3)"
   ]
  },
  {
   "cell_type": "code",
   "execution_count": 2362,
   "metadata": {},
   "outputs": [
    {
     "data": {
      "text/plain": [
       "<matplotlib.collections.PathCollection at 0x21507e5d630>"
      ]
     },
     "execution_count": 2362,
     "metadata": {},
     "output_type": "execute_result"
    },
    {
     "data": {
      "image/png": "[encoded data removed]",
      "text/plain": [
       "<Figure size 432x288 with 1 Axes>"
      ]
     },
     "metadata": {},
     "output_type": "display_data"
    }
   ],
   "source": [
    "plt.scatter(predict_y3,target3_test)"
   ]
  },
  {
   "cell_type": "code",
   "execution_count": 2363,
   "metadata": {},
   "outputs": [
    {
     "data": {
      "text/html": [
       "<table class=\"simpletable\">\n",
       "<caption>OLS Regression Results</caption>\n",
       "<tr>\n",
       "  <th>Dep. Variable:</th>         <td>target3</td>     <th>  R-squared:         </th>  <td>   0.060</td>  \n",
       "</tr>\n",
       "<tr>\n",
       "  <th>Model:</th>                   <td>OLS</td>       <th>  Adj. R-squared:    </th>  <td>   0.060</td>  \n",
       "</tr>\n",
       "<tr>\n",
       "  <th>Method:</th>             <td>Least Squares</td>  <th>  F-statistic:       </th>  <td>1.069e+04</td> \n",
       "</tr>\n",
       "<tr>\n",
       "  <th>Date:</th>             <td>Mon, 25 Feb 2019</td> <th>  Prob (F-statistic):</th>   <td>  0.00</td>   \n",
       "</tr>\n",
       "<tr>\n",
       "  <th>Time:</th>                 <td>23:38:30</td>     <th>  Log-Likelihood:    </th> <td>-5.3948e+06</td>\n",
       "</tr>\n",
       "<tr>\n",
       "  <th>No. Observations:</th>      <td>500000</td>      <th>  AIC:               </th>  <td>1.079e+07</td> \n",
       "</tr>\n",
       "<tr>\n",
       "  <th>Df Residuals:</th>          <td>499996</td>      <th>  BIC:               </th>  <td>1.079e+07</td> \n",
       "</tr>\n",
       "<tr>\n",
       "  <th>Df Model:</th>              <td>     3</td>      <th>                     </th>      <td> </td>     \n",
       "</tr>\n",
       "<tr>\n",
       "  <th>Covariance Type:</th>      <td>nonrobust</td>    <th>                     </th>      <td> </td>     \n",
       "</tr>\n",
       "</table>\n",
       "<table class=\"simpletable\">\n",
       "<tr>\n",
       "       <td></td>          <th>coef</th>     <th>std err</th>      <th>t</th>      <th>P>|t|</th>  <th>[0.025</th>    <th>0.975]</th>  \n",
       "</tr>\n",
       "<tr>\n",
       "  <th>Intercept</th>   <td> 3.678e+04</td> <td>   43.949</td> <td>  836.908</td> <td> 0.000</td> <td> 3.67e+04</td> <td> 3.69e+04</td>\n",
       "</tr>\n",
       "<tr>\n",
       "  <th>BlackMarble</th> <td>-1996.2141</td> <td>   35.236</td> <td>  -56.653</td> <td> 0.000</td> <td>-2065.275</td> <td>-1927.153</td>\n",
       "</tr>\n",
       "<tr>\n",
       "  <th>Baths</th>       <td> 1243.1814</td> <td>   11.740</td> <td>  105.897</td> <td> 0.000</td> <td> 1220.172</td> <td> 1266.191</td>\n",
       "</tr>\n",
       "<tr>\n",
       "  <th>GlassDoor</th>   <td> 4413.5015</td> <td>   33.205</td> <td>  132.919</td> <td> 0.000</td> <td> 4348.422</td> <td> 4478.581</td>\n",
       "</tr>\n",
       "</table>\n",
       "<table class=\"simpletable\">\n",
       "<tr>\n",
       "  <th>Omnibus:</th>       <td>12411.406</td> <th>  Durbin-Watson:     </th> <td>   2.004</td>\n",
       "</tr>\n",
       "<tr>\n",
       "  <th>Prob(Omnibus):</th>  <td> 0.000</td>   <th>  Jarque-Bera (JB):  </th> <td>6256.624</td>\n",
       "</tr>\n",
       "<tr>\n",
       "  <th>Skew:</th>           <td>-0.001</td>   <th>  Prob(JB):          </th> <td>    0.00</td>\n",
       "</tr>\n",
       "<tr>\n",
       "  <th>Kurtosis:</th>       <td> 2.452</td>   <th>  Cond. No.          </th> <td>    10.3</td>\n",
       "</tr>\n",
       "</table><br/><br/>Warnings:<br/>[1] Standard Errors assume that the covariance matrix of the errors is correctly specified."
      ],
      "text/plain": [
       "<class 'statsmodels.iolib.summary.Summary'>\n",
       "\"\"\"\n",
       "                            OLS Regression Results                            \n",
       "==============================================================================\n",
       "Dep. Variable:                target3   R-squared:                       0.060\n",
       "Model:                            OLS   Adj. R-squared:                  0.060\n",
       "Method:                 Least Squares   F-statistic:                 1.069e+04\n",
       "Date:                Mon, 25 Feb 2019   Prob (F-statistic):               0.00\n",
       "Time:                        23:38:30   Log-Likelihood:            -5.3948e+06\n",
       "No. Observations:              500000   AIC:                         1.079e+07\n",
       "Df Residuals:                  499996   BIC:                         1.079e+07\n",
       "Df Model:                           3                                         \n",
       "Covariance Type:            nonrobust                                         \n",
       "===============================================================================\n",
       "                  coef    std err          t      P>|t|      [0.025      0.975]\n",
       "-------------------------------------------------------------------------------\n",
       "Intercept    3.678e+04     43.949    836.908      0.000    3.67e+04    3.69e+04\n",
       "BlackMarble -1996.2141     35.236    -56.653      0.000   -2065.275   -1927.153\n",
       "Baths        1243.1814     11.740    105.897      0.000    1220.172    1266.191\n",
       "GlassDoor    4413.5015     33.205    132.919      0.000    4348.422    4478.581\n",
       "==============================================================================\n",
       "Omnibus:                    12411.406   Durbin-Watson:                   2.004\n",
       "Prob(Omnibus):                  0.000   Jarque-Bera (JB):             6256.624\n",
       "Skew:                          -0.001   Prob(JB):                         0.00\n",
       "Kurtosis:                       2.452   Cond. No.                         10.3\n",
       "==============================================================================\n",
       "\n",
       "Warnings:\n",
       "[1] Standard Errors assume that the covariance matrix of the errors is correctly specified.\n",
       "\"\"\""
      ]
     },
     "execution_count": 2363,
     "metadata": {},
     "output_type": "execute_result"
    }
   ],
   "source": [
    "linearModel3 = smapi.ols(formula=\"target3~BlackMarble+Baths+GlassDoor\",data = df).fit()\n",
    "predictions = linearModel3.predict(x3)\n",
    "linearModel3.summary()"
   ]
  },
  {
   "cell_type": "code",
   "execution_count": 2364,
   "metadata": {},
   "outputs": [
    {
     "name": "stdout",
     "output_type": "stream",
     "text": [
      "6.029915711309252\n"
     ]
    }
   ],
   "source": [
    "accuracy = linear_model3.score(x3_test,target3_test)\n",
    "print(accuracy*100)"
   ]
  },
  {
   "cell_type": "markdown",
   "metadata": {},
   "source": [
    "Here, we chose the the features that had least correlation with Prices. \n",
    "\n",
    "From the above result, we can see that the Adjusted R square value is very low and the accuracy of this model also stands at a low 6.15% "
   ]
  },
  {
   "cell_type": "markdown",
   "metadata": {},
   "source": [
    "## Checking for Multicollinearity amongst these features"
   ]
  },
  {
   "cell_type": "code",
   "execution_count": 2365,
   "metadata": {},
   "outputs": [
    {
     "data": {
      "text/plain": [
       "0.060284886657565935"
      ]
     },
     "execution_count": 2365,
     "metadata": {},
     "output_type": "execute_result"
    }
   ],
   "source": [
    "rsquare = linear_model3.score(x3,target3)\n",
    "rsquare"
   ]
  },
  {
   "cell_type": "code",
   "execution_count": 2366,
   "metadata": {},
   "outputs": [
    {
     "data": {
      "text/plain": [
       "1.0641523008426896"
      ]
     },
     "execution_count": 2366,
     "metadata": {},
     "output_type": "execute_result"
    }
   ],
   "source": [
    "1/(1-rsquare)"
   ]
  },
  {
   "cell_type": "markdown",
   "metadata": {},
   "source": [
    "As seen above, the value is very low and there is very less chance of any multicollinearity to occur"
   ]
  },
  {
   "cell_type": "code",
   "execution_count": 2367,
   "metadata": {},
   "outputs": [
    {
     "data": {
      "text/plain": [
       "BlackMarble    1.390210\n",
       "Baths          1.958510\n",
       "GlassDoor      1.712306\n",
       "dtype: float64"
      ]
     },
     "execution_count": 2367,
     "metadata": {},
     "output_type": "execute_result"
    }
   ],
   "source": [
    "pd.Series([variance_inflation_factor(x3.values, i) for i in range(x3.shape[1])], index=x3.columns)"
   ]
  },
  {
   "cell_type": "markdown",
   "metadata": {},
   "source": [
    "# Interaction Effect \n",
    "\n",
    "An interaction effect is the simultaneous effect of two or more independent variables on one dependent variable. \n",
    "\n",
    "As noticed in the above model, the bath feature did not have much effect on the Price. Let us combine Bath with Area to see if there is any sgnificant improvement in the model."
   ]
  },
  {
   "cell_type": "code",
   "execution_count": 1,
   "metadata": {},
   "outputs": [
    {
     "ename": "NameError",
     "evalue": "name 'df' is not defined",
     "output_type": "error",
     "traceback": [
      "\u001b[1;31m---------------------------------------------------------------------------\u001b[0m",
      "\u001b[1;31mNameError\u001b[0m                                 Traceback (most recent call last)",
      "\u001b[1;32m<ipython-input-1-8956e7559e26>\u001b[0m in \u001b[0;36m<module>\u001b[1;34m\u001b[0m\n\u001b[0;32m      1\u001b[0m \u001b[1;31m#Making a new dataframe\u001b[0m\u001b[1;33m\u001b[0m\u001b[1;33m\u001b[0m\u001b[1;33m\u001b[0m\u001b[0m\n\u001b[1;32m----> 2\u001b[1;33m \u001b[0mdf2\u001b[0m \u001b[1;33m=\u001b[0m \u001b[0mdf\u001b[0m\u001b[1;33m.\u001b[0m\u001b[0mcopy\u001b[0m\u001b[1;33m(\u001b[0m\u001b[1;33m)\u001b[0m\u001b[1;33m\u001b[0m\u001b[1;33m\u001b[0m\u001b[0m\n\u001b[0m",
      "\u001b[1;31mNameError\u001b[0m: name 'df' is not defined"
     ]
    }
   ],
   "source": [
    "#Making a new dataframe\n",
    "df2 = df.copy()"
   ]
  },
  {
   "cell_type": "code",
   "execution_count": 2369,
   "metadata": {},
   "outputs": [],
   "source": [
    "df2['Area_Bath'] = df2['Area']*df2['Baths']\n",
    "x3_1 = df2[['BlackMarble', 'Area_Bath','GlassDoor','Area','Baths']]"
   ]
  },
  {
   "cell_type": "code",
   "execution_count": 2370,
   "metadata": {},
   "outputs": [
    {
     "data": {
      "text/html": [
       "<table class=\"simpletable\">\n",
       "<caption>OLS Regression Results</caption>\n",
       "<tr>\n",
       "  <th>Dep. Variable:</th>         <td>target3</td>     <th>  R-squared:         </th>  <td>   0.077</td>  \n",
       "</tr>\n",
       "<tr>\n",
       "  <th>Model:</th>                   <td>OLS</td>       <th>  Adj. R-squared:    </th>  <td>   0.077</td>  \n",
       "</tr>\n",
       "<tr>\n",
       "  <th>Method:</th>             <td>Least Squares</td>  <th>  F-statistic:       </th>  <td>1.385e+04</td> \n",
       "</tr>\n",
       "<tr>\n",
       "  <th>Date:</th>             <td>Mon, 25 Feb 2019</td> <th>  Prob (F-statistic):</th>   <td>  0.00</td>   \n",
       "</tr>\n",
       "<tr>\n",
       "  <th>Time:</th>                 <td>23:38:31</td>     <th>  Log-Likelihood:    </th> <td>-5.3904e+06</td>\n",
       "</tr>\n",
       "<tr>\n",
       "  <th>No. Observations:</th>      <td>500000</td>      <th>  AIC:               </th>  <td>1.078e+07</td> \n",
       "</tr>\n",
       "<tr>\n",
       "  <th>Df Residuals:</th>          <td>499996</td>      <th>  BIC:               </th>  <td>1.078e+07</td> \n",
       "</tr>\n",
       "<tr>\n",
       "  <th>Df Model:</th>              <td>     3</td>      <th>                     </th>      <td> </td>     \n",
       "</tr>\n",
       "<tr>\n",
       "  <th>Covariance Type:</th>      <td>nonrobust</td>    <th>                     </th>      <td> </td>     \n",
       "</tr>\n",
       "</table>\n",
       "<table class=\"simpletable\">\n",
       "<tr>\n",
       "       <td></td>          <th>coef</th>     <th>std err</th>      <th>t</th>      <th>P>|t|</th>  <th>[0.025</th>    <th>0.975]</th>  \n",
       "</tr>\n",
       "<tr>\n",
       "  <th>Intercept</th>   <td> 3.754e+04</td> <td>   33.344</td> <td> 1125.868</td> <td> 0.000</td> <td> 3.75e+04</td> <td> 3.76e+04</td>\n",
       "</tr>\n",
       "<tr>\n",
       "  <th>BlackMarble</th> <td>-1990.2442</td> <td>   34.926</td> <td>  -56.984</td> <td> 0.000</td> <td>-2058.699</td> <td>-1921.789</td>\n",
       "</tr>\n",
       "<tr>\n",
       "  <th>Area_Bath</th>   <td>    7.9135</td> <td>    0.056</td> <td>  142.525</td> <td> 0.000</td> <td>    7.805</td> <td>    8.022</td>\n",
       "</tr>\n",
       "<tr>\n",
       "  <th>GlassDoor</th>   <td> 4417.0114</td> <td>   32.913</td> <td>  134.203</td> <td> 0.000</td> <td> 4352.503</td> <td> 4481.520</td>\n",
       "</tr>\n",
       "</table>\n",
       "<table class=\"simpletable\">\n",
       "<tr>\n",
       "  <th>Omnibus:</th>       <td>13712.618</td> <th>  Durbin-Watson:     </th> <td>   2.003</td>\n",
       "</tr>\n",
       "<tr>\n",
       "  <th>Prob(Omnibus):</th>  <td> 0.000</td>   <th>  Jarque-Bera (JB):  </th> <td>6701.702</td>\n",
       "</tr>\n",
       "<tr>\n",
       "  <th>Skew:</th>           <td>-0.000</td>   <th>  Prob(JB):          </th> <td>    0.00</td>\n",
       "</tr>\n",
       "<tr>\n",
       "  <th>Kurtosis:</th>       <td> 2.433</td>   <th>  Cond. No.          </th> <td>1.23e+03</td>\n",
       "</tr>\n",
       "</table><br/><br/>Warnings:<br/>[1] Standard Errors assume that the covariance matrix of the errors is correctly specified.<br/>[2] The condition number is large, 1.23e+03. This might indicate that there are<br/>strong multicollinearity or other numerical problems."
      ],
      "text/plain": [
       "<class 'statsmodels.iolib.summary.Summary'>\n",
       "\"\"\"\n",
       "                            OLS Regression Results                            \n",
       "==============================================================================\n",
       "Dep. Variable:                target3   R-squared:                       0.077\n",
       "Model:                            OLS   Adj. R-squared:                  0.077\n",
       "Method:                 Least Squares   F-statistic:                 1.385e+04\n",
       "Date:                Mon, 25 Feb 2019   Prob (F-statistic):               0.00\n",
       "Time:                        23:38:31   Log-Likelihood:            -5.3904e+06\n",
       "No. Observations:              500000   AIC:                         1.078e+07\n",
       "Df Residuals:                  499996   BIC:                         1.078e+07\n",
       "Df Model:                           3                                         \n",
       "Covariance Type:            nonrobust                                         \n",
       "===============================================================================\n",
       "                  coef    std err          t      P>|t|      [0.025      0.975]\n",
       "-------------------------------------------------------------------------------\n",
       "Intercept    3.754e+04     33.344   1125.868      0.000    3.75e+04    3.76e+04\n",
       "BlackMarble -1990.2442     34.926    -56.984      0.000   -2058.699   -1921.789\n",
       "Area_Bath       7.9135      0.056    142.525      0.000       7.805       8.022\n",
       "GlassDoor    4417.0114     32.913    134.203      0.000    4352.503    4481.520\n",
       "==============================================================================\n",
       "Omnibus:                    13712.618   Durbin-Watson:                   2.003\n",
       "Prob(Omnibus):                  0.000   Jarque-Bera (JB):             6701.702\n",
       "Skew:                          -0.000   Prob(JB):                         0.00\n",
       "Kurtosis:                       2.433   Cond. No.                     1.23e+03\n",
       "==============================================================================\n",
       "\n",
       "Warnings:\n",
       "[1] Standard Errors assume that the covariance matrix of the errors is correctly specified.\n",
       "[2] The condition number is large, 1.23e+03. This might indicate that there are\n",
       "strong multicollinearity or other numerical problems.\n",
       "\"\"\""
      ]
     },
     "execution_count": 2370,
     "metadata": {},
     "output_type": "execute_result"
    }
   ],
   "source": [
    "linearModel3_1 = smapi.ols(formula=\"target3~BlackMarble+Area_Bath+GlassDoor\",data = df2).fit()\n",
    "predictions = linearModel3_1.predict(x3_1)\n",
    "linearModel3_1.summary()"
   ]
  },
  {
   "cell_type": "markdown",
   "metadata": {},
   "source": [
    "As we can see, the interaction did not have a significant effect on the model. There was a very small, almost negligible improvement in the Adjusted R Squared value and an almost negligible drop in AIC and BIC values.\n",
    "\n",
    "This shows that our assumptions did not give the expected result."
   ]
  },
  {
   "cell_type": "markdown",
   "metadata": {},
   "source": [
    "## Linear Model 4"
   ]
  },
  {
   "cell_type": "code",
   "execution_count": 2371,
   "metadata": {},
   "outputs": [],
   "source": [
    "#A single variate linear regression -\n",
    "x4 = df[['Floors']]\n",
    "target4 = df[['Prices']]"
   ]
  },
  {
   "cell_type": "code",
   "execution_count": 2372,
   "metadata": {},
   "outputs": [],
   "source": [
    "x4_train, x4_test , target4_train, target4_test = train_test_split(x4,target4,train_size = 0.6)"
   ]
  },
  {
   "cell_type": "code",
   "execution_count": 2373,
   "metadata": {},
   "outputs": [
    {
     "data": {
      "text/plain": [
       "LinearRegression(copy_X=True, fit_intercept=True, n_jobs=None,\n",
       "         normalize=False)"
      ]
     },
     "execution_count": 2373,
     "metadata": {},
     "output_type": "execute_result"
    }
   ],
   "source": [
    "linear_model4 = LinearRegression()\n",
    "linear_model4.fit(x4,target4)"
   ]
  },
  {
   "cell_type": "code",
   "execution_count": 2374,
   "metadata": {},
   "outputs": [
    {
     "name": "stdout",
     "output_type": "stream",
     "text": [
      "[[49561.04626481]\n",
      " [34557.6565977 ]\n",
      " [34557.6565977 ]\n",
      " ...\n",
      " [49561.04626481]\n",
      " [34557.6565977 ]\n",
      " [34557.6565977 ]]\n"
     ]
    }
   ],
   "source": [
    "predict_y4 = linear_model4.predict(x4_test)\n",
    "print(predict_y4)"
   ]
  },
  {
   "cell_type": "code",
   "execution_count": 2375,
   "metadata": {},
   "outputs": [
    {
     "data": {
      "text/plain": [
       "<matplotlib.collections.PathCollection at 0x21501344358>"
      ]
     },
     "execution_count": 2375,
     "metadata": {},
     "output_type": "execute_result"
    },
    {
     "data": {
      "image/png": "[encoded data removed]",
      "text/plain": [
       "<Figure size 432x288 with 1 Axes>"
      ]
     },
     "metadata": {},
     "output_type": "display_data"
    }
   ],
   "source": [
    "plt.scatter(x4_test,target4_test)"
   ]
  },
  {
   "cell_type": "code",
   "execution_count": 2376,
   "metadata": {},
   "outputs": [
    {
     "data": {
      "image/png": "[encoded data removed]",
      "text/plain": [
       "<Figure size 432x288 with 1 Axes>"
      ]
     },
     "metadata": {},
     "output_type": "display_data"
    }
   ],
   "source": [
    "#Linear regression plot that shows the range of Price. As we can see, most of the single floored house lie within \n",
    "#Price range of about 35000 and the multifloored houses lie in the range of 50000.\n",
    "import seaborn as sns; sns.set(color_codes=True)\n",
    "ax = sns.regplot(x=\"Floors\", y=\"Prices\", data=df)"
   ]
  },
  {
   "cell_type": "code",
   "execution_count": 2377,
   "metadata": {},
   "outputs": [
    {
     "data": {
      "image/png": "[encoded data removed]",
      "text/plain": [
       "<Figure size 432x288 with 1 Axes>"
      ]
     },
     "metadata": {},
     "output_type": "display_data"
    }
   ],
   "source": [
    "import seaborn as sns; sns.set(color_codes=True)\n",
    "ax = sns.regplot(x=\"Baths\", y=\"Prices\", data=df)"
   ]
  },
  {
   "cell_type": "code",
   "execution_count": 2378,
   "metadata": {},
   "outputs": [
    {
     "data": {
      "text/html": [
       "<table class=\"simpletable\">\n",
       "<caption>OLS Regression Results</caption>\n",
       "<tr>\n",
       "  <th>Dep. Variable:</th>         <td>target4</td>     <th>  R-squared:         </th>  <td>   0.384</td>  \n",
       "</tr>\n",
       "<tr>\n",
       "  <th>Model:</th>                   <td>OLS</td>       <th>  Adj. R-squared:    </th>  <td>   0.384</td>  \n",
       "</tr>\n",
       "<tr>\n",
       "  <th>Method:</th>             <td>Least Squares</td>  <th>  F-statistic:       </th>  <td>3.113e+05</td> \n",
       "</tr>\n",
       "<tr>\n",
       "  <th>Date:</th>             <td>Mon, 25 Feb 2019</td> <th>  Prob (F-statistic):</th>   <td>  0.00</td>   \n",
       "</tr>\n",
       "<tr>\n",
       "  <th>Time:</th>                 <td>23:40:42</td>     <th>  Log-Likelihood:    </th> <td>-5.2894e+06</td>\n",
       "</tr>\n",
       "<tr>\n",
       "  <th>No. Observations:</th>      <td>500000</td>      <th>  AIC:               </th>  <td>1.058e+07</td> \n",
       "</tr>\n",
       "<tr>\n",
       "  <th>Df Residuals:</th>          <td>499998</td>      <th>  BIC:               </th>  <td>1.058e+07</td> \n",
       "</tr>\n",
       "<tr>\n",
       "  <th>Df Model:</th>              <td>     1</td>      <th>                     </th>      <td> </td>     \n",
       "</tr>\n",
       "<tr>\n",
       "  <th>Covariance Type:</th>      <td>nonrobust</td>    <th>                     </th>      <td> </td>     \n",
       "</tr>\n",
       "</table>\n",
       "<table class=\"simpletable\">\n",
       "<tr>\n",
       "      <td></td>         <th>coef</th>     <th>std err</th>      <th>t</th>      <th>P>|t|</th>  <th>[0.025</th>    <th>0.975]</th>  \n",
       "</tr>\n",
       "<tr>\n",
       "  <th>Intercept</th> <td> 3.456e+04</td> <td>   19.002</td> <td> 1818.605</td> <td> 0.000</td> <td> 3.45e+04</td> <td> 3.46e+04</td>\n",
       "</tr>\n",
       "<tr>\n",
       "  <th>x4</th>        <td>   1.5e+04</td> <td>   26.890</td> <td>  557.958</td> <td> 0.000</td> <td>  1.5e+04</td> <td> 1.51e+04</td>\n",
       "</tr>\n",
       "</table>\n",
       "<table class=\"simpletable\">\n",
       "<tr>\n",
       "  <th>Omnibus:</th>       <td>11394.338</td> <th>  Durbin-Watson:     </th> <td>   2.000</td>\n",
       "</tr>\n",
       "<tr>\n",
       "  <th>Prob(Omnibus):</th>  <td> 0.000</td>   <th>  Jarque-Bera (JB):  </th> <td>6184.456</td>\n",
       "</tr>\n",
       "<tr>\n",
       "  <th>Skew:</th>           <td> 0.074</td>   <th>  Prob(JB):          </th> <td>    0.00</td>\n",
       "</tr>\n",
       "<tr>\n",
       "  <th>Kurtosis:</th>       <td> 2.476</td>   <th>  Cond. No.          </th> <td>    2.62</td>\n",
       "</tr>\n",
       "</table><br/><br/>Warnings:<br/>[1] Standard Errors assume that the covariance matrix of the errors is correctly specified."
      ],
      "text/plain": [
       "<class 'statsmodels.iolib.summary.Summary'>\n",
       "\"\"\"\n",
       "                            OLS Regression Results                            \n",
       "==============================================================================\n",
       "Dep. Variable:                target4   R-squared:                       0.384\n",
       "Model:                            OLS   Adj. R-squared:                  0.384\n",
       "Method:                 Least Squares   F-statistic:                 3.113e+05\n",
       "Date:                Mon, 25 Feb 2019   Prob (F-statistic):               0.00\n",
       "Time:                        23:40:42   Log-Likelihood:            -5.2894e+06\n",
       "No. Observations:              500000   AIC:                         1.058e+07\n",
       "Df Residuals:                  499998   BIC:                         1.058e+07\n",
       "Df Model:                           1                                         \n",
       "Covariance Type:            nonrobust                                         \n",
       "==============================================================================\n",
       "                 coef    std err          t      P>|t|      [0.025      0.975]\n",
       "------------------------------------------------------------------------------\n",
       "Intercept   3.456e+04     19.002   1818.605      0.000    3.45e+04    3.46e+04\n",
       "x4            1.5e+04     26.890    557.958      0.000     1.5e+04    1.51e+04\n",
       "==============================================================================\n",
       "Omnibus:                    11394.338   Durbin-Watson:                   2.000\n",
       "Prob(Omnibus):                  0.000   Jarque-Bera (JB):             6184.456\n",
       "Skew:                           0.074   Prob(JB):                         0.00\n",
       "Kurtosis:                       2.476   Cond. No.                         2.62\n",
       "==============================================================================\n",
       "\n",
       "Warnings:\n",
       "[1] Standard Errors assume that the covariance matrix of the errors is correctly specified.\n",
       "\"\"\""
      ]
     },
     "execution_count": 2378,
     "metadata": {},
     "output_type": "execute_result"
    }
   ],
   "source": [
    "linearModel4 = smapi.ols(formula=\"target4~x4\",data = df).fit()\n",
    "predictions = linearModel4.predict(x4)\n",
    "linearModel4.summary()"
   ]
  },
  {
   "cell_type": "code",
   "execution_count": 2379,
   "metadata": {},
   "outputs": [
    {
     "name": "stdout",
     "output_type": "stream",
     "text": [
      "38.53447512481198\n"
     ]
    }
   ],
   "source": [
    "print(linear_model4.score(x4_test,target4_test)*100)"
   ]
  },
  {
   "cell_type": "markdown",
   "metadata": {},
   "source": [
    "## Linear Model 5"
   ]
  },
  {
   "cell_type": "code",
   "execution_count": 2380,
   "metadata": {},
   "outputs": [],
   "source": [
    "x5 = df[['BlackMarble']]\n",
    "target5 = df['Prices']"
   ]
  },
  {
   "cell_type": "code",
   "execution_count": 2381,
   "metadata": {},
   "outputs": [],
   "source": [
    "x5_train, x5_test , target5_train, target5_test = train_test_split(x5,target5,train_size = 0.6)"
   ]
  },
  {
   "cell_type": "code",
   "execution_count": 2382,
   "metadata": {},
   "outputs": [
    {
     "data": {
      "text/plain": [
       "LinearRegression(copy_X=True, fit_intercept=True, n_jobs=None,\n",
       "         normalize=False)"
      ]
     },
     "execution_count": 2382,
     "metadata": {},
     "output_type": "execute_result"
    }
   ],
   "source": [
    "linear_model5 = LinearRegression()\n",
    "linear_model5.fit(x5,target5)"
   ]
  },
  {
   "cell_type": "code",
   "execution_count": 2383,
   "metadata": {},
   "outputs": [
    {
     "name": "stdout",
     "output_type": "stream",
     "text": [
      "[42717.52626216 42717.52626216 42717.52626216 ... 40711.49388319\n",
      " 42717.52626216 42717.52626216]\n"
     ]
    }
   ],
   "source": [
    "predict_y5 = linear_model5.predict(x5_test)\n",
    "print(predict_y5)"
   ]
  },
  {
   "cell_type": "code",
   "execution_count": 2384,
   "metadata": {},
   "outputs": [
    {
     "data": {
      "text/html": [
       "<table class=\"simpletable\">\n",
       "<caption>OLS Regression Results</caption>\n",
       "<tr>\n",
       "  <th>Dep. Variable:</th>         <td>target5</td>     <th>  R-squared:         </th>  <td>   0.006</td>  \n",
       "</tr>\n",
       "<tr>\n",
       "  <th>Model:</th>                   <td>OLS</td>       <th>  Adj. R-squared:    </th>  <td>   0.006</td>  \n",
       "</tr>\n",
       "<tr>\n",
       "  <th>Method:</th>             <td>Least Squares</td>  <th>  F-statistic:       </th>  <td>   3065.</td>  \n",
       "</tr>\n",
       "<tr>\n",
       "  <th>Date:</th>             <td>Mon, 25 Feb 2019</td> <th>  Prob (F-statistic):</th>   <td>  0.00</td>   \n",
       "</tr>\n",
       "<tr>\n",
       "  <th>Time:</th>                 <td>23:40:42</td>     <th>  Log-Likelihood:    </th> <td>-5.4088e+06</td>\n",
       "</tr>\n",
       "<tr>\n",
       "  <th>No. Observations:</th>      <td>500000</td>      <th>  AIC:               </th>  <td>1.082e+07</td> \n",
       "</tr>\n",
       "<tr>\n",
       "  <th>Df Residuals:</th>          <td>499998</td>      <th>  BIC:               </th>  <td>1.082e+07</td> \n",
       "</tr>\n",
       "<tr>\n",
       "  <th>Df Model:</th>              <td>     1</td>      <th>                     </th>      <td> </td>     \n",
       "</tr>\n",
       "<tr>\n",
       "  <th>Covariance Type:</th>      <td>nonrobust</td>    <th>                     </th>      <td> </td>     \n",
       "</tr>\n",
       "</table>\n",
       "<table class=\"simpletable\">\n",
       "<tr>\n",
       "      <td></td>         <th>coef</th>     <th>std err</th>      <th>t</th>      <th>P>|t|</th>  <th>[0.025</th>    <th>0.975]</th>  \n",
       "</tr>\n",
       "<tr>\n",
       "  <th>Intercept</th> <td> 4.272e+04</td> <td>   20.901</td> <td> 2043.754</td> <td> 0.000</td> <td> 4.27e+04</td> <td> 4.28e+04</td>\n",
       "</tr>\n",
       "<tr>\n",
       "  <th>x5</th>        <td>-2006.0324</td> <td>   36.237</td> <td>  -55.358</td> <td> 0.000</td> <td>-2077.057</td> <td>-1935.008</td>\n",
       "</tr>\n",
       "</table>\n",
       "<table class=\"simpletable\">\n",
       "<tr>\n",
       "  <th>Omnibus:</th>       <td>9239.095</td> <th>  Durbin-Watson:     </th> <td>   2.004</td>\n",
       "</tr>\n",
       "<tr>\n",
       "  <th>Prob(Omnibus):</th>  <td> 0.000</td>  <th>  Jarque-Bera (JB):  </th> <td>5069.889</td>\n",
       "</tr>\n",
       "<tr>\n",
       "  <th>Skew:</th>           <td>-0.000</td>  <th>  Prob(JB):          </th> <td>    0.00</td>\n",
       "</tr>\n",
       "<tr>\n",
       "  <th>Kurtosis:</th>       <td> 2.507</td>  <th>  Cond. No.          </th> <td>    2.41</td>\n",
       "</tr>\n",
       "</table><br/><br/>Warnings:<br/>[1] Standard Errors assume that the covariance matrix of the errors is correctly specified."
      ],
      "text/plain": [
       "<class 'statsmodels.iolib.summary.Summary'>\n",
       "\"\"\"\n",
       "                            OLS Regression Results                            \n",
       "==============================================================================\n",
       "Dep. Variable:                target5   R-squared:                       0.006\n",
       "Model:                            OLS   Adj. R-squared:                  0.006\n",
       "Method:                 Least Squares   F-statistic:                     3065.\n",
       "Date:                Mon, 25 Feb 2019   Prob (F-statistic):               0.00\n",
       "Time:                        23:40:42   Log-Likelihood:            -5.4088e+06\n",
       "No. Observations:              500000   AIC:                         1.082e+07\n",
       "Df Residuals:                  499998   BIC:                         1.082e+07\n",
       "Df Model:                           1                                         \n",
       "Covariance Type:            nonrobust                                         \n",
       "==============================================================================\n",
       "                 coef    std err          t      P>|t|      [0.025      0.975]\n",
       "------------------------------------------------------------------------------\n",
       "Intercept   4.272e+04     20.901   2043.754      0.000    4.27e+04    4.28e+04\n",
       "x5         -2006.0324     36.237    -55.358      0.000   -2077.057   -1935.008\n",
       "==============================================================================\n",
       "Omnibus:                     9239.095   Durbin-Watson:                   2.004\n",
       "Prob(Omnibus):                  0.000   Jarque-Bera (JB):             5069.889\n",
       "Skew:                          -0.000   Prob(JB):                         0.00\n",
       "Kurtosis:                       2.507   Cond. No.                         2.41\n",
       "==============================================================================\n",
       "\n",
       "Warnings:\n",
       "[1] Standard Errors assume that the covariance matrix of the errors is correctly specified.\n",
       "\"\"\""
      ]
     },
     "execution_count": 2384,
     "metadata": {},
     "output_type": "execute_result"
    }
   ],
   "source": [
    "linearModel5 = smapi.ols(formula=\"target5~x5\",data = df).fit()\n",
    "predictions = linearModel5.predict(x5)\n",
    "linearModel5.summary()"
   ]
  },
  {
   "cell_type": "code",
   "execution_count": 2385,
   "metadata": {},
   "outputs": [
    {
     "name": "stdout",
     "output_type": "stream",
     "text": [
      "0.5667478088322797\n"
     ]
    }
   ],
   "source": [
    "print(linear_model5.score(x5_test,target5_test)*100)"
   ]
  },
  {
   "cell_type": "markdown",
   "metadata": {},
   "source": [
    "# Linear Model 6"
   ]
  },
  {
   "cell_type": "code",
   "execution_count": 2386,
   "metadata": {},
   "outputs": [],
   "source": [
    "x6 = df[['Fiber']]\n",
    "target6 = df[['Prices']]"
   ]
  },
  {
   "cell_type": "code",
   "execution_count": 2387,
   "metadata": {},
   "outputs": [],
   "source": [
    "x6_train, x6_test , target6_train, target6_test = train_test_split(x6,target6,train_size = 0.6)"
   ]
  },
  {
   "cell_type": "code",
   "execution_count": 2388,
   "metadata": {},
   "outputs": [
    {
     "data": {
      "text/plain": [
       "LinearRegression(copy_X=True, fit_intercept=True, n_jobs=None,\n",
       "         normalize=False)"
      ]
     },
     "execution_count": 2388,
     "metadata": {},
     "output_type": "execute_result"
    }
   ],
   "source": [
    "linear_model6 = LinearRegression()\n",
    "linear_model6.fit(x6,target6)"
   ]
  },
  {
   "cell_type": "code",
   "execution_count": 2389,
   "metadata": {},
   "outputs": [
    {
     "name": "stdout",
     "output_type": "stream",
     "text": [
      "[[36175.71767174]\n",
      " [47913.57439437]\n",
      " [36175.71767174]\n",
      " ...\n",
      " [47913.57439437]\n",
      " [36175.71767174]\n",
      " [36175.71767174]]\n"
     ]
    }
   ],
   "source": [
    "predict_y6 = linear_model6.predict(x6_test)\n",
    "print(predict_y6)"
   ]
  },
  {
   "cell_type": "code",
   "execution_count": 2390,
   "metadata": {},
   "outputs": [
    {
     "data": {
      "text/html": [
       "<table class=\"simpletable\">\n",
       "<caption>OLS Regression Results</caption>\n",
       "<tr>\n",
       "  <th>Dep. Variable:</th>         <td>target6</td>     <th>  R-squared:         </th>  <td>   0.235</td>  \n",
       "</tr>\n",
       "<tr>\n",
       "  <th>Model:</th>                   <td>OLS</td>       <th>  Adj. R-squared:    </th>  <td>   0.235</td>  \n",
       "</tr>\n",
       "<tr>\n",
       "  <th>Method:</th>             <td>Least Squares</td>  <th>  F-statistic:       </th>  <td>1.535e+05</td> \n",
       "</tr>\n",
       "<tr>\n",
       "  <th>Date:</th>             <td>Mon, 25 Feb 2019</td> <th>  Prob (F-statistic):</th>   <td>  0.00</td>   \n",
       "</tr>\n",
       "<tr>\n",
       "  <th>Time:</th>                 <td>23:40:42</td>     <th>  Log-Likelihood:    </th> <td>-5.3434e+06</td>\n",
       "</tr>\n",
       "<tr>\n",
       "  <th>No. Observations:</th>      <td>500000</td>      <th>  AIC:               </th>  <td>1.069e+07</td> \n",
       "</tr>\n",
       "<tr>\n",
       "  <th>Df Residuals:</th>          <td>499998</td>      <th>  BIC:               </th>  <td>1.069e+07</td> \n",
       "</tr>\n",
       "<tr>\n",
       "  <th>Df Model:</th>              <td>     1</td>      <th>                     </th>      <td> </td>     \n",
       "</tr>\n",
       "<tr>\n",
       "  <th>Covariance Type:</th>      <td>nonrobust</td>    <th>                     </th>      <td> </td>     \n",
       "</tr>\n",
       "</table>\n",
       "<table class=\"simpletable\">\n",
       "<tr>\n",
       "      <td></td>         <th>coef</th>     <th>std err</th>      <th>t</th>      <th>P>|t|</th>  <th>[0.025</th>    <th>0.975]</th>  \n",
       "</tr>\n",
       "<tr>\n",
       "  <th>Intercept</th> <td> 3.618e+04</td> <td>   21.196</td> <td> 1706.714</td> <td> 0.000</td> <td> 3.61e+04</td> <td> 3.62e+04</td>\n",
       "</tr>\n",
       "<tr>\n",
       "  <th>x6</th>        <td> 1.174e+04</td> <td>   29.962</td> <td>  391.761</td> <td> 0.000</td> <td> 1.17e+04</td> <td> 1.18e+04</td>\n",
       "</tr>\n",
       "</table>\n",
       "<table class=\"simpletable\">\n",
       "<tr>\n",
       "  <th>Omnibus:</th>       <td>21220.357</td> <th>  Durbin-Watson:     </th> <td>   2.005</td>\n",
       "</tr>\n",
       "<tr>\n",
       "  <th>Prob(Omnibus):</th>  <td> 0.000</td>   <th>  Jarque-Bera (JB):  </th> <td>9101.859</td>\n",
       "</tr>\n",
       "<tr>\n",
       "  <th>Skew:</th>           <td> 0.054</td>   <th>  Prob(JB):          </th> <td>    0.00</td>\n",
       "</tr>\n",
       "<tr>\n",
       "  <th>Kurtosis:</th>       <td> 2.348</td>   <th>  Cond. No.          </th> <td>    2.62</td>\n",
       "</tr>\n",
       "</table><br/><br/>Warnings:<br/>[1] Standard Errors assume that the covariance matrix of the errors is correctly specified."
      ],
      "text/plain": [
       "<class 'statsmodels.iolib.summary.Summary'>\n",
       "\"\"\"\n",
       "                            OLS Regression Results                            \n",
       "==============================================================================\n",
       "Dep. Variable:                target6   R-squared:                       0.235\n",
       "Model:                            OLS   Adj. R-squared:                  0.235\n",
       "Method:                 Least Squares   F-statistic:                 1.535e+05\n",
       "Date:                Mon, 25 Feb 2019   Prob (F-statistic):               0.00\n",
       "Time:                        23:40:42   Log-Likelihood:            -5.3434e+06\n",
       "No. Observations:              500000   AIC:                         1.069e+07\n",
       "Df Residuals:                  499998   BIC:                         1.069e+07\n",
       "Df Model:                           1                                         \n",
       "Covariance Type:            nonrobust                                         \n",
       "==============================================================================\n",
       "                 coef    std err          t      P>|t|      [0.025      0.975]\n",
       "------------------------------------------------------------------------------\n",
       "Intercept   3.618e+04     21.196   1706.714      0.000    3.61e+04    3.62e+04\n",
       "x6          1.174e+04     29.962    391.761      0.000    1.17e+04    1.18e+04\n",
       "==============================================================================\n",
       "Omnibus:                    21220.357   Durbin-Watson:                   2.005\n",
       "Prob(Omnibus):                  0.000   Jarque-Bera (JB):             9101.859\n",
       "Skew:                           0.054   Prob(JB):                         0.00\n",
       "Kurtosis:                       2.348   Cond. No.                         2.62\n",
       "==============================================================================\n",
       "\n",
       "Warnings:\n",
       "[1] Standard Errors assume that the covariance matrix of the errors is correctly specified.\n",
       "\"\"\""
      ]
     },
     "execution_count": 2390,
     "metadata": {},
     "output_type": "execute_result"
    }
   ],
   "source": [
    "linearModel6 = smapi.ols(formula=\"target6~x6\",data = df).fit()\n",
    "predictions = linearModel6.predict(x6)\n",
    "linearModel6.summary()"
   ]
  },
  {
   "cell_type": "code",
   "execution_count": 2391,
   "metadata": {},
   "outputs": [
    {
     "name": "stdout",
     "output_type": "stream",
     "text": [
      "23.3470180086222\n"
     ]
    }
   ],
   "source": [
    "print(linear_model6.score(x6_test,target6_test)*100)"
   ]
  },
  {
   "cell_type": "markdown",
   "metadata": {},
   "source": [
    "# Linear Model 7"
   ]
  },
  {
   "cell_type": "code",
   "execution_count": 2392,
   "metadata": {},
   "outputs": [],
   "source": [
    "x7 = df[['Baths']]\n",
    "target7 = df[['Prices']]"
   ]
  },
  {
   "cell_type": "code",
   "execution_count": 2393,
   "metadata": {},
   "outputs": [],
   "source": [
    "x7_train, x7_test , target7_train, target7_test = train_test_split(x7,target7,train_size = 0.6)"
   ]
  },
  {
   "cell_type": "code",
   "execution_count": 2394,
   "metadata": {},
   "outputs": [
    {
     "data": {
      "text/plain": [
       "LinearRegression(copy_X=True, fit_intercept=True, n_jobs=None,\n",
       "         normalize=False)"
      ]
     },
     "execution_count": 2394,
     "metadata": {},
     "output_type": "execute_result"
    }
   ],
   "source": [
    "linear_model7 = LinearRegression()\n",
    "linear_model7.fit(x7,target7)"
   ]
  },
  {
   "cell_type": "code",
   "execution_count": 2395,
   "metadata": {},
   "outputs": [
    {
     "name": "stdout",
     "output_type": "stream",
     "text": [
      "[[40810.1313312 ]\n",
      " [44537.33397991]\n",
      " [44537.33397991]\n",
      " ...\n",
      " [42052.5322141 ]\n",
      " [40810.1313312 ]\n",
      " [43294.93309701]]\n"
     ]
    }
   ],
   "source": [
    "predict_y7 = linear_model7.predict(x7_test)\n",
    "print(predict_y7)"
   ]
  },
  {
   "cell_type": "code",
   "execution_count": 2396,
   "metadata": {},
   "outputs": [
    {
     "data": {
      "text/html": [
       "<table class=\"simpletable\">\n",
       "<caption>OLS Regression Results</caption>\n",
       "<tr>\n",
       "  <th>Dep. Variable:</th>         <td>target7</td>     <th>  R-squared:         </th>  <td>   0.021</td>  \n",
       "</tr>\n",
       "<tr>\n",
       "  <th>Model:</th>                   <td>OLS</td>       <th>  Adj. R-squared:    </th>  <td>   0.021</td>  \n",
       "</tr>\n",
       "<tr>\n",
       "  <th>Method:</th>             <td>Least Squares</td>  <th>  F-statistic:       </th>  <td>1.075e+04</td> \n",
       "</tr>\n",
       "<tr>\n",
       "  <th>Date:</th>             <td>Mon, 25 Feb 2019</td> <th>  Prob (F-statistic):</th>   <td>  0.00</td>   \n",
       "</tr>\n",
       "<tr>\n",
       "  <th>Time:</th>                 <td>23:40:43</td>     <th>  Log-Likelihood:    </th> <td>-5.4051e+06</td>\n",
       "</tr>\n",
       "<tr>\n",
       "  <th>No. Observations:</th>      <td>500000</td>      <th>  AIC:               </th>  <td>1.081e+07</td> \n",
       "</tr>\n",
       "<tr>\n",
       "  <th>Df Residuals:</th>          <td>499998</td>      <th>  BIC:               </th>  <td>1.081e+07</td> \n",
       "</tr>\n",
       "<tr>\n",
       "  <th>Df Model:</th>              <td>     1</td>      <th>                     </th>      <td> </td>     \n",
       "</tr>\n",
       "<tr>\n",
       "  <th>Covariance Type:</th>      <td>nonrobust</td>    <th>                     </th>      <td> </td>     \n",
       "</tr>\n",
       "</table>\n",
       "<table class=\"simpletable\">\n",
       "<tr>\n",
       "      <td></td>         <th>coef</th>     <th>std err</th>      <th>t</th>      <th>P>|t|</th>  <th>[0.025</th>    <th>0.975]</th>  \n",
       "</tr>\n",
       "<tr>\n",
       "  <th>Intercept</th> <td> 3.833e+04</td> <td>   39.719</td> <td>  964.911</td> <td> 0.000</td> <td> 3.82e+04</td> <td> 3.84e+04</td>\n",
       "</tr>\n",
       "<tr>\n",
       "  <th>x7</th>        <td> 1242.4009</td> <td>   11.982</td> <td>  103.689</td> <td> 0.000</td> <td> 1218.917</td> <td> 1265.885</td>\n",
       "</tr>\n",
       "</table>\n",
       "<table class=\"simpletable\">\n",
       "<tr>\n",
       "  <th>Omnibus:</th>       <td>10355.598</td> <th>  Durbin-Watson:     </th> <td>   2.003</td>\n",
       "</tr>\n",
       "<tr>\n",
       "  <th>Prob(Omnibus):</th>  <td> 0.000</td>   <th>  Jarque-Bera (JB):  </th> <td>5574.555</td>\n",
       "</tr>\n",
       "<tr>\n",
       "  <th>Skew:</th>           <td> 0.037</td>   <th>  Prob(JB):          </th> <td>    0.00</td>\n",
       "</tr>\n",
       "<tr>\n",
       "  <th>Kurtosis:</th>       <td> 2.488</td>   <th>  Cond. No.          </th> <td>    8.36</td>\n",
       "</tr>\n",
       "</table><br/><br/>Warnings:<br/>[1] Standard Errors assume that the covariance matrix of the errors is correctly specified."
      ],
      "text/plain": [
       "<class 'statsmodels.iolib.summary.Summary'>\n",
       "\"\"\"\n",
       "                            OLS Regression Results                            \n",
       "==============================================================================\n",
       "Dep. Variable:                target7   R-squared:                       0.021\n",
       "Model:                            OLS   Adj. R-squared:                  0.021\n",
       "Method:                 Least Squares   F-statistic:                 1.075e+04\n",
       "Date:                Mon, 25 Feb 2019   Prob (F-statistic):               0.00\n",
       "Time:                        23:40:43   Log-Likelihood:            -5.4051e+06\n",
       "No. Observations:              500000   AIC:                         1.081e+07\n",
       "Df Residuals:                  499998   BIC:                         1.081e+07\n",
       "Df Model:                           1                                         \n",
       "Covariance Type:            nonrobust                                         \n",
       "==============================================================================\n",
       "                 coef    std err          t      P>|t|      [0.025      0.975]\n",
       "------------------------------------------------------------------------------\n",
       "Intercept   3.833e+04     39.719    964.911      0.000    3.82e+04    3.84e+04\n",
       "x7          1242.4009     11.982    103.689      0.000    1218.917    1265.885\n",
       "==============================================================================\n",
       "Omnibus:                    10355.598   Durbin-Watson:                   2.003\n",
       "Prob(Omnibus):                  0.000   Jarque-Bera (JB):             5574.555\n",
       "Skew:                           0.037   Prob(JB):                         0.00\n",
       "Kurtosis:                       2.488   Cond. No.                         8.36\n",
       "==============================================================================\n",
       "\n",
       "Warnings:\n",
       "[1] Standard Errors assume that the covariance matrix of the errors is correctly specified.\n",
       "\"\"\""
      ]
     },
     "execution_count": 2396,
     "metadata": {},
     "output_type": "execute_result"
    }
   ],
   "source": [
    "linearModel7 = smapi.ols(formula=\"target7~x7\",data = df).fit()\n",
    "predictions = linearModel7.predict(x7)\n",
    "linearModel7.summary()"
   ]
  },
  {
   "cell_type": "code",
   "execution_count": 2397,
   "metadata": {},
   "outputs": [
    {
     "name": "stdout",
     "output_type": "stream",
     "text": [
      "2.0807098224568614\n"
     ]
    }
   ],
   "source": [
    "print(linear_model7.score(x7_test,target7_test)*100)"
   ]
  },
  {
   "cell_type": "markdown",
   "metadata": {},
   "source": [
    "# Logistic Regression"
   ]
  },
  {
   "cell_type": "markdown",
   "metadata": {},
   "source": [
    "## Logistic Regression is basically a \"Classification Task\". \n",
    "\n",
    "We are trying to predict a discrete value output.\n",
    "In this logistic Model, I am trying to predict if, given all the features, we can determine if the house is single or multi-floored\n",
    "\n",
    "\n",
    "## Logistic Model 1"
   ]
  },
  {
   "cell_type": "code",
   "execution_count": 2398,
   "metadata": {},
   "outputs": [],
   "source": [
    "logisticX = df[['Area','Garage','FirePlace','Baths','WhiteMarble','BlackMarble','IndianMarble','Prices','City','Solar','Electric','Fiber','GlassDoor','SwimmingPool','Garden']]\n",
    "logisticY = df[['Floors']]"
   ]
  },
  {
   "cell_type": "code",
   "execution_count": 2399,
   "metadata": {},
   "outputs": [],
   "source": [
    "#Dividing the data into test and training sets. The training set has a size of 75%\n",
    "logisticX_train,logisticX_test,logisticY_train,logisticY_test=train_test_split(logisticX,logisticY,test_size=0.25,random_state=0)"
   ]
  },
  {
   "cell_type": "code",
   "execution_count": 2400,
   "metadata": {},
   "outputs": [],
   "source": [
    "logistic_Regression = LogisticRegression()"
   ]
  },
  {
   "cell_type": "code",
   "execution_count": 2401,
   "metadata": {},
   "outputs": [
    {
     "data": {
      "text/plain": [
       "LogisticRegression(C=1.0, class_weight=None, dual=False, fit_intercept=True,\n",
       "          intercept_scaling=1, max_iter=100, multi_class='warn',\n",
       "          n_jobs=None, penalty='l2', random_state=None, solver='warn',\n",
       "          tol=0.0001, verbose=0, warm_start=False)"
      ]
     },
     "execution_count": 2401,
     "metadata": {},
     "output_type": "execute_result"
    }
   ],
   "source": [
    "logistic_Regression.fit(logisticX_train,logisticY_train)"
   ]
  },
  {
   "cell_type": "code",
   "execution_count": 2402,
   "metadata": {},
   "outputs": [],
   "source": [
    "y_pred = logistic_Regression.predict(logisticX_test)"
   ]
  },
  {
   "cell_type": "code",
   "execution_count": 2403,
   "metadata": {},
   "outputs": [
    {
     "name": "stdout",
     "output_type": "stream",
     "text": [
      "[0 0 1 ... 0 1 1]\n"
     ]
    }
   ],
   "source": [
    "print(y_pred)"
   ]
  },
  {
   "cell_type": "markdown",
   "metadata": {},
   "source": [
    "A Confusion Matrix is also known as an \"Error Matrix\". It helps us visualize the performance of the algorithm.\n",
    "\n",
    "A confusion Matrix is typically used in a Supervised Learning Algorithm."
   ]
  },
  {
   "cell_type": "code",
   "execution_count": 2404,
   "metadata": {},
   "outputs": [],
   "source": [
    "confusion_Matrix = metrics.confusion_matrix(logisticY_test, y_pred)"
   ]
  },
  {
   "cell_type": "markdown",
   "metadata": {},
   "source": [
    "In a confusion matrix, the values on the diagonals are the accurately predicted values."
   ]
  },
  {
   "cell_type": "code",
   "execution_count": 2405,
   "metadata": {},
   "outputs": [
    {
     "data": {
      "text/plain": [
       "array([[62474,    61],\n",
       "       [    6, 62459]], dtype=int64)"
      ]
     },
     "execution_count": 2405,
     "metadata": {},
     "output_type": "execute_result"
    }
   ],
   "source": [
    "confusion_Matrix"
   ]
  },
  {
   "cell_type": "markdown",
   "metadata": {},
   "source": [
    "## Calculate the probability of getting the dependent variable\n",
    "\n",
    "(62474+62459)/(62474+62459+61+6) =\n",
    "\n",
    "0.999464"
   ]
  },
  {
   "cell_type": "code",
   "execution_count": 2406,
   "metadata": {
    "scrolled": true
   },
   "outputs": [
    {
     "name": "stdout",
     "output_type": "stream",
     "text": [
      "Accuracy: 99.9464\n",
      "Precision: 99.90243122200896\n",
      "Recall: 99.99039462098776\n"
     ]
    }
   ],
   "source": [
    "print(\"Accuracy:\",(metrics.accuracy_score(logisticY_test, y_pred)*100))\n",
    "print(\"Precision:\",(metrics.precision_score(logisticY_test, y_pred)*100))\n",
    "print(\"Recall:\",(metrics.recall_score(logisticY_test, y_pred)*100))"
   ]
  },
  {
   "cell_type": "markdown",
   "metadata": {},
   "source": [
    "As we can see, this model gives us close to 100% Accuracy, Precision and Recall."
   ]
  },
  {
   "cell_type": "code",
   "execution_count": 2407,
   "metadata": {},
   "outputs": [
    {
     "data": {
      "image/png": "[encoded data removed]",
      "text/plain": [
       "<Figure size 432x288 with 1 Axes>"
      ]
     },
     "metadata": {},
     "output_type": "display_data"
    }
   ],
   "source": [
    "#Plotting an ROC curve\n",
    "y_pred_probability = logistic_Regression.predict_proba(logisticX_test)[::,1]\n",
    "fpr, tpr, _ = metrics.roc_curve(logisticY_test,  y_pred_probability)\n",
    "auc = metrics.roc_auc_score(logisticY_test, y_pred_probability)\n",
    "plt.plot(fpr,tpr,label=\"data 1, auc=\"+str(auc))\n",
    "plt.legend(loc=4)\n",
    "plt.show()"
   ]
  },
  {
   "cell_type": "markdown",
   "metadata": {},
   "source": [
    "The accuracy shown in the curve is 99.99%"
   ]
  },
  {
   "cell_type": "code",
   "execution_count": 2408,
   "metadata": {},
   "outputs": [
    {
     "data": {
      "image/png": "[encoded data removed]",
      "text/plain": [
       "<Figure size 432x288 with 1 Axes>"
      ]
     },
     "metadata": {},
     "output_type": "display_data"
    }
   ],
   "source": [
    "#Plotting a graph to cross-check if out target variable was discrete\n",
    "sns.countplot(x='Floors',data=df, palette='hls')\n",
    "plt.show()"
   ]
  },
  {
   "cell_type": "markdown",
   "metadata": {},
   "source": [
    "As we can see below, the Adjusted R Squared value is a perfect 1.000 and the AIC and BIC values are complying and are low.\n",
    "\n",
    "We can also observe that the features are highly significant to the model.\n",
    "Although, Garden can be eliminated from the predicting features.\n"
   ]
  },
  {
   "cell_type": "code",
   "execution_count": 2409,
   "metadata": {},
   "outputs": [
    {
     "data": {
      "text/html": [
       "<table class=\"simpletable\">\n",
       "<caption>OLS Regression Results</caption>\n",
       "<tr>\n",
       "  <th>Dep. Variable:</th>        <td>logisticY</td>    <th>  R-squared:         </th>  <td>   1.000</td> \n",
       "</tr>\n",
       "<tr>\n",
       "  <th>Model:</th>                   <td>OLS</td>       <th>  Adj. R-squared:    </th>  <td>   1.000</td> \n",
       "</tr>\n",
       "<tr>\n",
       "  <th>Method:</th>             <td>Least Squares</td>  <th>  F-statistic:       </th>  <td>1.943e+30</td>\n",
       "</tr>\n",
       "<tr>\n",
       "  <th>Date:</th>             <td>Mon, 25 Feb 2019</td> <th>  Prob (F-statistic):</th>   <td>  0.00</td>  \n",
       "</tr>\n",
       "<tr>\n",
       "  <th>Time:</th>                 <td>23:40:51</td>     <th>  Log-Likelihood:    </th> <td>1.4452e+07</td>\n",
       "</tr>\n",
       "<tr>\n",
       "  <th>No. Observations:</th>      <td>500000</td>      <th>  AIC:               </th> <td>-2.890e+07</td>\n",
       "</tr>\n",
       "<tr>\n",
       "  <th>Df Residuals:</th>          <td>499985</td>      <th>  BIC:               </th> <td>-2.890e+07</td>\n",
       "</tr>\n",
       "<tr>\n",
       "  <th>Df Model:</th>              <td>    14</td>      <th>                     </th>      <td> </td>    \n",
       "</tr>\n",
       "<tr>\n",
       "  <th>Covariance Type:</th>      <td>nonrobust</td>    <th>                     </th>      <td> </td>    \n",
       "</tr>\n",
       "</table>\n",
       "<table class=\"simpletable\">\n",
       "<tr>\n",
       "        <td></td>           <th>coef</th>     <th>std err</th>      <th>t</th>      <th>P>|t|</th>  <th>[0.025</th>    <th>0.975]</th>  \n",
       "</tr>\n",
       "<tr>\n",
       "  <th>Intercept</th>     <td>   -0.3667</td> <td>  4.1e-16</td> <td>-8.94e+14</td> <td> 0.000</td> <td>   -0.367</td> <td>   -0.367</td>\n",
       "</tr>\n",
       "<tr>\n",
       "  <th>logisticX[0]</th>  <td>   -0.0017</td> <td> 1.37e-18</td> <td>-1.21e+15</td> <td> 0.000</td> <td>   -0.002</td> <td>   -0.002</td>\n",
       "</tr>\n",
       "<tr>\n",
       "  <th>logisticX[1]</th>  <td>   -0.1000</td> <td> 1.19e-16</td> <td>-8.41e+14</td> <td> 0.000</td> <td>   -0.100</td> <td>   -0.100</td>\n",
       "</tr>\n",
       "<tr>\n",
       "  <th>logisticX[2]</th>  <td>   -0.0500</td> <td> 6.85e-17</td> <td> -7.3e+14</td> <td> 0.000</td> <td>   -0.050</td> <td>   -0.050</td>\n",
       "</tr>\n",
       "<tr>\n",
       "  <th>logisticX[3]</th>  <td>   -0.0833</td> <td> 6.96e-17</td> <td> -1.2e+15</td> <td> 0.000</td> <td>   -0.083</td> <td>   -0.083</td>\n",
       "</tr>\n",
       "<tr>\n",
       "  <th>logisticX[4]</th>  <td>   -0.6333</td> <td> 2.37e-16</td> <td>-2.68e+15</td> <td> 0.000</td> <td>   -0.633</td> <td>   -0.633</td>\n",
       "</tr>\n",
       "<tr>\n",
       "  <th>logisticX[5]</th>  <td>   -0.0333</td> <td> 1.89e-16</td> <td>-1.76e+14</td> <td> 0.000</td> <td>   -0.033</td> <td>   -0.033</td>\n",
       "</tr>\n",
       "<tr>\n",
       "  <th>logisticX[6]</th>  <td>    0.3000</td> <td> 1.89e-16</td> <td> 1.58e+15</td> <td> 0.000</td> <td>    0.300</td> <td>    0.300</td>\n",
       "</tr>\n",
       "<tr>\n",
       "  <th>logisticX[7]</th>  <td> 6.667e-05</td> <td> 1.28e-20</td> <td> 5.22e+15</td> <td> 0.000</td> <td> 6.67e-05</td> <td> 6.67e-05</td>\n",
       "</tr>\n",
       "<tr>\n",
       "  <th>logisticX[8]</th>  <td>   -0.2333</td> <td> 1.26e-16</td> <td>-1.86e+15</td> <td> 0.000</td> <td>   -0.233</td> <td>   -0.233</td>\n",
       "</tr>\n",
       "<tr>\n",
       "  <th>logisticX[9]</th>  <td>   -0.0167</td> <td> 1.92e-16</td> <td>-8.69e+13</td> <td> 0.000</td> <td>   -0.017</td> <td>   -0.017</td>\n",
       "</tr>\n",
       "<tr>\n",
       "  <th>logisticX[10]</th> <td>   -0.0833</td> <td> 1.92e-16</td> <td>-4.33e+14</td> <td> 0.000</td> <td>   -0.083</td> <td>   -0.083</td>\n",
       "</tr>\n",
       "<tr>\n",
       "  <th>logisticX[11]</th> <td>   -0.7833</td> <td> 2.44e-16</td> <td>-3.21e+15</td> <td> 0.000</td> <td>   -0.783</td> <td>   -0.783</td>\n",
       "</tr>\n",
       "<tr>\n",
       "  <th>logisticX[12]</th> <td>   -0.2967</td> <td>    2e-16</td> <td>-1.48e+15</td> <td> 0.000</td> <td>   -0.297</td> <td>   -0.297</td>\n",
       "</tr>\n",
       "<tr>\n",
       "  <th>logisticX[13]</th> <td>-2.233e-16</td> <td> 1.92e-16</td> <td>   -1.165</td> <td> 0.244</td> <td>-5.99e-16</td> <td> 1.52e-16</td>\n",
       "</tr>\n",
       "<tr>\n",
       "  <th>logisticX[14]</th> <td>-9.216e-17</td> <td> 1.92e-16</td> <td>   -0.481</td> <td> 0.631</td> <td>-4.68e-16</td> <td> 2.84e-16</td>\n",
       "</tr>\n",
       "</table>\n",
       "<table class=\"simpletable\">\n",
       "<tr>\n",
       "  <th>Omnibus:</th>       <td>5305.178</td> <th>  Durbin-Watson:     </th> <td>   0.117</td>\n",
       "</tr>\n",
       "<tr>\n",
       "  <th>Prob(Omnibus):</th>  <td> 0.000</td>  <th>  Jarque-Bera (JB):  </th> <td>3343.229</td>\n",
       "</tr>\n",
       "<tr>\n",
       "  <th>Skew:</th>           <td>-0.018</td>  <th>  Prob(JB):          </th> <td>    0.00</td>\n",
       "</tr>\n",
       "<tr>\n",
       "  <th>Kurtosis:</th>       <td> 2.601</td>  <th>  Cond. No.          </th> <td>2.32e+20</td>\n",
       "</tr>\n",
       "</table><br/><br/>Warnings:<br/>[1] Standard Errors assume that the covariance matrix of the errors is correctly specified.<br/>[2] The smallest eigenvalue is 1.78e-26. This might indicate that there are<br/>strong multicollinearity problems or that the design matrix is singular."
      ],
      "text/plain": [
       "<class 'statsmodels.iolib.summary.Summary'>\n",
       "\"\"\"\n",
       "                            OLS Regression Results                            \n",
       "==============================================================================\n",
       "Dep. Variable:              logisticY   R-squared:                       1.000\n",
       "Model:                            OLS   Adj. R-squared:                  1.000\n",
       "Method:                 Least Squares   F-statistic:                 1.943e+30\n",
       "Date:                Mon, 25 Feb 2019   Prob (F-statistic):               0.00\n",
       "Time:                        23:40:51   Log-Likelihood:             1.4452e+07\n",
       "No. Observations:              500000   AIC:                        -2.890e+07\n",
       "Df Residuals:                  499985   BIC:                        -2.890e+07\n",
       "Df Model:                          14                                         \n",
       "Covariance Type:            nonrobust                                         \n",
       "=================================================================================\n",
       "                    coef    std err          t      P>|t|      [0.025      0.975]\n",
       "---------------------------------------------------------------------------------\n",
       "Intercept        -0.3667    4.1e-16  -8.94e+14      0.000      -0.367      -0.367\n",
       "logisticX[0]     -0.0017   1.37e-18  -1.21e+15      0.000      -0.002      -0.002\n",
       "logisticX[1]     -0.1000   1.19e-16  -8.41e+14      0.000      -0.100      -0.100\n",
       "logisticX[2]     -0.0500   6.85e-17   -7.3e+14      0.000      -0.050      -0.050\n",
       "logisticX[3]     -0.0833   6.96e-17   -1.2e+15      0.000      -0.083      -0.083\n",
       "logisticX[4]     -0.6333   2.37e-16  -2.68e+15      0.000      -0.633      -0.633\n",
       "logisticX[5]     -0.0333   1.89e-16  -1.76e+14      0.000      -0.033      -0.033\n",
       "logisticX[6]      0.3000   1.89e-16   1.58e+15      0.000       0.300       0.300\n",
       "logisticX[7]   6.667e-05   1.28e-20   5.22e+15      0.000    6.67e-05    6.67e-05\n",
       "logisticX[8]     -0.2333   1.26e-16  -1.86e+15      0.000      -0.233      -0.233\n",
       "logisticX[9]     -0.0167   1.92e-16  -8.69e+13      0.000      -0.017      -0.017\n",
       "logisticX[10]    -0.0833   1.92e-16  -4.33e+14      0.000      -0.083      -0.083\n",
       "logisticX[11]    -0.7833   2.44e-16  -3.21e+15      0.000      -0.783      -0.783\n",
       "logisticX[12]    -0.2967      2e-16  -1.48e+15      0.000      -0.297      -0.297\n",
       "logisticX[13] -2.233e-16   1.92e-16     -1.165      0.244   -5.99e-16    1.52e-16\n",
       "logisticX[14] -9.216e-17   1.92e-16     -0.481      0.631   -4.68e-16    2.84e-16\n",
       "==============================================================================\n",
       "Omnibus:                     5305.178   Durbin-Watson:                   0.117\n",
       "Prob(Omnibus):                  0.000   Jarque-Bera (JB):             3343.229\n",
       "Skew:                          -0.018   Prob(JB):                         0.00\n",
       "Kurtosis:                       2.601   Cond. No.                     2.32e+20\n",
       "==============================================================================\n",
       "\n",
       "Warnings:\n",
       "[1] Standard Errors assume that the covariance matrix of the errors is correctly specified.\n",
       "[2] The smallest eigenvalue is 1.78e-26. This might indicate that there are\n",
       "strong multicollinearity problems or that the design matrix is singular.\n",
       "\"\"\""
      ]
     },
     "execution_count": 2409,
     "metadata": {},
     "output_type": "execute_result"
    }
   ],
   "source": [
    "logModel = smapi.ols(formula=\"logisticY~logisticX\",data = df).fit()\n",
    "predictions = logModel.predict(logisticX)\n",
    "logModel.summary()"
   ]
  },
  {
   "cell_type": "code",
   "execution_count": 2410,
   "metadata": {},
   "outputs": [],
   "source": [
    "X = df[['Area','Garage','FirePlace','BlackMarble','IndianMarble','Prices','City','Fiber','Garden']]\n",
    "Y = df[['Floors']]"
   ]
  },
  {
   "cell_type": "code",
   "execution_count": 2411,
   "metadata": {},
   "outputs": [],
   "source": [
    "logisticm=sm.Logit(Y,X)"
   ]
  },
  {
   "cell_type": "code",
   "execution_count": 2412,
   "metadata": {},
   "outputs": [
    {
     "name": "stdout",
     "output_type": "stream",
     "text": [
      "Optimization terminated successfully.\n",
      "         Current function value: 0.316328\n",
      "         Iterations 7\n"
     ]
    }
   ],
   "source": [
    "result=logisticm.fit()"
   ]
  },
  {
   "cell_type": "code",
   "execution_count": 2413,
   "metadata": {
    "scrolled": true
   },
   "outputs": [
    {
     "name": "stdout",
     "output_type": "stream",
     "text": [
      "                           Logit Regression Results                           \n",
      "==============================================================================\n",
      "Dep. Variable:                 Floors   No. Observations:               500000\n",
      "Model:                          Logit   Df Residuals:                   499991\n",
      "Method:                           MLE   Df Model:                            8\n",
      "Date:                Mon, 25 Feb 2019   Pseudo R-squ.:                  0.5436\n",
      "Time:                        23:40:54   Log-Likelihood:            -1.5816e+05\n",
      "converged:                       True   LL-Null:                   -3.4657e+05\n",
      "                                        LLR p-value:                     0.000\n",
      "================================================================================\n",
      "                   coef    std err          z      P>|z|      [0.025      0.975]\n",
      "--------------------------------------------------------------------------------\n",
      "Area            -0.0182   7.68e-05   -237.226      0.000      -0.018      -0.018\n",
      "Garage          -1.7349      0.007   -257.812      0.000      -1.748      -1.722\n",
      "FirePlace       -0.6621      0.004   -187.063      0.000      -0.669      -0.655\n",
      "BlackMarble      1.5857      0.011    137.896      0.000       1.563       1.608\n",
      "IndianMarble     3.1784      0.014    230.154      0.000       3.151       3.205\n",
      "Prices           0.0003   8.86e-07    359.309      0.000       0.000       0.000\n",
      "City            -2.3805      0.008   -293.047      0.000      -2.396      -2.365\n",
      "Fiber           -4.5841      0.015   -296.138      0.000      -4.614      -4.554\n",
      "Garden          -0.8562      0.009    -94.300      0.000      -0.874      -0.838\n",
      "================================================================================\n"
     ]
    }
   ],
   "source": [
    "print(result.summary())"
   ]
  },
  {
   "cell_type": "markdown",
   "metadata": {},
   "source": [
    "## Logistic Model 2\n",
    "\n",
    "Using a multicategorical output"
   ]
  },
  {
   "cell_type": "code",
   "execution_count": 2414,
   "metadata": {},
   "outputs": [],
   "source": [
    "logisticX = df[['Area','Prices','City','Fiber','GlassDoor','Garden']]\n",
    "logisticY = df[['Baths']]"
   ]
  },
  {
   "cell_type": "code",
   "execution_count": 2415,
   "metadata": {
    "scrolled": true
   },
   "outputs": [
    {
     "data": {
      "image/png": "[encoded data removed]",
      "text/plain": [
       "<Figure size 432x288 with 1 Axes>"
      ]
     },
     "metadata": {},
     "output_type": "display_data"
    }
   ],
   "source": [
    "sns.countplot(x='Baths',data=df, palette='hls')\n",
    "plt.show()"
   ]
  },
  {
   "cell_type": "code",
   "execution_count": 2416,
   "metadata": {},
   "outputs": [],
   "source": [
    "logisticX_train,logisticX_test,logisticY_train,logisticY_test=train_test_split(logisticX,logisticY,test_size=0.25,random_state=0)"
   ]
  },
  {
   "cell_type": "code",
   "execution_count": 2417,
   "metadata": {},
   "outputs": [],
   "source": [
    "logistic_Regression = LogisticRegression()"
   ]
  },
  {
   "cell_type": "code",
   "execution_count": 2418,
   "metadata": {},
   "outputs": [
    {
     "data": {
      "text/plain": [
       "LogisticRegression(C=1.0, class_weight=None, dual=False, fit_intercept=True,\n",
       "          intercept_scaling=1, max_iter=100, multi_class='warn',\n",
       "          n_jobs=None, penalty='l2', random_state=None, solver='warn',\n",
       "          tol=0.0001, verbose=0, warm_start=False)"
      ]
     },
     "execution_count": 2418,
     "metadata": {},
     "output_type": "execute_result"
    }
   ],
   "source": [
    "logistic_Regression.fit(logisticX_train,logisticY_train)"
   ]
  },
  {
   "cell_type": "code",
   "execution_count": 2419,
   "metadata": {},
   "outputs": [
    {
     "name": "stdout",
     "output_type": "stream",
     "text": [
      "[1 1 5 ... 1 5 5]\n"
     ]
    }
   ],
   "source": [
    "y_pred = logistic_Regression.predict(logisticX_test)\n",
    "print(y_pred)"
   ]
  },
  {
   "cell_type": "code",
   "execution_count": 2420,
   "metadata": {},
   "outputs": [],
   "source": [
    "confusion_Matrix = metrics.confusion_matrix(logisticY_test, y_pred)"
   ]
  },
  {
   "cell_type": "code",
   "execution_count": 2421,
   "metadata": {},
   "outputs": [
    {
     "data": {
      "text/plain": [
       "array([[ 9173,     0,     0,   653, 15232],\n",
       "       [ 8579,     0,     0,   715, 15631],\n",
       "       [ 8209,     0,     0,   687, 16300],\n",
       "       [ 7685,     0,     0,   734, 16663],\n",
       "       [ 7150,     0,     0,   680, 16909]], dtype=int64)"
      ]
     },
     "execution_count": 2421,
     "metadata": {},
     "output_type": "execute_result"
    }
   ],
   "source": [
    "confusion_Matrix"
   ]
  },
  {
   "cell_type": "markdown",
   "metadata": {},
   "source": [
    "## Calculate the probability of getting the dependent variable\n",
    "\n",
    "(9173+734+16909)/(9173+653+15232+8579+715+15631+8209+687+16300+7685+734+16663+7150+680+16909) =\n",
    "\n",
    "0.214528"
   ]
  },
  {
   "cell_type": "code",
   "execution_count": 2422,
   "metadata": {},
   "outputs": [
    {
     "name": "stdout",
     "output_type": "stream",
     "text": [
      "Accuracy: 21.4528\n"
     ]
    }
   ],
   "source": [
    "print(\"Accuracy:\",(metrics.accuracy_score(logisticY_test, y_pred)*100))"
   ]
  },
  {
   "cell_type": "code",
   "execution_count": 2423,
   "metadata": {},
   "outputs": [
    {
     "name": "stdout",
     "output_type": "stream",
     "text": [
      "              precision    recall  f1-score   support\n",
      "\n",
      "           1       0.22      0.37      0.28     25058\n",
      "           2       0.00      0.00      0.00     24925\n",
      "           3       0.00      0.00      0.00     25196\n",
      "           4       0.21      0.03      0.05     25082\n",
      "           5       0.21      0.68      0.32     24739\n",
      "\n",
      "   micro avg       0.21      0.21      0.21    125000\n",
      "   macro avg       0.13      0.22      0.13    125000\n",
      "weighted avg       0.13      0.21      0.13    125000\n",
      "\n"
     ]
    }
   ],
   "source": [
    "print(classification_report(logisticY_test, y_pred))"
   ]
  },
  {
   "cell_type": "markdown",
   "metadata": {},
   "source": [
    "## Logistic Model 3\n",
    "\n",
    "Checking how the Prices of a house determines whether the house has white marble or not"
   ]
  },
  {
   "cell_type": "code",
   "execution_count": 2424,
   "metadata": {},
   "outputs": [],
   "source": [
    "logisticX = df[['Prices']]\n",
    "logisticY = df[['WhiteMarble']]"
   ]
  },
  {
   "cell_type": "code",
   "execution_count": 2425,
   "metadata": {},
   "outputs": [
    {
     "data": {
      "image/png": "[encoded data removed]",
      "text/plain": [
       "<Figure size 432x288 with 1 Axes>"
      ]
     },
     "metadata": {},
     "output_type": "display_data"
    }
   ],
   "source": [
    "sns.countplot(x='WhiteMarble',data=df, palette='hls')\n",
    "plt.show()"
   ]
  },
  {
   "cell_type": "code",
   "execution_count": 2426,
   "metadata": {},
   "outputs": [],
   "source": [
    "logisticX_train,logisticX_test,logisticY_train,logisticY_test=train_test_split(logisticX,logisticY,test_size=0.25,random_state=0)"
   ]
  },
  {
   "cell_type": "code",
   "execution_count": 2427,
   "metadata": {},
   "outputs": [],
   "source": [
    "logistic_Regression = LogisticRegression()"
   ]
  },
  {
   "cell_type": "code",
   "execution_count": 2428,
   "metadata": {},
   "outputs": [
    {
     "data": {
      "text/plain": [
       "LogisticRegression(C=1.0, class_weight=None, dual=False, fit_intercept=True,\n",
       "          intercept_scaling=1, max_iter=100, multi_class='warn',\n",
       "          n_jobs=None, penalty='l2', random_state=None, solver='warn',\n",
       "          tol=0.0001, verbose=0, warm_start=False)"
      ]
     },
     "execution_count": 2428,
     "metadata": {},
     "output_type": "execute_result"
    }
   ],
   "source": [
    "logistic_Regression.fit(logisticX_train,logisticY_train)"
   ]
  },
  {
   "cell_type": "code",
   "execution_count": 2429,
   "metadata": {},
   "outputs": [
    {
     "name": "stdout",
     "output_type": "stream",
     "text": [
      "[0 0 0 ... 0 0 0]\n"
     ]
    }
   ],
   "source": [
    "y_pred = logistic_Regression.predict(logisticX_test)\n",
    "print(y_pred)"
   ]
  },
  {
   "cell_type": "code",
   "execution_count": 2430,
   "metadata": {},
   "outputs": [],
   "source": [
    "confusion_Matrix = metrics.confusion_matrix(logisticY_test, y_pred)"
   ]
  },
  {
   "cell_type": "code",
   "execution_count": 2431,
   "metadata": {},
   "outputs": [
    {
     "data": {
      "text/plain": [
       "array([[83377,     0],\n",
       "       [41623,     0]], dtype=int64)"
      ]
     },
     "execution_count": 2431,
     "metadata": {},
     "output_type": "execute_result"
    }
   ],
   "source": [
    "confusion_Matrix"
   ]
  },
  {
   "cell_type": "markdown",
   "metadata": {},
   "source": [
    "## Calculate the probability of getting the dependent variable\n",
    "\n",
    "(83377)/(83377+41623) =\n",
    "\n",
    "0.667016"
   ]
  },
  {
   "cell_type": "code",
   "execution_count": 2432,
   "metadata": {},
   "outputs": [
    {
     "name": "stdout",
     "output_type": "stream",
     "text": [
      "Accuracy: 66.7016\n",
      "Precision: 0.0\n",
      "Recall: 0.0\n"
     ]
    }
   ],
   "source": [
    "print(\"Accuracy:\",(metrics.accuracy_score(logisticY_test, y_pred)*100))\n",
    "print(\"Precision:\",(metrics.precision_score(logisticY_test, y_pred)*100))\n",
    "print(\"Recall:\",(metrics.recall_score(logisticY_test, y_pred)*100))"
   ]
  },
  {
   "cell_type": "code",
   "execution_count": 2433,
   "metadata": {},
   "outputs": [
    {
     "name": "stdout",
     "output_type": "stream",
     "text": [
      "              precision    recall  f1-score   support\n",
      "\n",
      "           0       0.67      1.00      0.80     83377\n",
      "           1       0.00      0.00      0.00     41623\n",
      "\n",
      "   micro avg       0.67      0.67      0.67    125000\n",
      "   macro avg       0.33      0.50      0.40    125000\n",
      "weighted avg       0.44      0.67      0.53    125000\n",
      "\n"
     ]
    }
   ],
   "source": [
    "print(classification_report(logisticY_test, y_pred))"
   ]
  },
  {
   "cell_type": "code",
   "execution_count": 2434,
   "metadata": {},
   "outputs": [
    {
     "data": {
      "text/html": [
       "<table class=\"simpletable\">\n",
       "<caption>OLS Regression Results</caption>\n",
       "<tr>\n",
       "  <th>Dep. Variable:</th>        <td>logisticY</td>    <th>  R-squared:         </th>  <td>   0.201</td>  \n",
       "</tr>\n",
       "<tr>\n",
       "  <th>Model:</th>                   <td>OLS</td>       <th>  Adj. R-squared:    </th>  <td>   0.201</td>  \n",
       "</tr>\n",
       "<tr>\n",
       "  <th>Method:</th>             <td>Least Squares</td>  <th>  F-statistic:       </th>  <td>1.257e+05</td> \n",
       "</tr>\n",
       "<tr>\n",
       "  <th>Date:</th>             <td>Mon, 25 Feb 2019</td> <th>  Prob (F-statistic):</th>   <td>  0.00</td>   \n",
       "</tr>\n",
       "<tr>\n",
       "  <th>Time:</th>                 <td>23:41:00</td>     <th>  Log-Likelihood:    </th> <td>-2.7727e+05</td>\n",
       "</tr>\n",
       "<tr>\n",
       "  <th>No. Observations:</th>      <td>500000</td>      <th>  AIC:               </th>  <td>5.545e+05</td> \n",
       "</tr>\n",
       "<tr>\n",
       "  <th>Df Residuals:</th>          <td>499998</td>      <th>  BIC:               </th>  <td>5.546e+05</td> \n",
       "</tr>\n",
       "<tr>\n",
       "  <th>Df Model:</th>              <td>     1</td>      <th>                     </th>      <td> </td>     \n",
       "</tr>\n",
       "<tr>\n",
       "  <th>Covariance Type:</th>      <td>nonrobust</td>    <th>                     </th>      <td> </td>     \n",
       "</tr>\n",
       "</table>\n",
       "<table class=\"simpletable\">\n",
       "<tr>\n",
       "      <td></td>         <th>coef</th>     <th>std err</th>      <th>t</th>      <th>P>|t|</th>  <th>[0.025</th>    <th>0.975]</th>  \n",
       "</tr>\n",
       "<tr>\n",
       "  <th>Intercept</th> <td>   -0.4004</td> <td>    0.002</td> <td> -185.970</td> <td> 0.000</td> <td>   -0.405</td> <td>   -0.396</td>\n",
       "</tr>\n",
       "<tr>\n",
       "  <th>logisticX</th> <td> 1.744e-05</td> <td> 4.92e-08</td> <td>  354.483</td> <td> 0.000</td> <td> 1.73e-05</td> <td> 1.75e-05</td>\n",
       "</tr>\n",
       "</table>\n",
       "<table class=\"simpletable\">\n",
       "<tr>\n",
       "  <th>Omnibus:</th>       <td>134096.545</td> <th>  Durbin-Watson:     </th> <td>   2.001</td> \n",
       "</tr>\n",
       "<tr>\n",
       "  <th>Prob(Omnibus):</th>   <td> 0.000</td>   <th>  Jarque-Bera (JB):  </th> <td>41003.878</td>\n",
       "</tr>\n",
       "<tr>\n",
       "  <th>Skew:</th>            <td> 0.491</td>   <th>  Prob(JB):          </th> <td>    0.00</td> \n",
       "</tr>\n",
       "<tr>\n",
       "  <th>Kurtosis:</th>        <td> 1.998</td>   <th>  Cond. No.          </th> <td>1.58e+05</td> \n",
       "</tr>\n",
       "</table><br/><br/>Warnings:<br/>[1] Standard Errors assume that the covariance matrix of the errors is correctly specified.<br/>[2] The condition number is large, 1.58e+05. This might indicate that there are<br/>strong multicollinearity or other numerical problems."
      ],
      "text/plain": [
       "<class 'statsmodels.iolib.summary.Summary'>\n",
       "\"\"\"\n",
       "                            OLS Regression Results                            \n",
       "==============================================================================\n",
       "Dep. Variable:              logisticY   R-squared:                       0.201\n",
       "Model:                            OLS   Adj. R-squared:                  0.201\n",
       "Method:                 Least Squares   F-statistic:                 1.257e+05\n",
       "Date:                Mon, 25 Feb 2019   Prob (F-statistic):               0.00\n",
       "Time:                        23:41:00   Log-Likelihood:            -2.7727e+05\n",
       "No. Observations:              500000   AIC:                         5.545e+05\n",
       "Df Residuals:                  499998   BIC:                         5.546e+05\n",
       "Df Model:                           1                                         \n",
       "Covariance Type:            nonrobust                                         \n",
       "==============================================================================\n",
       "                 coef    std err          t      P>|t|      [0.025      0.975]\n",
       "------------------------------------------------------------------------------\n",
       "Intercept     -0.4004      0.002   -185.970      0.000      -0.405      -0.396\n",
       "logisticX   1.744e-05   4.92e-08    354.483      0.000    1.73e-05    1.75e-05\n",
       "==============================================================================\n",
       "Omnibus:                   134096.545   Durbin-Watson:                   2.001\n",
       "Prob(Omnibus):                  0.000   Jarque-Bera (JB):            41003.878\n",
       "Skew:                           0.491   Prob(JB):                         0.00\n",
       "Kurtosis:                       1.998   Cond. No.                     1.58e+05\n",
       "==============================================================================\n",
       "\n",
       "Warnings:\n",
       "[1] Standard Errors assume that the covariance matrix of the errors is correctly specified.\n",
       "[2] The condition number is large, 1.58e+05. This might indicate that there are\n",
       "strong multicollinearity or other numerical problems.\n",
       "\"\"\""
      ]
     },
     "execution_count": 2434,
     "metadata": {},
     "output_type": "execute_result"
    }
   ],
   "source": [
    "logModel = smapi.ols(formula=\"logisticY~logisticX\",data = df).fit()\n",
    "predictions = logModel.predict(logisticX)\n",
    "logModel.summary()"
   ]
  },
  {
   "cell_type": "code",
   "execution_count": 2435,
   "metadata": {},
   "outputs": [
    {
     "data": {
      "image/png": "[encoded data removed]",
      "text/plain": [
       "<Figure size 432x288 with 1 Axes>"
      ]
     },
     "metadata": {},
     "output_type": "display_data"
    }
   ],
   "source": [
    "y_pred_probability = logistic_Regression.predict_proba(logisticX_test)[::,1]\n",
    "fpr, tpr, _ = metrics.roc_curve(logisticY_test,  y_pred_probability)\n",
    "auc = metrics.roc_auc_score(logisticY_test, y_pred_probability)\n",
    "plt.plot(fpr,tpr,label=\"data 1, auc=\"+str(auc))\n",
    "plt.legend(loc=4)\n",
    "plt.show()"
   ]
  },
  {
   "cell_type": "markdown",
   "metadata": {},
   "source": [
    "## Logistic Model 4"
   ]
  },
  {
   "cell_type": "code",
   "execution_count": 2436,
   "metadata": {},
   "outputs": [],
   "source": [
    "logisticX = df[['Prices','Area','Garage','FirePlace','Floors','City','Fiber']]\n",
    "logisticY = df[['WhiteMarble']]"
   ]
  },
  {
   "cell_type": "code",
   "execution_count": 2437,
   "metadata": {},
   "outputs": [],
   "source": [
    "logisticX_train,logisticX_test,logisticY_train,logisticY_test=train_test_split(logisticX,logisticY,test_size=0.25,random_state=0)"
   ]
  },
  {
   "cell_type": "code",
   "execution_count": 2438,
   "metadata": {},
   "outputs": [],
   "source": [
    "logistic_Regression = LogisticRegression()"
   ]
  },
  {
   "cell_type": "code",
   "execution_count": 2439,
   "metadata": {},
   "outputs": [
    {
     "data": {
      "text/plain": [
       "LogisticRegression(C=1.0, class_weight=None, dual=False, fit_intercept=True,\n",
       "          intercept_scaling=1, max_iter=100, multi_class='warn',\n",
       "          n_jobs=None, penalty='l2', random_state=None, solver='warn',\n",
       "          tol=0.0001, verbose=0, warm_start=False)"
      ]
     },
     "execution_count": 2439,
     "metadata": {},
     "output_type": "execute_result"
    }
   ],
   "source": [
    "logistic_Regression.fit(logisticX_train,logisticY_train)"
   ]
  },
  {
   "cell_type": "code",
   "execution_count": 2440,
   "metadata": {},
   "outputs": [
    {
     "name": "stdout",
     "output_type": "stream",
     "text": [
      "[0 0 0 ... 0 0 1]\n"
     ]
    }
   ],
   "source": [
    "y_pred = logistic_Regression.predict(logisticX_test)\n",
    "print(y_pred)"
   ]
  },
  {
   "cell_type": "code",
   "execution_count": 2441,
   "metadata": {},
   "outputs": [],
   "source": [
    "confusion_Matrix = metrics.confusion_matrix(logisticY_test, y_pred)"
   ]
  },
  {
   "cell_type": "code",
   "execution_count": 2442,
   "metadata": {},
   "outputs": [
    {
     "data": {
      "text/plain": [
       "array([[79995,  3382],\n",
       "       [ 3622, 38001]], dtype=int64)"
      ]
     },
     "execution_count": 2442,
     "metadata": {},
     "output_type": "execute_result"
    }
   ],
   "source": [
    "confusion_Matrix"
   ]
  },
  {
   "cell_type": "markdown",
   "metadata": {},
   "source": [
    "## Calculate the probability of getting the dependent variable\n",
    "\n",
    "(79995+38001)/(79995+38001+3382+3622) =\n",
    "\n",
    "0.943968"
   ]
  },
  {
   "cell_type": "code",
   "execution_count": 2443,
   "metadata": {},
   "outputs": [
    {
     "name": "stdout",
     "output_type": "stream",
     "text": [
      "Accuracy: 94.3968\n",
      "Precision: 91.82756204238456\n",
      "Recall: 91.29808038824689\n"
     ]
    }
   ],
   "source": [
    "print(\"Accuracy:\",(metrics.accuracy_score(logisticY_test, y_pred)*100))\n",
    "print(\"Precision:\",(metrics.precision_score(logisticY_test, y_pred)*100))\n",
    "print(\"Recall:\",(metrics.recall_score(logisticY_test, y_pred)*100))"
   ]
  },
  {
   "cell_type": "code",
   "execution_count": 2444,
   "metadata": {},
   "outputs": [
    {
     "name": "stdout",
     "output_type": "stream",
     "text": [
      "              precision    recall  f1-score   support\n",
      "\n",
      "           0       0.96      0.96      0.96     83377\n",
      "           1       0.92      0.91      0.92     41623\n",
      "\n",
      "   micro avg       0.94      0.94      0.94    125000\n",
      "   macro avg       0.94      0.94      0.94    125000\n",
      "weighted avg       0.94      0.94      0.94    125000\n",
      "\n"
     ]
    }
   ],
   "source": [
    "print(classification_report(logisticY_test, y_pred))"
   ]
  },
  {
   "cell_type": "code",
   "execution_count": 2445,
   "metadata": {},
   "outputs": [
    {
     "data": {
      "text/html": [
       "<table class=\"simpletable\">\n",
       "<caption>OLS Regression Results</caption>\n",
       "<tr>\n",
       "  <th>Dep. Variable:</th>        <td>logisticY</td>    <th>  R-squared:         </th> <td>   0.700</td> \n",
       "</tr>\n",
       "<tr>\n",
       "  <th>Model:</th>                   <td>OLS</td>       <th>  Adj. R-squared:    </th> <td>   0.700</td> \n",
       "</tr>\n",
       "<tr>\n",
       "  <th>Method:</th>             <td>Least Squares</td>  <th>  F-statistic:       </th> <td>1.665e+05</td>\n",
       "</tr>\n",
       "<tr>\n",
       "  <th>Date:</th>             <td>Mon, 25 Feb 2019</td> <th>  Prob (F-statistic):</th>  <td>  0.00</td>  \n",
       "</tr>\n",
       "<tr>\n",
       "  <th>Time:</th>                 <td>23:41:04</td>     <th>  Log-Likelihood:    </th> <td> -32456.</td> \n",
       "</tr>\n",
       "<tr>\n",
       "  <th>No. Observations:</th>      <td>500000</td>      <th>  AIC:               </th> <td>6.493e+04</td>\n",
       "</tr>\n",
       "<tr>\n",
       "  <th>Df Residuals:</th>          <td>499992</td>      <th>  BIC:               </th> <td>6.502e+04</td>\n",
       "</tr>\n",
       "<tr>\n",
       "  <th>Df Model:</th>              <td>     7</td>      <th>                     </th>     <td> </td>    \n",
       "</tr>\n",
       "<tr>\n",
       "  <th>Covariance Type:</th>      <td>nonrobust</td>    <th>                     </th>     <td> </td>    \n",
       "</tr>\n",
       "</table>\n",
       "<table class=\"simpletable\">\n",
       "<tr>\n",
       "        <td></td>          <th>coef</th>     <th>std err</th>      <th>t</th>      <th>P>|t|</th>  <th>[0.025</th>    <th>0.975]</th>  \n",
       "</tr>\n",
       "<tr>\n",
       "  <th>Intercept</th>    <td>   -0.5235</td> <td>    0.002</td> <td> -288.016</td> <td> 0.000</td> <td>   -0.527</td> <td>   -0.520</td>\n",
       "</tr>\n",
       "<tr>\n",
       "  <th>logisticX[0]</th> <td> 6.078e-05</td> <td> 5.63e-08</td> <td> 1079.716</td> <td> 0.000</td> <td> 6.07e-05</td> <td> 6.09e-05</td>\n",
       "</tr>\n",
       "<tr>\n",
       "  <th>logisticX[1]</th> <td>   -0.0015</td> <td> 5.28e-06</td> <td> -286.260</td> <td> 0.000</td> <td>   -0.002</td> <td>   -0.002</td>\n",
       "</tr>\n",
       "<tr>\n",
       "  <th>logisticX[2]</th> <td>   -0.0907</td> <td>    0.000</td> <td> -199.338</td> <td> 0.000</td> <td>   -0.092</td> <td>   -0.090</td>\n",
       "</tr>\n",
       "<tr>\n",
       "  <th>logisticX[3]</th> <td>   -0.0455</td> <td>    0.000</td> <td> -173.847</td> <td> 0.000</td> <td>   -0.046</td> <td>   -0.045</td>\n",
       "</tr>\n",
       "<tr>\n",
       "  <th>logisticX[4]</th> <td>   -0.9114</td> <td>    0.001</td> <td> -816.492</td> <td> 0.000</td> <td>   -0.914</td> <td>   -0.909</td>\n",
       "</tr>\n",
       "<tr>\n",
       "  <th>logisticX[5]</th> <td>   -0.2128</td> <td>    0.000</td> <td> -435.470</td> <td> 0.000</td> <td>   -0.214</td> <td>   -0.212</td>\n",
       "</tr>\n",
       "<tr>\n",
       "  <th>logisticX[6]</th> <td>   -0.7135</td> <td>    0.001</td> <td> -724.698</td> <td> 0.000</td> <td>   -0.715</td> <td>   -0.712</td>\n",
       "</tr>\n",
       "</table>\n",
       "<table class=\"simpletable\">\n",
       "<tr>\n",
       "  <th>Omnibus:</th>       <td>18760.022</td> <th>  Durbin-Watson:     </th> <td>   2.000</td>\n",
       "</tr>\n",
       "<tr>\n",
       "  <th>Prob(Omnibus):</th>  <td> 0.000</td>   <th>  Jarque-Bera (JB):  </th> <td>9659.084</td>\n",
       "</tr>\n",
       "<tr>\n",
       "  <th>Skew:</th>           <td>-0.154</td>   <th>  Prob(JB):          </th> <td>    0.00</td>\n",
       "</tr>\n",
       "<tr>\n",
       "  <th>Kurtosis:</th>       <td> 2.393</td>   <th>  Cond. No.          </th> <td>2.23e+05</td>\n",
       "</tr>\n",
       "</table><br/><br/>Warnings:<br/>[1] Standard Errors assume that the covariance matrix of the errors is correctly specified.<br/>[2] The condition number is large, 2.23e+05. This might indicate that there are<br/>strong multicollinearity or other numerical problems."
      ],
      "text/plain": [
       "<class 'statsmodels.iolib.summary.Summary'>\n",
       "\"\"\"\n",
       "                            OLS Regression Results                            \n",
       "==============================================================================\n",
       "Dep. Variable:              logisticY   R-squared:                       0.700\n",
       "Model:                            OLS   Adj. R-squared:                  0.700\n",
       "Method:                 Least Squares   F-statistic:                 1.665e+05\n",
       "Date:                Mon, 25 Feb 2019   Prob (F-statistic):               0.00\n",
       "Time:                        23:41:04   Log-Likelihood:                -32456.\n",
       "No. Observations:              500000   AIC:                         6.493e+04\n",
       "Df Residuals:                  499992   BIC:                         6.502e+04\n",
       "Df Model:                           7                                         \n",
       "Covariance Type:            nonrobust                                         \n",
       "================================================================================\n",
       "                   coef    std err          t      P>|t|      [0.025      0.975]\n",
       "--------------------------------------------------------------------------------\n",
       "Intercept       -0.5235      0.002   -288.016      0.000      -0.527      -0.520\n",
       "logisticX[0]  6.078e-05   5.63e-08   1079.716      0.000    6.07e-05    6.09e-05\n",
       "logisticX[1]    -0.0015   5.28e-06   -286.260      0.000      -0.002      -0.002\n",
       "logisticX[2]    -0.0907      0.000   -199.338      0.000      -0.092      -0.090\n",
       "logisticX[3]    -0.0455      0.000   -173.847      0.000      -0.046      -0.045\n",
       "logisticX[4]    -0.9114      0.001   -816.492      0.000      -0.914      -0.909\n",
       "logisticX[5]    -0.2128      0.000   -435.470      0.000      -0.214      -0.212\n",
       "logisticX[6]    -0.7135      0.001   -724.698      0.000      -0.715      -0.712\n",
       "==============================================================================\n",
       "Omnibus:                    18760.022   Durbin-Watson:                   2.000\n",
       "Prob(Omnibus):                  0.000   Jarque-Bera (JB):             9659.084\n",
       "Skew:                          -0.154   Prob(JB):                         0.00\n",
       "Kurtosis:                       2.393   Cond. No.                     2.23e+05\n",
       "==============================================================================\n",
       "\n",
       "Warnings:\n",
       "[1] Standard Errors assume that the covariance matrix of the errors is correctly specified.\n",
       "[2] The condition number is large, 2.23e+05. This might indicate that there are\n",
       "strong multicollinearity or other numerical problems.\n",
       "\"\"\""
      ]
     },
     "execution_count": 2445,
     "metadata": {},
     "output_type": "execute_result"
    }
   ],
   "source": [
    "logModel = smapi.ols(formula=\"logisticY~logisticX\",data = df).fit()\n",
    "predictions = logModel.predict(logisticX)\n",
    "logModel.summary()"
   ]
  },
  {
   "cell_type": "markdown",
   "metadata": {},
   "source": [
    "As we can see, the above model seems to have high multicollinearity problem.\n",
    "\n",
    "Let us check the VIF for this model"
   ]
  },
  {
   "cell_type": "code",
   "execution_count": 2446,
   "metadata": {},
   "outputs": [
    {
     "data": {
      "image/png": "[encoded data removed]",
      "text/plain": [
       "<Figure size 432x288 with 1 Axes>"
      ]
     },
     "metadata": {},
     "output_type": "display_data"
    }
   ],
   "source": [
    "y_pred_probability = logistic_Regression.predict_proba(logisticX_test)[::,1]\n",
    "fpr, tpr, _ = metrics.roc_curve(logisticY_test,  y_pred_probability)\n",
    "auc = metrics.roc_auc_score(logisticY_test, y_pred_probability)\n",
    "plt.plot(fpr,tpr,label=\"data 1, auc=\"+str(auc))\n",
    "plt.legend(loc=4)\n",
    "plt.show()"
   ]
  },
  {
   "cell_type": "code",
   "execution_count": 2447,
   "metadata": {},
   "outputs": [],
   "source": [
    "logisticm=sm.Logit(Y,X)"
   ]
  },
  {
   "cell_type": "code",
   "execution_count": 2448,
   "metadata": {},
   "outputs": [
    {
     "name": "stdout",
     "output_type": "stream",
     "text": [
      "Optimization terminated successfully.\n",
      "         Current function value: 0.316328\n",
      "         Iterations 7\n"
     ]
    }
   ],
   "source": [
    "result=logisticm.fit()"
   ]
  },
  {
   "cell_type": "code",
   "execution_count": 2449,
   "metadata": {},
   "outputs": [
    {
     "name": "stdout",
     "output_type": "stream",
     "text": [
      "                           Logit Regression Results                           \n",
      "==============================================================================\n",
      "Dep. Variable:                 Floors   No. Observations:               500000\n",
      "Model:                          Logit   Df Residuals:                   499991\n",
      "Method:                           MLE   Df Model:                            8\n",
      "Date:                Mon, 25 Feb 2019   Pseudo R-squ.:                  0.5436\n",
      "Time:                        23:41:07   Log-Likelihood:            -1.5816e+05\n",
      "converged:                       True   LL-Null:                   -3.4657e+05\n",
      "                                        LLR p-value:                     0.000\n",
      "================================================================================\n",
      "                   coef    std err          z      P>|z|      [0.025      0.975]\n",
      "--------------------------------------------------------------------------------\n",
      "Area            -0.0182   7.68e-05   -237.226      0.000      -0.018      -0.018\n",
      "Garage          -1.7349      0.007   -257.812      0.000      -1.748      -1.722\n",
      "FirePlace       -0.6621      0.004   -187.063      0.000      -0.669      -0.655\n",
      "BlackMarble      1.5857      0.011    137.896      0.000       1.563       1.608\n",
      "IndianMarble     3.1784      0.014    230.154      0.000       3.151       3.205\n",
      "Prices           0.0003   8.86e-07    359.309      0.000       0.000       0.000\n",
      "City            -2.3805      0.008   -293.047      0.000      -2.396      -2.365\n",
      "Fiber           -4.5841      0.015   -296.138      0.000      -4.614      -4.554\n",
      "Garden          -0.8562      0.009    -94.300      0.000      -0.874      -0.838\n",
      "================================================================================\n"
     ]
    }
   ],
   "source": [
    "print(result.summary())"
   ]
  },
  {
   "cell_type": "code",
   "execution_count": 2450,
   "metadata": {},
   "outputs": [
    {
     "data": {
      "text/plain": [
       "0.94346"
      ]
     },
     "execution_count": 2450,
     "metadata": {},
     "output_type": "execute_result"
    }
   ],
   "source": [
    "rsquare = logistic_Regression.score(logisticX,logisticY)\n",
    "rsquare"
   ]
  },
  {
   "cell_type": "code",
   "execution_count": 2451,
   "metadata": {},
   "outputs": [
    {
     "data": {
      "text/plain": [
       "17.68659356207993"
      ]
     },
     "execution_count": 2451,
     "metadata": {},
     "output_type": "execute_result"
    }
   ],
   "source": [
    "1/(1-rsquare)"
   ]
  },
  {
   "cell_type": "markdown",
   "metadata": {},
   "source": [
    "This value is above the accepted threshold and hence it indicates a chance of multicollinearity in the model"
   ]
  },
  {
   "cell_type": "markdown",
   "metadata": {},
   "source": [
    "## Multicollinearity"
   ]
  },
  {
   "cell_type": "code",
   "execution_count": 2452,
   "metadata": {},
   "outputs": [
    {
     "data": {
      "text/plain": [
       "Prices       36.886721\n",
       "Area          4.125449\n",
       "Garage        6.072989\n",
       "FirePlace     2.953362\n",
       "Floors        4.484602\n",
       "City          7.722007\n",
       "Fiber         3.564931\n",
       "dtype: float64"
      ]
     },
     "execution_count": 2452,
     "metadata": {},
     "output_type": "execute_result"
    }
   ],
   "source": [
    "pd.Series([variance_inflation_factor(logisticX.values, i) for i in range(logisticX.shape[1])],index=logisticX.columns)"
   ]
  },
  {
   "cell_type": "markdown",
   "metadata": {},
   "source": [
    "As we can see, there is high correlation between these independent variables."
   ]
  },
  {
   "cell_type": "markdown",
   "metadata": {},
   "source": [
    "## Logistic Model 5 "
   ]
  },
  {
   "cell_type": "code",
   "execution_count": 2453,
   "metadata": {},
   "outputs": [],
   "source": [
    "logisticX = df[['Area','Garage','FirePlace','Floors','City','Fiber']]\n",
    "logisticY = df[['WhiteMarble']]"
   ]
  },
  {
   "cell_type": "code",
   "execution_count": 2454,
   "metadata": {},
   "outputs": [],
   "source": [
    "logisticX_train,logisticX_test,logisticY_train,logisticY_test=train_test_split(logisticX,logisticY,test_size=0.25,random_state=0)"
   ]
  },
  {
   "cell_type": "code",
   "execution_count": 2455,
   "metadata": {},
   "outputs": [],
   "source": [
    "logistic_Regression = LogisticRegression()"
   ]
  },
  {
   "cell_type": "code",
   "execution_count": 2456,
   "metadata": {},
   "outputs": [
    {
     "data": {
      "text/plain": [
       "LogisticRegression(C=1.0, class_weight=None, dual=False, fit_intercept=True,\n",
       "          intercept_scaling=1, max_iter=100, multi_class='warn',\n",
       "          n_jobs=None, penalty='l2', random_state=None, solver='warn',\n",
       "          tol=0.0001, verbose=0, warm_start=False)"
      ]
     },
     "execution_count": 2456,
     "metadata": {},
     "output_type": "execute_result"
    }
   ],
   "source": [
    "logistic_Regression.fit(logisticX_train,logisticY_train)"
   ]
  },
  {
   "cell_type": "code",
   "execution_count": 2457,
   "metadata": {},
   "outputs": [
    {
     "name": "stdout",
     "output_type": "stream",
     "text": [
      "[0 0 0 ... 0 0 0]\n"
     ]
    }
   ],
   "source": [
    "y_pred = logistic_Regression.predict(logisticX_test)\n",
    "print(y_pred)"
   ]
  },
  {
   "cell_type": "code",
   "execution_count": 2458,
   "metadata": {},
   "outputs": [
    {
     "data": {
      "text/plain": [
       "array([[83377,     0],\n",
       "       [41623,     0]], dtype=int64)"
      ]
     },
     "execution_count": 2458,
     "metadata": {},
     "output_type": "execute_result"
    }
   ],
   "source": [
    "confusion_Matrix = metrics.confusion_matrix(logisticY_test, y_pred)\n",
    "confusion_Matrix"
   ]
  },
  {
   "cell_type": "code",
   "execution_count": 2459,
   "metadata": {},
   "outputs": [
    {
     "name": "stdout",
     "output_type": "stream",
     "text": [
      "Accuracy: 66.7016\n",
      "Precision: 0.0\n",
      "Recall: 0.0\n"
     ]
    }
   ],
   "source": [
    "print(\"Accuracy:\",(metrics.accuracy_score(logisticY_test, y_pred)*100))\n",
    "print(\"Precision:\",(metrics.precision_score(logisticY_test, y_pred)*100))\n",
    "print(\"Recall:\",(metrics.recall_score(logisticY_test, y_pred)*100))"
   ]
  },
  {
   "cell_type": "code",
   "execution_count": 2460,
   "metadata": {},
   "outputs": [
    {
     "data": {
      "text/html": [
       "<table class=\"simpletable\">\n",
       "<caption>OLS Regression Results</caption>\n",
       "<tr>\n",
       "  <th>Dep. Variable:</th>        <td>logisticY</td>    <th>  R-squared:         </th>  <td>   0.000</td>  \n",
       "</tr>\n",
       "<tr>\n",
       "  <th>Model:</th>                   <td>OLS</td>       <th>  Adj. R-squared:    </th>  <td>  -0.000</td>  \n",
       "</tr>\n",
       "<tr>\n",
       "  <th>Method:</th>             <td>Least Squares</td>  <th>  F-statistic:       </th>  <td>  0.7204</td>  \n",
       "</tr>\n",
       "<tr>\n",
       "  <th>Date:</th>             <td>Mon, 25 Feb 2019</td> <th>  Prob (F-statistic):</th>   <td> 0.633</td>   \n",
       "</tr>\n",
       "<tr>\n",
       "  <th>Time:</th>                 <td>23:41:12</td>     <th>  Log-Likelihood:    </th> <td>-3.3332e+05</td>\n",
       "</tr>\n",
       "<tr>\n",
       "  <th>No. Observations:</th>      <td>500000</td>      <th>  AIC:               </th>  <td>6.667e+05</td> \n",
       "</tr>\n",
       "<tr>\n",
       "  <th>Df Residuals:</th>          <td>499993</td>      <th>  BIC:               </th>  <td>6.667e+05</td> \n",
       "</tr>\n",
       "<tr>\n",
       "  <th>Df Model:</th>              <td>     6</td>      <th>                     </th>      <td> </td>     \n",
       "</tr>\n",
       "<tr>\n",
       "  <th>Covariance Type:</th>      <td>nonrobust</td>    <th>                     </th>      <td> </td>     \n",
       "</tr>\n",
       "</table>\n",
       "<table class=\"simpletable\">\n",
       "<tr>\n",
       "        <td></td>          <th>coef</th>     <th>std err</th>      <th>t</th>      <th>P>|t|</th>  <th>[0.025</th>    <th>0.975]</th>  \n",
       "</tr>\n",
       "<tr>\n",
       "  <th>Intercept</th>    <td>    0.3309</td> <td>    0.003</td> <td>  110.786</td> <td> 0.000</td> <td>    0.325</td> <td>    0.337</td>\n",
       "</tr>\n",
       "<tr>\n",
       "  <th>logisticX[0]</th> <td> 1.656e-05</td> <td> 9.28e-06</td> <td>    1.784</td> <td> 0.074</td> <td>-1.64e-06</td> <td> 3.48e-05</td>\n",
       "</tr>\n",
       "<tr>\n",
       "  <th>logisticX[1]</th> <td>    0.0003</td> <td>    0.001</td> <td>    0.384</td> <td> 0.701</td> <td>   -0.001</td> <td>    0.002</td>\n",
       "</tr>\n",
       "<tr>\n",
       "  <th>logisticX[2]</th> <td>    0.0003</td> <td>    0.000</td> <td>    0.673</td> <td> 0.501</td> <td>   -0.001</td> <td>    0.001</td>\n",
       "</tr>\n",
       "<tr>\n",
       "  <th>logisticX[3]</th> <td> 7.622e-05</td> <td>    0.001</td> <td>    0.057</td> <td> 0.954</td> <td>   -0.003</td> <td>    0.003</td>\n",
       "</tr>\n",
       "<tr>\n",
       "  <th>logisticX[4]</th> <td>   -0.0005</td> <td>    0.001</td> <td>   -0.604</td> <td> 0.546</td> <td>   -0.002</td> <td>    0.001</td>\n",
       "</tr>\n",
       "<tr>\n",
       "  <th>logisticX[5]</th> <td>   -0.0005</td> <td>    0.001</td> <td>   -0.411</td> <td> 0.681</td> <td>   -0.003</td> <td>    0.002</td>\n",
       "</tr>\n",
       "</table>\n",
       "<table class=\"simpletable\">\n",
       "<tr>\n",
       "  <th>Omnibus:</th>       <td>34227.216</td> <th>  Durbin-Watson:     </th> <td>   2.000</td> \n",
       "</tr>\n",
       "<tr>\n",
       "  <th>Prob(Omnibus):</th>  <td> 0.000</td>   <th>  Jarque-Bera (JB):  </th> <td>88587.149</td>\n",
       "</tr>\n",
       "<tr>\n",
       "  <th>Skew:</th>           <td> 0.709</td>   <th>  Prob(JB):          </th> <td>    0.00</td> \n",
       "</tr>\n",
       "<tr>\n",
       "  <th>Kurtosis:</th>       <td> 1.502</td>   <th>  Cond. No.          </th> <td>    668.</td> \n",
       "</tr>\n",
       "</table><br/><br/>Warnings:<br/>[1] Standard Errors assume that the covariance matrix of the errors is correctly specified."
      ],
      "text/plain": [
       "<class 'statsmodels.iolib.summary.Summary'>\n",
       "\"\"\"\n",
       "                            OLS Regression Results                            \n",
       "==============================================================================\n",
       "Dep. Variable:              logisticY   R-squared:                       0.000\n",
       "Model:                            OLS   Adj. R-squared:                 -0.000\n",
       "Method:                 Least Squares   F-statistic:                    0.7204\n",
       "Date:                Mon, 25 Feb 2019   Prob (F-statistic):              0.633\n",
       "Time:                        23:41:12   Log-Likelihood:            -3.3332e+05\n",
       "No. Observations:              500000   AIC:                         6.667e+05\n",
       "Df Residuals:                  499993   BIC:                         6.667e+05\n",
       "Df Model:                           6                                         \n",
       "Covariance Type:            nonrobust                                         \n",
       "================================================================================\n",
       "                   coef    std err          t      P>|t|      [0.025      0.975]\n",
       "--------------------------------------------------------------------------------\n",
       "Intercept        0.3309      0.003    110.786      0.000       0.325       0.337\n",
       "logisticX[0]  1.656e-05   9.28e-06      1.784      0.074   -1.64e-06    3.48e-05\n",
       "logisticX[1]     0.0003      0.001      0.384      0.701      -0.001       0.002\n",
       "logisticX[2]     0.0003      0.000      0.673      0.501      -0.001       0.001\n",
       "logisticX[3]  7.622e-05      0.001      0.057      0.954      -0.003       0.003\n",
       "logisticX[4]    -0.0005      0.001     -0.604      0.546      -0.002       0.001\n",
       "logisticX[5]    -0.0005      0.001     -0.411      0.681      -0.003       0.002\n",
       "==============================================================================\n",
       "Omnibus:                    34227.216   Durbin-Watson:                   2.000\n",
       "Prob(Omnibus):                  0.000   Jarque-Bera (JB):            88587.149\n",
       "Skew:                           0.709   Prob(JB):                         0.00\n",
       "Kurtosis:                       1.502   Cond. No.                         668.\n",
       "==============================================================================\n",
       "\n",
       "Warnings:\n",
       "[1] Standard Errors assume that the covariance matrix of the errors is correctly specified.\n",
       "\"\"\""
      ]
     },
     "execution_count": 2460,
     "metadata": {},
     "output_type": "execute_result"
    }
   ],
   "source": [
    "logModel = smapi.ols(formula=\"logisticY~logisticX\",data = df).fit()\n",
    "predictions = logModel.predict(logisticX)\n",
    "logModel.summary()"
   ]
  },
  {
   "cell_type": "markdown",
   "metadata": {},
   "source": [
    "This is by far the worst model we have generated with a 0 R square value and high AIC and BIC values."
   ]
  },
  {
   "cell_type": "code",
   "execution_count": 2461,
   "metadata": {},
   "outputs": [
    {
     "data": {
      "text/plain": [
       "0.667008"
      ]
     },
     "execution_count": 2461,
     "metadata": {},
     "output_type": "execute_result"
    }
   ],
   "source": [
    "rsquare = logistic_Regression.score(logisticX,logisticY)\n",
    "rsquare"
   ]
  },
  {
   "cell_type": "markdown",
   "metadata": {},
   "source": [
    "## Checking Multicollinearity "
   ]
  },
  {
   "cell_type": "code",
   "execution_count": 2462,
   "metadata": {},
   "outputs": [
    {
     "data": {
      "text/plain": [
       "Area         3.413009\n",
       "Garage       4.909823\n",
       "FirePlace    2.709009\n",
       "Floors       1.897612\n",
       "City         4.898751\n",
       "Fiber        1.901239\n",
       "dtype: float64"
      ]
     },
     "execution_count": 2462,
     "metadata": {},
     "output_type": "execute_result"
    }
   ],
   "source": [
    "pd.Series([variance_inflation_factor(logisticX.values, i) for i in range(logisticX.shape[1])],index=logisticX.columns)"
   ]
  },
  {
   "cell_type": "markdown",
   "metadata": {},
   "source": [
    "## Interaction Effect - 2"
   ]
  },
  {
   "cell_type": "markdown",
   "metadata": {},
   "source": [
    "Here, I am checking another pair of interacting independent features for our Linear Model 2. \n",
    "\n",
    "As we know, our Linear Model 2 has an Adjusted R Square value of 0.90\n",
    "\n",
    "I am trying to check if two features - Floors and White Marbles, if combined can give better results to our model."
   ]
  },
  {
   "cell_type": "code",
   "execution_count": 2463,
   "metadata": {},
   "outputs": [],
   "source": [
    "df2['WhiteMarble_Floor'] = df2['WhiteMarble']*df2['Floors']\n",
    "x2 = df2[['WhiteMarble_Floor','IndianMarble','City','Fiber']]\n",
    "target2 = df2['Prices']"
   ]
  },
  {
   "cell_type": "code",
   "execution_count": 2464,
   "metadata": {},
   "outputs": [],
   "source": [
    "x2_train, x2_test , target2_train, target2_test = train_test_split(x2,target2,train_size = 0.4)"
   ]
  },
  {
   "cell_type": "code",
   "execution_count": 2465,
   "metadata": {},
   "outputs": [
    {
     "data": {
      "text/plain": [
       "LinearRegression(copy_X=True, fit_intercept=True, n_jobs=None,\n",
       "         normalize=False)"
      ]
     },
     "execution_count": 2465,
     "metadata": {},
     "output_type": "execute_result"
    }
   ],
   "source": [
    "linearmodel2_1 = LinearRegression()\n",
    "linearmodel2_1.fit(x2,target2)"
   ]
  },
  {
   "cell_type": "code",
   "execution_count": 2466,
   "metadata": {},
   "outputs": [
    {
     "data": {
      "text/html": [
       "<table class=\"simpletable\">\n",
       "<caption>OLS Regression Results</caption>\n",
       "<tr>\n",
       "  <th>Dep. Variable:</th>         <td>target3</td>     <th>  R-squared:         </th>  <td>   0.645</td>  \n",
       "</tr>\n",
       "<tr>\n",
       "  <th>Model:</th>                   <td>OLS</td>       <th>  Adj. R-squared:    </th>  <td>   0.645</td>  \n",
       "</tr>\n",
       "<tr>\n",
       "  <th>Method:</th>             <td>Least Squares</td>  <th>  F-statistic:       </th>  <td>2.271e+05</td> \n",
       "</tr>\n",
       "<tr>\n",
       "  <th>Date:</th>             <td>Mon, 25 Feb 2019</td> <th>  Prob (F-statistic):</th>   <td>  0.00</td>   \n",
       "</tr>\n",
       "<tr>\n",
       "  <th>Time:</th>                 <td>23:41:14</td>     <th>  Log-Likelihood:    </th> <td>-5.1515e+06</td>\n",
       "</tr>\n",
       "<tr>\n",
       "  <th>No. Observations:</th>      <td>500000</td>      <th>  AIC:               </th>  <td>1.030e+07</td> \n",
       "</tr>\n",
       "<tr>\n",
       "  <th>Df Residuals:</th>          <td>499995</td>      <th>  BIC:               </th>  <td>1.030e+07</td> \n",
       "</tr>\n",
       "<tr>\n",
       "  <th>Df Model:</th>              <td>     4</td>      <th>                     </th>      <td> </td>     \n",
       "</tr>\n",
       "<tr>\n",
       "  <th>Covariance Type:</th>      <td>nonrobust</td>    <th>                     </th>      <td> </td>     \n",
       "</tr>\n",
       "</table>\n",
       "<table class=\"simpletable\">\n",
       "<tr>\n",
       "          <td></td>             <th>coef</th>     <th>std err</th>      <th>t</th>      <th>P>|t|</th>  <th>[0.025</th>    <th>0.975]</th>  \n",
       "</tr>\n",
       "<tr>\n",
       "  <th>Intercept</th>         <td> 2.836e+04</td> <td>   30.656</td> <td>  925.083</td> <td> 0.000</td> <td> 2.83e+04</td> <td> 2.84e+04</td>\n",
       "</tr>\n",
       "<tr>\n",
       "  <th>WhiteMarble_Floor</th> <td> 1.601e+04</td> <td>   28.891</td> <td>  554.066</td> <td> 0.000</td> <td>  1.6e+04</td> <td> 1.61e+04</td>\n",
       "</tr>\n",
       "<tr>\n",
       "  <th>IndianMarble</th>      <td>-5506.1098</td> <td>   22.804</td> <td> -241.454</td> <td> 0.000</td> <td>-5550.805</td> <td>-5461.415</td>\n",
       "</tr>\n",
       "<tr>\n",
       "  <th>City</th>              <td> 3490.1616</td> <td>   12.503</td> <td>  279.155</td> <td> 0.000</td> <td> 3465.657</td> <td> 3514.666</td>\n",
       "</tr>\n",
       "<tr>\n",
       "  <th>Fiber</th>             <td> 1.176e+04</td> <td>   20.409</td> <td>  576.221</td> <td> 0.000</td> <td> 1.17e+04</td> <td> 1.18e+04</td>\n",
       "</tr>\n",
       "</table>\n",
       "<table class=\"simpletable\">\n",
       "<tr>\n",
       "  <th>Omnibus:</th>       <td>46716.569</td> <th>  Durbin-Watson:     </th> <td>   2.005</td> \n",
       "</tr>\n",
       "<tr>\n",
       "  <th>Prob(Omnibus):</th>  <td> 0.000</td>   <th>  Jarque-Bera (JB):  </th> <td>14394.488</td>\n",
       "</tr>\n",
       "<tr>\n",
       "  <th>Skew:</th>           <td>-0.075</td>   <th>  Prob(JB):          </th> <td>    0.00</td> \n",
       "</tr>\n",
       "<tr>\n",
       "  <th>Kurtosis:</th>       <td> 2.182</td>   <th>  Cond. No.          </th> <td>    8.60</td> \n",
       "</tr>\n",
       "</table><br/><br/>Warnings:<br/>[1] Standard Errors assume that the covariance matrix of the errors is correctly specified."
      ],
      "text/plain": [
       "<class 'statsmodels.iolib.summary.Summary'>\n",
       "\"\"\"\n",
       "                            OLS Regression Results                            \n",
       "==============================================================================\n",
       "Dep. Variable:                target3   R-squared:                       0.645\n",
       "Model:                            OLS   Adj. R-squared:                  0.645\n",
       "Method:                 Least Squares   F-statistic:                 2.271e+05\n",
       "Date:                Mon, 25 Feb 2019   Prob (F-statistic):               0.00\n",
       "Time:                        23:41:14   Log-Likelihood:            -5.1515e+06\n",
       "No. Observations:              500000   AIC:                         1.030e+07\n",
       "Df Residuals:                  499995   BIC:                         1.030e+07\n",
       "Df Model:                           4                                         \n",
       "Covariance Type:            nonrobust                                         \n",
       "=====================================================================================\n",
       "                        coef    std err          t      P>|t|      [0.025      0.975]\n",
       "-------------------------------------------------------------------------------------\n",
       "Intercept          2.836e+04     30.656    925.083      0.000    2.83e+04    2.84e+04\n",
       "WhiteMarble_Floor  1.601e+04     28.891    554.066      0.000     1.6e+04    1.61e+04\n",
       "IndianMarble      -5506.1098     22.804   -241.454      0.000   -5550.805   -5461.415\n",
       "City               3490.1616     12.503    279.155      0.000    3465.657    3514.666\n",
       "Fiber              1.176e+04     20.409    576.221      0.000    1.17e+04    1.18e+04\n",
       "==============================================================================\n",
       "Omnibus:                    46716.569   Durbin-Watson:                   2.005\n",
       "Prob(Omnibus):                  0.000   Jarque-Bera (JB):            14394.488\n",
       "Skew:                          -0.075   Prob(JB):                         0.00\n",
       "Kurtosis:                       2.182   Cond. No.                         8.60\n",
       "==============================================================================\n",
       "\n",
       "Warnings:\n",
       "[1] Standard Errors assume that the covariance matrix of the errors is correctly specified.\n",
       "\"\"\""
      ]
     },
     "execution_count": 2466,
     "metadata": {},
     "output_type": "execute_result"
    }
   ],
   "source": [
    "linearModel2_1 = smapi.ols(formula=\"target3~WhiteMarble_Floor+IndianMarble+City+Fiber\",data = df2).fit()\n",
    "predictions = linearModel2_1.predict(x2)\n",
    "linearModel2_1.summary()"
   ]
  },
  {
   "cell_type": "markdown",
   "metadata": {},
   "source": [
    "As observed, this interaction had no effect on our model but in fact brought down the value of adjusted R square to 0.645.\n",
    "\n",
    "Therefore, this can be disregarded."
   ]
  },
  {
   "cell_type": "markdown",
   "metadata": {},
   "source": [
    "# Regularization.\n",
    "\n",
    "## Ridge Regularization -"
   ]
  },
  {
   "cell_type": "markdown",
   "metadata": {},
   "source": [
    "Regularizations are techniques to reduce model complexity and avoid over-fitting of the model which usually results from regression problems.\n",
    "\n",
    "\n",
    "In Ridge Regularization, known as L2 regularization, the cost of the function is altered by adding a penalty equivalent to square of the magnitude of the coefficients."
   ]
  },
  {
   "cell_type": "code",
   "execution_count": 2467,
   "metadata": {},
   "outputs": [
    {
     "name": "stdout",
     "output_type": "stream",
     "text": [
      "64.54441925683352\n"
     ]
    }
   ],
   "source": [
    "print((linearmodel2_1.score(x2_test,target2_test))*100)"
   ]
  },
  {
   "cell_type": "code",
   "execution_count": 2468,
   "metadata": {},
   "outputs": [],
   "source": [
    "x2 = df2[['WhiteMarble','Floors','IndianMarble','City','Fiber']]\n",
    "target2 = df2['Prices']"
   ]
  },
  {
   "cell_type": "code",
   "execution_count": 2469,
   "metadata": {},
   "outputs": [],
   "source": [
    "x2_train, x2_test , target2_train, target2_test = train_test_split(x2,target2,train_size = 0.4)"
   ]
  },
  {
   "cell_type": "code",
   "execution_count": 2470,
   "metadata": {},
   "outputs": [
    {
     "data": {
      "text/plain": [
       "LinearRegression(copy_X=True, fit_intercept=True, n_jobs=None,\n",
       "         normalize=False)"
      ]
     },
     "execution_count": 2470,
     "metadata": {},
     "output_type": "execute_result"
    }
   ],
   "source": [
    "linearmodel2Reg = LinearRegression()\n",
    "linearmodel2Reg.fit(x2_train,target2_train)"
   ]
  },
  {
   "cell_type": "code",
   "execution_count": 2471,
   "metadata": {},
   "outputs": [],
   "source": [
    "#Low alpha value indicates that the coefficients are hardly restricted.\n",
    "#This also implies that the outcome will be the same as the linear regression.\n",
    "rr = Ridge(alpha = 0.01,normalize=True)"
   ]
  },
  {
   "cell_type": "code",
   "execution_count": 2472,
   "metadata": {},
   "outputs": [
    {
     "data": {
      "text/plain": [
       "Ridge(alpha=0.01, copy_X=True, fit_intercept=True, max_iter=None,\n",
       "   normalize=True, random_state=None, solver='auto', tol=0.001)"
      ]
     },
     "execution_count": 2472,
     "metadata": {},
     "output_type": "execute_result"
    }
   ],
   "source": [
    "rr.fit(x2_train,target2_train)"
   ]
  },
  {
   "cell_type": "code",
   "execution_count": 2473,
   "metadata": {},
   "outputs": [],
   "source": [
    "# High alpha value indicates that there is a strict restriction on the coefficients.\n",
    "rr100 = Ridge(alpha=100,normalize=True)"
   ]
  },
  {
   "cell_type": "code",
   "execution_count": 2474,
   "metadata": {},
   "outputs": [
    {
     "data": {
      "text/plain": [
       "Ridge(alpha=100, copy_X=True, fit_intercept=True, max_iter=None,\n",
       "   normalize=True, random_state=None, solver='auto', tol=0.001)"
      ]
     },
     "execution_count": 2474,
     "metadata": {},
     "output_type": "execute_result"
    }
   ],
   "source": [
    "rr100.fit(x2_train,target2_train)"
   ]
  },
  {
   "cell_type": "code",
   "execution_count": 2475,
   "metadata": {},
   "outputs": [
    {
     "name": "stdout",
     "output_type": "stream",
     "text": [
      "linear regression train score: 90.2854510009477\n",
      "linear regression test score: 90.24026524382458\n",
      "RR regression train score: 90.27762625955604\n",
      "RR regression train score: 90.23520197424331\n",
      "RR100 regression train score: 1.986486078316529\n",
      "RR100 regression train score: 1.988500676638294\n"
     ]
    }
   ],
   "source": [
    "print (\"linear regression train score:\", (linearmodel2Reg.score(x2_train,target2_train)*100))\n",
    "print (\"linear regression test score:\", (linearmodel2Reg.score(x2_test,target2_test)*100))\n",
    "print (\"RR regression train score:\", (rr.score(x2_train,target2_train)*100))\n",
    "print (\"RR regression train score:\", (rr.score(x2_test,target2_test)*100))\n",
    "print (\"RR100 regression train score:\", (rr100.score(x2_train,target2_train)*100))\n",
    "print (\"RR100 regression train score:\", (rr100.score(x2_test,target2_test)*100))"
   ]
  },
  {
   "cell_type": "markdown",
   "metadata": {},
   "source": [
    "## Lasso Regularization - L1\n",
    "\n",
    "This type of regularization can lead to zero coefficients.\n",
    "Here, instead of the square of the coefficients, the magnitude is taken into account. "
   ]
  },
  {
   "cell_type": "code",
   "execution_count": 2476,
   "metadata": {},
   "outputs": [],
   "source": [
    "lasso = Lasso()"
   ]
  },
  {
   "cell_type": "code",
   "execution_count": 2477,
   "metadata": {},
   "outputs": [
    {
     "data": {
      "text/plain": [
       "Lasso(alpha=1.0, copy_X=True, fit_intercept=True, max_iter=1000,\n",
       "   normalize=False, positive=False, precompute=False, random_state=None,\n",
       "   selection='cyclic', tol=0.0001, warm_start=False)"
      ]
     },
     "execution_count": 2477,
     "metadata": {},
     "output_type": "execute_result"
    }
   ],
   "source": [
    "lasso.fit(x2_train,target2_train)"
   ]
  },
  {
   "cell_type": "code",
   "execution_count": 2478,
   "metadata": {},
   "outputs": [
    {
     "name": "stdout",
     "output_type": "stream",
     "text": [
      "90.28544053420919\n"
     ]
    }
   ],
   "source": [
    "print(lasso.score(x2_train,target2_train)*100)"
   ]
  },
  {
   "cell_type": "code",
   "execution_count": 2479,
   "metadata": {},
   "outputs": [
    {
     "name": "stdout",
     "output_type": "stream",
     "text": [
      "90.24035385907521\n"
     ]
    }
   ],
   "source": [
    "print(lasso.score(x2_test,target2_test)*100)"
   ]
  },
  {
   "cell_type": "code",
   "execution_count": 2480,
   "metadata": {},
   "outputs": [
    {
     "data": {
      "text/plain": [
       "Lasso(alpha=0.01, copy_X=True, fit_intercept=True, max_iter=1000,\n",
       "   normalize=False, positive=False, precompute=False, random_state=None,\n",
       "   selection='cyclic', tol=0.0001, warm_start=False)"
      ]
     },
     "execution_count": 2480,
     "metadata": {},
     "output_type": "execute_result"
    }
   ],
   "source": [
    "lasso001 = Lasso(alpha=0.01)\n",
    "lasso001.fit(x2_train,target2_train)"
   ]
  },
  {
   "cell_type": "code",
   "execution_count": 2481,
   "metadata": {},
   "outputs": [
    {
     "name": "stdout",
     "output_type": "stream",
     "text": [
      "90.28545099998452\n",
      "90.24026642921896\n"
     ]
    }
   ],
   "source": [
    "print(lasso001.score(x2_train,target2_train)*100)\n",
    "print(lasso001.score(x2_test,target2_test)*100)"
   ]
  },
  {
   "cell_type": "code",
   "execution_count": 2482,
   "metadata": {},
   "outputs": [
    {
     "data": {
      "text/plain": [
       "Lasso(alpha=100, copy_X=True, fit_intercept=True, max_iter=1000,\n",
       "   normalize=False, positive=False, precompute=False, random_state=None,\n",
       "   selection='cyclic', tol=0.0001, warm_start=False)"
      ]
     },
     "execution_count": 2482,
     "metadata": {},
     "output_type": "execute_result"
    }
   ],
   "source": [
    "lasso00001 = Lasso(alpha=100)\n",
    "lasso00001.fit(x2_train,target2_train)"
   ]
  },
  {
   "cell_type": "code",
   "execution_count": 2483,
   "metadata": {},
   "outputs": [
    {
     "name": "stdout",
     "output_type": "stream",
     "text": [
      "90.17975452706177\n",
      "90.14406129478718\n"
     ]
    }
   ],
   "source": [
    "print(lasso00001.score(x2_train,target2_train)*100)\n",
    "print(lasso00001.score(x2_test,target2_test)*100)"
   ]
  },
  {
   "cell_type": "markdown",
   "metadata": {},
   "source": [
    "# Conclusion\n",
    "\n",
    "From the above models, I can conclude that the model is significant and the Price of the house can be determined with the features given. The best fitting regression models also predict the target variable with 100% accuracy."
   ]
  },
  {
   "cell_type": "markdown",
   "metadata": {},
   "source": [
    "# Contributions\n",
    "\n",
    "Corrected the training and testing parameter to be passed while performing regression\n",
    "\n",
    "Performed regression using multiple features to check the prediction of the output \n",
    "\n",
    "Performed Linear and Logistic regression on the target variable using significant features\n",
    "\n",
    "Plotted visualization graphs for better understanding\n",
    "\n",
    "Checked for multicollinearity\n",
    "\n",
    "Checked for interaction effects\n",
    "\n",
    "Explained the execution to the best of my knowledge\n",
    "\n",
    "Analyzed the dataset\n",
    "\n",
    "Performed Ridge (L2) and Lasso (L1) regularization\n",
    "\n",
    "Personal contribution: 40% External references: 60%"
   ]
  },
  {
   "cell_type": "markdown",
   "metadata": {},
   "source": [
    "# Citations\n",
    "\n",
    "https://www.kaggle.com/greenwing1985/housepricing\n",
    "\n",
    "https://www.youtube.com/watch?v=nzpX5HlFlew\n",
    "\n",
    "https://www.kaggle.com/shivalipatel/house-prices-linear-regression\n",
    "\n",
    "https://stackoverflow.com/questions/19991445/run-an-ols-regression-with-pandas-data-frame\n",
    "\n",
    "http://blog.yhat.com/posts/logistic-regression-and-python.html\n",
    "\n",
    "https://www.datacamp.com/community/tutorials/understanding-logistic-regression-python\n",
    "\n",
    "http://www.data-mania.com/blog/logistic-regression-example-in-python/\n",
    "\n",
    "https://etav.github.io/python/vif_factor_python.html\n",
    "\n",
    "https://stackoverflow.com/questions/42658379/variance-inflation-factor-in-python\n",
    "\n",
    "https://newonlinecourses.science.psu.edu/stat501/node/250/\n",
    "\n",
    "https://towardsdatascience.com/ridge-and-lasso-regression-a-complete-guide-with-python-scikit-learn-e20e34bcbf0b\n",
    "\n",
    "http://methods.sagepub.com/reference/encyclopedia-of-survey-research-methods/n226.xml\n",
    "\n",
    "https://en.wikipedia.org/wiki/Confusion_matrix"
   ]
  },
  {
   "cell_type": "markdown",
   "metadata": {},
   "source": [
    "# License\n",
    "\n",
    "Copyright 2019 Vishaka Varma Vimal\n",
    "\n",
    "Permission is hereby granted, free of charge, to any person obtaining a copy of this software and associated documentation files (the \"Software\"), to deal in the Software without restriction, including without limitation the rights to use, copy, modify, merge, publish, distribute, sublicense, and/or sell copies of the Software, and to permit persons to whom the Software is furnished to do so, subject to the following conditions:\n",
    "\n",
    "The above copyright notice and this permission notice shall be included in all copies or substantial portions of the Software.\n",
    "\n",
    "THE SOFTWARE IS PROVIDED \"AS IS\", WITHOUT WARRANTY OF ANY KIND, EXPRESS OR IMPLIED, INCLUDING BUT NOT LIMITED TO THE WARRANTIES OF MERCHANTABILITY, FITNESS FOR A PARTICULAR PURPOSE AND NONINFRINGEMENT. IN NO EVENT SHALL THE AUTHORS OR COPYRIGHT HOLDERS BE LIABLE FOR ANY CLAIM, DAMAGES OR OTHER LIABILITY, WHETHER IN AN ACTION OF CONTRACT, TORT OR OTHERWISE, ARISING FROM, OUT OF OR IN CONNECTION WITH THE SOFTWARE OR THE USE OR OTHER DEALINGS IN THE SOFTWARE."
   ]
  }
 ],
 "metadata": {
  "kernelspec": {
   "display_name": "Python 3",
   "language": "python",
   "name": "python3"
  },
  "language_info": {
   "codemirror_mode": {
    "name": "ipython",
    "version": 3
   },
   "file_extension": ".py",
   "mimetype": "text/x-python",
   "name": "python",
   "nbconvert_exporter": "python",
   "pygments_lexer": "ipython3",
   "version": "3.8.5"
  }
 },
 "nbformat": 4,
 "nbformat_minor": 2
}
